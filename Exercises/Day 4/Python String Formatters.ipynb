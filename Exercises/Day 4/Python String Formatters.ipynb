{
 "cells": [
  {
   "cell_type": "markdown",
   "id": "75c293f0",
   "metadata": {},
   "source": [
    "Source: https://realpython.com/python-string-formatting/ "
   ]
  },
  {
   "cell_type": "markdown",
   "id": "37711ff8",
   "metadata": {},
   "source": [
    "# String formatters "
   ]
  },
  {
   "cell_type": "markdown",
   "id": "a4d894b0",
   "metadata": {},
   "source": [
    "String formatters are particularly useful when we want to create generic python scripts (that means one script that we can re-use with different variables)."
   ]
  },
  {
   "cell_type": "code",
   "execution_count": 3,
   "id": "8e1df5e5",
   "metadata": {},
   "outputs": [],
   "source": [
    "name = \"Eleni\""
   ]
  },
  {
   "cell_type": "code",
   "execution_count": 4,
   "id": "686cbd58",
   "metadata": {},
   "outputs": [
    {
     "name": "stdout",
     "output_type": "stream",
     "text": [
      "Happy Birtday, Eleni!\n"
     ]
    }
   ],
   "source": [
    "print(f'Happy Birtday, {name}!')"
   ]
  },
  {
   "cell_type": "code",
   "execution_count": 5,
   "id": "d861464e",
   "metadata": {},
   "outputs": [
    {
     "name": "stdout",
     "output_type": "stream",
     "text": [
      "Happy Birthday, Elena!\n"
     ]
    }
   ],
   "source": [
    "print(\"Happy Birthday, Elena!\")"
   ]
  },
  {
   "cell_type": "markdown",
   "id": "9a022118",
   "metadata": {},
   "source": [
    "So, coming back to the Mark Zuckerberg explanation about computational thinking, if we would like to wish Happy Birthday to everybody in this class, we could write a for loop with just 2 lines of code using string formatters:"
   ]
  },
  {
   "cell_type": "code",
   "execution_count": 6,
   "id": "b83070aa",
   "metadata": {},
   "outputs": [],
   "source": [
    "names = [\"Anica\", \"Lidia\", \"James\", \"Fabienne\", \"Tobias\", \"Lena\", \"Eveline\", \"Eleni\", \"Zeynep\", \"Saskia\", \"Mikhael\",\n",
    "         \"Adrian\", \"Christoph\", \"Sophia\", \"Sarven\"]\n",
    "         "
   ]
  },
  {
   "cell_type": "code",
   "execution_count": 7,
   "id": "e8a803c5",
   "metadata": {},
   "outputs": [
    {
     "name": "stdout",
     "output_type": "stream",
     "text": [
      "Happy Birthday, Anica!\n",
      "Happy Birthday, Lidia!\n",
      "Happy Birthday, James!\n",
      "Happy Birthday, Fabienne!\n",
      "Happy Birthday, Tobias!\n",
      "Happy Birthday, Lena!\n",
      "Happy Birthday, Eveline!\n",
      "Happy Birthday, Eleni!\n",
      "Happy Birthday, Zeynep!\n",
      "Happy Birthday, Saskia!\n",
      "Happy Birthday, Mikhael!\n",
      "Happy Birthday, Adrian!\n",
      "Happy Birthday, Christoph!\n",
      "Happy Birthday, Sophia!\n",
      "Happy Birthday, Sarven!\n"
     ]
    }
   ],
   "source": [
    "for i in names:\n",
    "    print(f\"Happy Birthday, {i}!\")"
   ]
  },
  {
   "cell_type": "code",
   "execution_count": null,
   "id": "4e2ed7d1",
   "metadata": {},
   "outputs": [],
   "source": []
  }
 ],
 "metadata": {
  "kernelspec": {
   "display_name": "Python 3 (ipykernel)",
   "language": "python",
   "name": "python3"
  },
  "language_info": {
   "codemirror_mode": {
    "name": "ipython",
    "version": 3
   },
   "file_extension": ".py",
   "mimetype": "text/x-python",
   "name": "python",
   "nbconvert_exporter": "python",
   "pygments_lexer": "ipython3",
   "version": "3.11.7"
  }
 },
 "nbformat": 4,
 "nbformat_minor": 5
}
