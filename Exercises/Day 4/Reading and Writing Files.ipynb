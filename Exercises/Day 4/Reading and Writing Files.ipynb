{
 "cells": [
  {
   "cell_type": "markdown",
   "id": "75ba34c5",
   "metadata": {},
   "source": [
    "(C) Elena Fernández Fernández"
   ]
  },
  {
   "cell_type": "markdown",
   "id": "609dc48d",
   "metadata": {},
   "source": [
    "# 1. Opening and Writing files"
   ]
  },
  {
   "cell_type": "markdown",
   "id": "cc29a46f",
   "metadata": {},
   "source": [
    "Opening and reading files is a very important task in Python! We will use the two methods that we have learnt so far."
   ]
  },
  {
   "cell_type": "markdown",
   "id": "61d03468",
   "metadata": {},
   "source": [
    "# With open:"
   ]
  },
  {
   "cell_type": "markdown",
   "id": "1e329506",
   "metadata": {},
   "source": [
    "Import the \"Emma.txt\" data, that contains the first chapter of the novel Emma, by Jane Austen, using **with open()**"
   ]
  },
  {
   "cell_type": "code",
   "execution_count": 14,
   "id": "240e64ac",
   "metadata": {},
   "outputs": [],
   "source": [
    "#Your code in here"
   ]
  },
  {
   "cell_type": "code",
   "execution_count": 15,
   "id": "590b34f2",
   "metadata": {},
   "outputs": [],
   "source": [
    "#Solution"
   ]
  },
  {
   "cell_type": "code",
   "execution_count": 1,
   "id": "d782ed49",
   "metadata": {},
   "outputs": [],
   "source": [
    "with open(\"Emma.txt\", \"r\", encoding = \"utf-8\") as f:\n",
    "    data_emma = f.read()"
   ]
  },
  {
   "cell_type": "code",
   "execution_count": 2,
   "id": "fea3d6e9",
   "metadata": {},
   "outputs": [
    {
     "data": {
      "text/plain": [
       "'[Emma by Jane Austen 1816]\\n\\nVOLUME I\\n\\nCHAPTER I\\n\\n\\nEmma Woodhouse, handsome, clever, and rich, with a comfortable home\\nand happy disposition, seemed to unite some of the best blessings\\nof existence; and had lived nearly twenty-one years in the world\\nwith very little to distress or vex her.\\n\\nShe was the youngest of the two daughters of a most affectionate,\\nindulgent father; and had, in consequence of her sister\\'s marriage,\\nbeen mistress of his house from a very early period.  Her mother\\nhad died too long ago for her to have more than an indistinct\\nremembrance of her caresses; and her place had been supplied\\nby an excellent woman as governess, who had fallen little short\\nof a mother in affection.\\n\\nSixteen years had Miss Taylor been in Mr. Woodhouse\\'s family,\\nless as a governess than a friend, very fond of both daughters,\\nbut particularly of Emma.  Between _them_ it was more the intimacy\\nof sisters.  Even before Miss Taylor had ceased to hold the nominal\\noffice of governess, the mildness of her temper had hardly allowed\\nher to impose any restraint; and the shadow of authority being\\nnow long passed away, they had been living together as friend and\\nfriend very mutually attached, and Emma doing just what she liked;\\nhighly esteeming Miss Taylor\\'s judgment, but directed chiefly by\\nher own.\\n\\nThe real evils, indeed, of Emma\\'s situation were the power of having\\nrather too much her own way, and a disposition to think a little\\ntoo well of herself; these were the disadvantages which threatened\\nalloy to her many enjoyments.  The danger, however, was at present\\nso unperceived, that they did not by any means rank as misfortunes\\nwith her.\\n\\nSorrow came--a gentle sorrow--but not at all in the shape of any\\ndisagreeable consciousness.--Miss Taylor married.  It was Miss\\nTaylor\\'s loss which first brought grief.  It was on the wedding-day\\nof this beloved friend that Emma first sat in mournful thought\\nof any continuance.  The wedding over, and the bride-people gone,\\nher father and herself were left to dine together, with no prospect\\nof a third to cheer a long evening.  Her father composed himself\\nto sleep after dinner, as usual, and she had then only to sit\\nand think of what she had lost.\\n\\nThe event had every promise of happiness for her friend.  Mr. Weston\\nwas a man of unexceptionable character, easy fortune, suitable age,\\nand pleasant manners; and there was some satisfaction in considering\\nwith what self-denying, generous friendship she had always wished\\nand promoted the match; but it was a black morning\\'s work for her.\\nThe want of Miss Taylor would be felt every hour of every day.\\nShe recalled her past kindness--the kindness, the affection of sixteen\\nyears--how she had taught and how she had played with her from five\\nyears old--how she had devoted all her powers to attach and amuse\\nher in health--and how nursed her through the various illnesses\\nof childhood.  A large debt of gratitude was owing here; but the\\nintercourse of the last seven years, the equal footing and perfect\\nunreserve which had soon followed Isabella\\'s marriage, on their\\nbeing left to each other, was yet a dearer, tenderer recollection.\\nShe had been a friend and companion such as few possessed: intelligent,\\nwell-informed, useful, gentle, knowing all the ways of the family,\\ninterested in all its concerns, and peculiarly interested in herself,\\nin every pleasure, every scheme of hers--one to whom she could speak\\nevery thought as it arose, and who had such an affection for her\\nas could never find fault.\\n\\nHow was she to bear the change?--It was true that her friend was\\ngoing only half a mile from them; but Emma was aware that great must\\nbe the difference between a Mrs. Weston, only half a mile from them,\\nand a Miss Taylor in the house; and with all her advantages,\\nnatural and domestic, she was now in great danger of suffering\\nfrom intellectual solitude.  She dearly loved her father, but he\\nwas no companion for her.  He could not meet her in conversation,\\nrational or playful.\\n\\nThe evil of the actual disparity in their ages (and Mr. Woodhouse had\\nnot married early) was much increased by his constitution and habits;\\nfor having been a valetudinarian all his life, without activity\\nof mind or body, he was a much older man in ways than in years;\\nand though everywhere beloved for the friendliness of his heart\\nand his amiable temper, his talents could not have recommended him\\nat any time.\\n\\nHer sister, though comparatively but little removed by matrimony,\\nbeing settled in London, only sixteen miles off, was much beyond\\nher daily reach; and many a long October and November evening must\\nbe struggled through at Hartfield, before Christmas brought the next\\nvisit from Isabella and her husband, and their little children,\\nto fill the house, and give her pleasant society again.\\n\\nHighbury, the large and populous village, almost amounting to a town,\\nto which Hartfield, in spite of its separate lawn, and shrubberies,\\nand name, did really belong, afforded her no equals.  The Woodhouses\\nwere first in consequence there.  All looked up to them.  She had\\nmany acquaintance in the place, for her father was universally civil,\\nbut not one among them who could be accepted in lieu of Miss\\nTaylor for even half a day.  It was a melancholy change; and Emma\\ncould not but sigh over it, and wish for impossible things,\\ntill her father awoke, and made it necessary to be cheerful.\\nHis spirits required support.  He was a nervous man, easily depressed;\\nfond of every body that he was used to, and hating to part with them;\\nhating change of every kind.  Matrimony, as the origin of change,\\nwas always disagreeable; and he was by no means yet reconciled\\nto his own daughter\\'s marrying, nor could ever speak of her but\\nwith compassion, though it had been entirely a match of affection,\\nwhen he was now obliged to part with Miss Taylor too; and from\\nhis habits of gentle selfishness, and of being never able to\\nsuppose that other people could feel differently from himself,\\nhe was very much disposed to think Miss Taylor had done as sad\\na thing for herself as for them, and would have been a great deal\\nhappier if she had spent all the rest of her life at Hartfield.\\nEmma smiled and chatted as cheerfully as she could, to keep him\\nfrom such thoughts; but when tea came, it was impossible for him\\nnot to say exactly as he had said at dinner,\\n\\n\"Poor Miss Taylor!--I wish she were here again.  What a pity it\\nis that Mr. Weston ever thought of her!\"\\n\\n\"I cannot agree with you, papa; you know I cannot.  Mr. Weston is such\\na good-humoured, pleasant, excellent man, that he thoroughly deserves\\na good wife;--and you would not have had Miss Taylor live with us\\nfor ever, and bear all my odd humours, when she might have a house of her own?\"\\n\\n\"A house of her own!--But where is the advantage of a house of her own?\\nThis is three times as large.--And you have never any odd humours,\\nmy dear.\"\\n\\n\"How often we shall be going to see them, and they coming to see\\nus!--We shall be always meeting! _We_ must begin; we must go and pay\\nwedding visit very soon.\"\\n\\n\"My dear, how am I to get so far? Randalls is such a distance.\\nI could not walk half so far.\"\\n\\n\"No, papa, nobody thought of your walking.  We must go in the carriage,\\nto be sure.\"\\n\\n\"The carriage! But James will not like to put the horses to for\\nsuch a little way;--and where are the poor horses to be while we\\nare paying our visit?\"\\n\\n\"They are to be put into Mr. Weston\\'s stable, papa.  You know we\\nhave settled all that already.  We talked it all over with Mr. Weston\\nlast night.  And as for James, you may be very sure he will always like\\ngoing to Randalls, because of his daughter\\'s being housemaid there.\\nI only doubt whether he will ever take us anywhere else.  That was\\nyour doing, papa.  You got Hannah that good place.  Nobody thought\\nof Hannah till you mentioned her--James is so obliged to you!\"\\n\\n\"I am very glad I did think of her.  It was very lucky, for I would\\nnot have had poor James think himself slighted upon any account;\\nand I am sure she will make a very good servant: she is a civil,\\npretty-spoken girl; I have a great opinion of her.  Whenever I see her,\\nshe always curtseys and asks me how I do, in a very pretty manner;\\nand when you have had her here to do needlework, I observe she\\nalways turns the lock of the door the right way and never bangs it.\\nI am sure she will be an excellent servant; and it will be a great\\ncomfort to poor Miss Taylor to have somebody about her that she is\\nused to see.  Whenever James goes over to see his daughter, you know,\\nshe will be hearing of us.  He will be able to tell her how we\\nall are.\"\\n\\nEmma spared no exertions to maintain this happier flow of ideas,\\nand hoped, by the help of backgammon, to get her father tolerably\\nthrough the evening, and be attacked by no regrets but her own.\\nThe backgammon-table was placed; but a visitor immediately afterwards\\nwalked in and made it unnecessary.\\n\\nMr. Knightley, a sensible man about seven or eight-and-thirty, was not\\nonly a very old and intimate friend of the family, but particularly\\nconnected with it, as the elder brother of Isabella\\'s husband.\\nHe lived about a mile from Highbury, was a frequent visitor,\\nand always welcome, and at this time more welcome than usual,\\nas coming directly from their mutual connexions in London.  He had\\nreturned to a late dinner, after some days\\' absence, and now walked\\nup to Hartfield to say that all were well in Brunswick Square.\\nIt was a happy circumstance, and animated Mr. Woodhouse for some time.\\nMr. Knightley had a cheerful manner, which always did him good;\\nand his many inquiries after \"poor Isabella\" and her children were\\nanswered most satisfactorily.  When this was over, Mr. Woodhouse\\ngratefully observed, \"It is very kind of you, Mr. Knightley, to come\\nout at this late hour to call upon us.  I am afraid you must have\\nhad a shocking walk.\"\\n\\n\"Not at all, sir.  It is a beautiful moonlight night; and so mild\\nthat I must draw back from your great fire.\"\\n\\n\"But you must have found it very damp and dirty.  I wish you may\\nnot catch cold.\"\\n\\n\"Dirty, sir! Look at my shoes.  Not a speck on them.\"\\n\\n\"Well! that is quite surprising, for we have had a vast deal\\nof rain here.  It rained dreadfully hard for half an hour\\nwhile we were at breakfast.  I wanted them to put off the wedding.\"\\n\\n\"By the bye--I have not wished you joy.  Being pretty well aware\\nof what sort of joy you must both be feeling, I have been in no hurry\\nwith my congratulations; but I hope it all went off tolerably well.\\nHow did you all behave? Who cried most?\"\\n\\n\"Ah! poor Miss Taylor! \\'Tis a sad business.\"\\n\\n\"Poor Mr. and Miss Woodhouse, if you please; but I cannot possibly\\nsay `poor Miss Taylor.\\' I have a great regard for you and Emma;\\nbut when it comes to the question of dependence or independence!--At\\nany rate, it must be better to have only one to please than two.\"\\n\\n\"Especially when _one_ of those two is such a fanciful, troublesome creature!\"\\nsaid Emma playfully.  \"That is what you have in your head,\\nI know--and what you would certainly say if my father were not by.\"\\n\\n\"I believe it is very true, my dear, indeed,\" said Mr. Woodhouse,\\nwith a sigh.  \"I am afraid I am sometimes very fanciful and troublesome.\"\\n\\n\"My dearest papa! You do not think I could mean _you_, or suppose\\nMr. Knightley to mean _you_.  What a horrible idea! Oh no! I meant\\nonly myself.  Mr. Knightley loves to find fault with me, you know--\\nin a joke--it is all a joke.  We always say what we like to one another.\"\\n\\nMr. Knightley, in fact, was one of the few people who could see\\nfaults in Emma Woodhouse, and the only one who ever told her of them:\\nand though this was not particularly agreeable to Emma herself,\\nshe knew it would be so much less so to her father, that she would\\nnot have him really suspect such a circumstance as her not being\\nthought perfect by every body.\\n\\n\"Emma knows I never flatter her,\" said Mr. Knightley, \"but I\\nmeant no reflection on any body.  Miss Taylor has been used\\nto have two persons to please; she will now have but one.\\nThe chances are that she must be a gainer.\"\\n\\n\"Well,\" said Emma, willing to let it pass--\"you want to hear\\nabout the wedding; and I shall be happy to tell you, for we all\\nbehaved charmingly.  Every body was punctual, every body in their\\nbest looks: not a tear, and hardly a long face to be seen.  Oh no;\\nwe all felt that we were going to be only half a mile apart,\\nand were sure of meeting every day.\"\\n\\n\"Dear Emma bears every thing so well,\" said her father.\\n\"But, Mr. Knightley, she is really very sorry to lose poor Miss Taylor,\\nand I am sure she _will_ miss her more than she thinks for.\"\\n\\nEmma turned away her head, divided between tears and smiles.\\n\"It is impossible that Emma should not miss such a companion,\"\\nsaid Mr. Knightley.  \"We should not like her so well as we do, sir,\\nif we could suppose it; but she knows how much the marriage is to\\nMiss Taylor\\'s advantage; she knows how very acceptable it must be,\\nat Miss Taylor\\'s time of life, to be settled in a home of her own,\\nand how important to her to be secure of a comfortable provision,\\nand therefore cannot allow herself to feel so much pain as pleasure.\\nEvery friend of Miss Taylor must be glad to have her so happily\\nmarried.\"\\n\\n\"And you have forgotten one matter of joy to me,\" said Emma,\\n\"and a very considerable one--that I made the match myself.\\nI made the match, you know, four years ago; and to have it take place,\\nand be proved in the right, when so many people said Mr. Weston would\\nnever marry again, may comfort me for any thing.\"\\n\\nMr. Knightley shook his head at her.  Her father fondly replied,\\n\"Ah! my dear, I wish you would not make matches and foretell things,\\nfor whatever you say always comes to pass.  Pray do not make any\\nmore matches.\"\\n\\n\"I promise you to make none for myself, papa; but I must, indeed,\\nfor other people.  It is the greatest amusement in the world! And\\nafter such success, you know!--Every body said that Mr. Weston would\\nnever marry again.  Oh dear, no! Mr. Weston, who had been a widower\\nso long, and who seemed so perfectly comfortable without a wife,\\nso constantly occupied either in his business in town or among his\\nfriends here, always acceptable wherever he went, always cheerful--\\nMr. Weston need not spend a single evening in the year alone if he did\\nnot like it.  Oh no! Mr. Weston certainly would never marry again.\\nSome people even talked of a promise to his wife on her deathbed,\\nand others of the son and the uncle not letting him.  All manner\\nof solemn nonsense was talked on the subject, but I believed none\\nof it.\\n\\n\"Ever since the day--about four years ago--that Miss Taylor and I\\nmet with him in Broadway Lane, when, because it began to drizzle,\\nhe darted away with so much gallantry, and borrowed two umbrellas\\nfor us from Farmer Mitchell\\'s, I made up my mind on the subject.\\nI planned the match from that hour; and when such success has blessed\\nme in this instance, dear papa, you cannot think that I shall leave\\noff match-making.\"\\n\\n\"I do not understand what you mean by `success,\\'\" said Mr. Knightley.\\n\"Success supposes endeavour.  Your time has been properly and\\ndelicately spent, if you have been endeavouring for the last four\\nyears to bring about this marriage.  A worthy employment for a young\\nlady\\'s mind! But if, which I rather imagine, your making the match,\\nas you call it, means only your planning it, your saying to yourself\\none idle day, `I think it would be a very good thing for Miss Taylor\\nif Mr. Weston were to marry her,\\' and saying it again to yourself\\nevery now and then afterwards, why do you talk of success? Where\\nis your merit? What are you proud of? You made a lucky guess;\\nand _that_ is all that can be said.\"\\n\\n\"And have you never known the pleasure and triumph of a lucky guess?--\\nI pity you.--I thought you cleverer--for, depend upon it a lucky\\nguess is never merely luck.  There is always some talent in it.\\nAnd as to my poor word `success,\\' which you quarrel with, I do not\\nknow that I am so entirely without any claim to it.  You have drawn\\ntwo pretty pictures; but I think there may be a third--a something\\nbetween the do-nothing and the do-all. If I had not promoted Mr. Weston\\'s\\nvisits here, and given many little encouragements, and smoothed\\nmany little matters, it might not have come to any thing after all.\\nI think you must know Hartfield enough to comprehend that.\"\\n\\n\"A straightforward, open-hearted man like Weston, and a rational,\\nunaffected woman like Miss Taylor, may be safely left to manage their\\nown concerns.  You are more likely to have done harm to yourself,\\nthan good to them, by interference.\"\\n\\n\"Emma never thinks of herself, if she can do good to others,\"\\nrejoined Mr. Woodhouse, understanding but in part.  \"But, my dear,\\npray do not make any more matches; they are silly things, and break up\\none\\'s family circle grievously.\"\\n\\n\"Only one more, papa; only for Mr. Elton.  Poor Mr. Elton! You\\nlike Mr. Elton, papa,--I must look about for a wife for him.\\nThere is nobody in Highbury who deserves him--and he has been\\nhere a whole year, and has fitted up his house so comfortably,\\nthat it would be a shame to have him single any longer--and I thought\\nwhen he was joining their hands to-day, he looked so very much as if\\nhe would like to have the same kind office done for him! I think\\nvery well of Mr. Elton, and this is the only way I have of doing\\nhim a service.\"\\n\\n\"Mr. Elton is a very pretty young man, to be sure, and a very\\ngood young man, and I have a great regard for him.  But if you\\nwant to shew him any attention, my dear, ask him to come\\nand dine with us some day.  That will be a much better thing.\\nI dare say Mr. Knightley will be so kind as to meet him.\"\\n\\n\"With a great deal of pleasure, sir, at any time,\" said Mr. Knightley,\\nlaughing, \"and I agree with you entirely, that it will be a much\\nbetter thing.  Invite him to dinner, Emma, and help him to the best\\nof the fish and the chicken, but leave him to chuse his own wife.\\nDepend upon it, a man of six or seven-and-twenty can take care\\nof himself.\"\\n'"
      ]
     },
     "execution_count": 2,
     "metadata": {},
     "output_type": "execute_result"
    }
   ],
   "source": [
    "data_emma"
   ]
  },
  {
   "cell_type": "markdown",
   "id": "e43dcd78",
   "metadata": {},
   "source": [
    "Check out the type of data"
   ]
  },
  {
   "cell_type": "code",
   "execution_count": 3,
   "id": "6bd4ba45",
   "metadata": {},
   "outputs": [],
   "source": [
    "#Your code in here"
   ]
  },
  {
   "cell_type": "code",
   "execution_count": 4,
   "id": "a5afb813",
   "metadata": {},
   "outputs": [
    {
     "data": {
      "text/plain": [
       "str"
      ]
     },
     "execution_count": 4,
     "metadata": {},
     "output_type": "execute_result"
    }
   ],
   "source": [
    "#Solution\n",
    "\n",
    "type(data_emma) #it's a string!"
   ]
  },
  {
   "cell_type": "markdown",
   "id": "e056b712",
   "metadata": {},
   "source": [
    "Check out the length of the data "
   ]
  },
  {
   "cell_type": "code",
   "execution_count": 5,
   "id": "34df93e8",
   "metadata": {},
   "outputs": [],
   "source": [
    "#Your code in here"
   ]
  },
  {
   "cell_type": "code",
   "execution_count": 5,
   "id": "383bb05b",
   "metadata": {},
   "outputs": [
    {
     "data": {
      "text/plain": [
       "17989"
      ]
     },
     "execution_count": 5,
     "metadata": {},
     "output_type": "execute_result"
    }
   ],
   "source": [
    "#Solution\n",
    "\n",
    "len(data_emma) #it's a very long string!"
   ]
  },
  {
   "cell_type": "code",
   "execution_count": 7,
   "id": "3ee66c97",
   "metadata": {},
   "outputs": [],
   "source": [
    "#Your code in here"
   ]
  },
  {
   "cell_type": "code",
   "execution_count": 6,
   "id": "776eb09d",
   "metadata": {},
   "outputs": [
    {
     "data": {
      "text/plain": [
       "'m'"
      ]
     },
     "execution_count": 6,
     "metadata": {},
     "output_type": "execute_result"
    }
   ],
   "source": [
    "#Solution\n",
    "data_emma[3]"
   ]
  },
  {
   "cell_type": "markdown",
   "id": "627237c5",
   "metadata": {},
   "source": [
    "Let's use what we have learnt regarding string methods (slide 59 of the power point presentation). Write a script that transforms the string of the text file into a list. Instead of a comma, write down a full stop. In this way we will be building a list of sentences."
   ]
  },
  {
   "cell_type": "code",
   "execution_count": 9,
   "id": "19ef068d",
   "metadata": {},
   "outputs": [],
   "source": [
    "#Your code in here"
   ]
  },
  {
   "cell_type": "code",
   "execution_count": 7,
   "id": "a894b509",
   "metadata": {},
   "outputs": [],
   "source": [
    "#Solution\n",
    "parsed_data = [x.strip() for x in data_emma.split(\".\")]"
   ]
  },
  {
   "cell_type": "code",
   "execution_count": 8,
   "id": "3c4cfa60",
   "metadata": {},
   "outputs": [
    {
     "data": {
      "text/plain": [
       "['[Emma by Jane Austen 1816]\\n\\nVOLUME I\\n\\nCHAPTER I\\n\\n\\nEmma Woodhouse, handsome, clever, and rich, with a comfortable home\\nand happy disposition, seemed to unite some of the best blessings\\nof existence; and had lived nearly twenty-one years in the world\\nwith very little to distress or vex her',\n",
       " \"She was the youngest of the two daughters of a most affectionate,\\nindulgent father; and had, in consequence of her sister's marriage,\\nbeen mistress of his house from a very early period\",\n",
       " 'Her mother\\nhad died too long ago for her to have more than an indistinct\\nremembrance of her caresses; and her place had been supplied\\nby an excellent woman as governess, who had fallen little short\\nof a mother in affection',\n",
       " 'Sixteen years had Miss Taylor been in Mr',\n",
       " \"Woodhouse's family,\\nless as a governess than a friend, very fond of both daughters,\\nbut particularly of Emma\",\n",
       " 'Between _them_ it was more the intimacy\\nof sisters',\n",
       " \"Even before Miss Taylor had ceased to hold the nominal\\noffice of governess, the mildness of her temper had hardly allowed\\nher to impose any restraint; and the shadow of authority being\\nnow long passed away, they had been living together as friend and\\nfriend very mutually attached, and Emma doing just what she liked;\\nhighly esteeming Miss Taylor's judgment, but directed chiefly by\\nher own\",\n",
       " \"The real evils, indeed, of Emma's situation were the power of having\\nrather too much her own way, and a disposition to think a little\\ntoo well of herself; these were the disadvantages which threatened\\nalloy to her many enjoyments\",\n",
       " 'The danger, however, was at present\\nso unperceived, that they did not by any means rank as misfortunes\\nwith her',\n",
       " 'Sorrow came--a gentle sorrow--but not at all in the shape of any\\ndisagreeable consciousness',\n",
       " '--Miss Taylor married',\n",
       " \"It was Miss\\nTaylor's loss which first brought grief\",\n",
       " 'It was on the wedding-day\\nof this beloved friend that Emma first sat in mournful thought\\nof any continuance',\n",
       " 'The wedding over, and the bride-people gone,\\nher father and herself were left to dine together, with no prospect\\nof a third to cheer a long evening',\n",
       " 'Her father composed himself\\nto sleep after dinner, as usual, and she had then only to sit\\nand think of what she had lost',\n",
       " 'The event had every promise of happiness for her friend',\n",
       " 'Mr',\n",
       " \"Weston\\nwas a man of unexceptionable character, easy fortune, suitable age,\\nand pleasant manners; and there was some satisfaction in considering\\nwith what self-denying, generous friendship she had always wished\\nand promoted the match; but it was a black morning's work for her\",\n",
       " 'The want of Miss Taylor would be felt every hour of every day',\n",
       " 'She recalled her past kindness--the kindness, the affection of sixteen\\nyears--how she had taught and how she had played with her from five\\nyears old--how she had devoted all her powers to attach and amuse\\nher in health--and how nursed her through the various illnesses\\nof childhood',\n",
       " \"A large debt of gratitude was owing here; but the\\nintercourse of the last seven years, the equal footing and perfect\\nunreserve which had soon followed Isabella's marriage, on their\\nbeing left to each other, was yet a dearer, tenderer recollection\",\n",
       " 'She had been a friend and companion such as few possessed: intelligent,\\nwell-informed, useful, gentle, knowing all the ways of the family,\\ninterested in all its concerns, and peculiarly interested in herself,\\nin every pleasure, every scheme of hers--one to whom she could speak\\nevery thought as it arose, and who had such an affection for her\\nas could never find fault',\n",
       " 'How was she to bear the change?--It was true that her friend was\\ngoing only half a mile from them; but Emma was aware that great must\\nbe the difference between a Mrs',\n",
       " 'Weston, only half a mile from them,\\nand a Miss Taylor in the house; and with all her advantages,\\nnatural and domestic, she was now in great danger of suffering\\nfrom intellectual solitude',\n",
       " 'She dearly loved her father, but he\\nwas no companion for her',\n",
       " 'He could not meet her in conversation,\\nrational or playful',\n",
       " 'The evil of the actual disparity in their ages (and Mr',\n",
       " 'Woodhouse had\\nnot married early) was much increased by his constitution and habits;\\nfor having been a valetudinarian all his life, without activity\\nof mind or body, he was a much older man in ways than in years;\\nand though everywhere beloved for the friendliness of his heart\\nand his amiable temper, his talents could not have recommended him\\nat any time',\n",
       " 'Her sister, though comparatively but little removed by matrimony,\\nbeing settled in London, only sixteen miles off, was much beyond\\nher daily reach; and many a long October and November evening must\\nbe struggled through at Hartfield, before Christmas brought the next\\nvisit from Isabella and her husband, and their little children,\\nto fill the house, and give her pleasant society again',\n",
       " 'Highbury, the large and populous village, almost amounting to a town,\\nto which Hartfield, in spite of its separate lawn, and shrubberies,\\nand name, did really belong, afforded her no equals',\n",
       " 'The Woodhouses\\nwere first in consequence there',\n",
       " 'All looked up to them',\n",
       " 'She had\\nmany acquaintance in the place, for her father was universally civil,\\nbut not one among them who could be accepted in lieu of Miss\\nTaylor for even half a day',\n",
       " 'It was a melancholy change; and Emma\\ncould not but sigh over it, and wish for impossible things,\\ntill her father awoke, and made it necessary to be cheerful',\n",
       " 'His spirits required support',\n",
       " 'He was a nervous man, easily depressed;\\nfond of every body that he was used to, and hating to part with them;\\nhating change of every kind',\n",
       " \"Matrimony, as the origin of change,\\nwas always disagreeable; and he was by no means yet reconciled\\nto his own daughter's marrying, nor could ever speak of her but\\nwith compassion, though it had been entirely a match of affection,\\nwhen he was now obliged to part with Miss Taylor too; and from\\nhis habits of gentle selfishness, and of being never able to\\nsuppose that other people could feel differently from himself,\\nhe was very much disposed to think Miss Taylor had done as sad\\na thing for herself as for them, and would have been a great deal\\nhappier if she had spent all the rest of her life at Hartfield\",\n",
       " 'Emma smiled and chatted as cheerfully as she could, to keep him\\nfrom such thoughts; but when tea came, it was impossible for him\\nnot to say exactly as he had said at dinner,\\n\\n\"Poor Miss Taylor!--I wish she were here again',\n",
       " 'What a pity it\\nis that Mr',\n",
       " 'Weston ever thought of her!\"\\n\\n\"I cannot agree with you, papa; you know I cannot',\n",
       " 'Mr',\n",
       " 'Weston is such\\na good-humoured, pleasant, excellent man, that he thoroughly deserves\\na good wife;--and you would not have had Miss Taylor live with us\\nfor ever, and bear all my odd humours, when she might have a house of her own?\"\\n\\n\"A house of her own!--But where is the advantage of a house of her own?\\nThis is three times as large',\n",
       " '--And you have never any odd humours,\\nmy dear',\n",
       " '\"\\n\\n\"How often we shall be going to see them, and they coming to see\\nus!--We shall be always meeting! _We_ must begin; we must go and pay\\nwedding visit very soon',\n",
       " '\"\\n\\n\"My dear, how am I to get so far? Randalls is such a distance',\n",
       " 'I could not walk half so far',\n",
       " '\"\\n\\n\"No, papa, nobody thought of your walking',\n",
       " 'We must go in the carriage,\\nto be sure',\n",
       " '\"\\n\\n\"The carriage! But James will not like to put the horses to for\\nsuch a little way;--and where are the poor horses to be while we\\nare paying our visit?\"\\n\\n\"They are to be put into Mr',\n",
       " \"Weston's stable, papa\",\n",
       " 'You know we\\nhave settled all that already',\n",
       " 'We talked it all over with Mr',\n",
       " 'Weston\\nlast night',\n",
       " \"And as for James, you may be very sure he will always like\\ngoing to Randalls, because of his daughter's being housemaid there\",\n",
       " 'I only doubt whether he will ever take us anywhere else',\n",
       " 'That was\\nyour doing, papa',\n",
       " 'You got Hannah that good place',\n",
       " 'Nobody thought\\nof Hannah till you mentioned her--James is so obliged to you!\"\\n\\n\"I am very glad I did think of her',\n",
       " 'It was very lucky, for I would\\nnot have had poor James think himself slighted upon any account;\\nand I am sure she will make a very good servant: she is a civil,\\npretty-spoken girl; I have a great opinion of her',\n",
       " 'Whenever I see her,\\nshe always curtseys and asks me how I do, in a very pretty manner;\\nand when you have had her here to do needlework, I observe she\\nalways turns the lock of the door the right way and never bangs it',\n",
       " 'I am sure she will be an excellent servant; and it will be a great\\ncomfort to poor Miss Taylor to have somebody about her that she is\\nused to see',\n",
       " 'Whenever James goes over to see his daughter, you know,\\nshe will be hearing of us',\n",
       " 'He will be able to tell her how we\\nall are',\n",
       " '\"\\n\\nEmma spared no exertions to maintain this happier flow of ideas,\\nand hoped, by the help of backgammon, to get her father tolerably\\nthrough the evening, and be attacked by no regrets but her own',\n",
       " 'The backgammon-table was placed; but a visitor immediately afterwards\\nwalked in and made it unnecessary',\n",
       " 'Mr',\n",
       " \"Knightley, a sensible man about seven or eight-and-thirty, was not\\nonly a very old and intimate friend of the family, but particularly\\nconnected with it, as the elder brother of Isabella's husband\",\n",
       " 'He lived about a mile from Highbury, was a frequent visitor,\\nand always welcome, and at this time more welcome than usual,\\nas coming directly from their mutual connexions in London',\n",
       " \"He had\\nreturned to a late dinner, after some days' absence, and now walked\\nup to Hartfield to say that all were well in Brunswick Square\",\n",
       " 'It was a happy circumstance, and animated Mr',\n",
       " 'Woodhouse for some time',\n",
       " 'Mr',\n",
       " 'Knightley had a cheerful manner, which always did him good;\\nand his many inquiries after \"poor Isabella\" and her children were\\nanswered most satisfactorily',\n",
       " 'When this was over, Mr',\n",
       " 'Woodhouse\\ngratefully observed, \"It is very kind of you, Mr',\n",
       " 'Knightley, to come\\nout at this late hour to call upon us',\n",
       " 'I am afraid you must have\\nhad a shocking walk',\n",
       " '\"\\n\\n\"Not at all, sir',\n",
       " 'It is a beautiful moonlight night; and so mild\\nthat I must draw back from your great fire',\n",
       " '\"\\n\\n\"But you must have found it very damp and dirty',\n",
       " 'I wish you may\\nnot catch cold',\n",
       " '\"\\n\\n\"Dirty, sir! Look at my shoes',\n",
       " 'Not a speck on them',\n",
       " '\"\\n\\n\"Well! that is quite surprising, for we have had a vast deal\\nof rain here',\n",
       " 'It rained dreadfully hard for half an hour\\nwhile we were at breakfast',\n",
       " 'I wanted them to put off the wedding',\n",
       " '\"\\n\\n\"By the bye--I have not wished you joy',\n",
       " 'Being pretty well aware\\nof what sort of joy you must both be feeling, I have been in no hurry\\nwith my congratulations; but I hope it all went off tolerably well',\n",
       " 'How did you all behave? Who cried most?\"\\n\\n\"Ah! poor Miss Taylor! \\'Tis a sad business',\n",
       " '\"\\n\\n\"Poor Mr',\n",
       " 'and Miss Woodhouse, if you please; but I cannot possibly\\nsay `poor Miss Taylor',\n",
       " \"' I have a great regard for you and Emma;\\nbut when it comes to the question of dependence or independence!--At\\nany rate, it must be better to have only one to please than two\",\n",
       " '\"\\n\\n\"Especially when _one_ of those two is such a fanciful, troublesome creature!\"\\nsaid Emma playfully',\n",
       " '\"That is what you have in your head,\\nI know--and what you would certainly say if my father were not by',\n",
       " '\"\\n\\n\"I believe it is very true, my dear, indeed,\" said Mr',\n",
       " 'Woodhouse,\\nwith a sigh',\n",
       " '\"I am afraid I am sometimes very fanciful and troublesome',\n",
       " '\"\\n\\n\"My dearest papa! You do not think I could mean _you_, or suppose\\nMr',\n",
       " 'Knightley to mean _you_',\n",
       " 'What a horrible idea! Oh no! I meant\\nonly myself',\n",
       " 'Mr',\n",
       " 'Knightley loves to find fault with me, you know--\\nin a joke--it is all a joke',\n",
       " 'We always say what we like to one another',\n",
       " '\"\\n\\nMr',\n",
       " 'Knightley, in fact, was one of the few people who could see\\nfaults in Emma Woodhouse, and the only one who ever told her of them:\\nand though this was not particularly agreeable to Emma herself,\\nshe knew it would be so much less so to her father, that she would\\nnot have him really suspect such a circumstance as her not being\\nthought perfect by every body',\n",
       " '\"Emma knows I never flatter her,\" said Mr',\n",
       " 'Knightley, \"but I\\nmeant no reflection on any body',\n",
       " 'Miss Taylor has been used\\nto have two persons to please; she will now have but one',\n",
       " 'The chances are that she must be a gainer',\n",
       " '\"\\n\\n\"Well,\" said Emma, willing to let it pass--\"you want to hear\\nabout the wedding; and I shall be happy to tell you, for we all\\nbehaved charmingly',\n",
       " 'Every body was punctual, every body in their\\nbest looks: not a tear, and hardly a long face to be seen',\n",
       " 'Oh no;\\nwe all felt that we were going to be only half a mile apart,\\nand were sure of meeting every day',\n",
       " '\"\\n\\n\"Dear Emma bears every thing so well,\" said her father',\n",
       " '\"But, Mr',\n",
       " 'Knightley, she is really very sorry to lose poor Miss Taylor,\\nand I am sure she _will_ miss her more than she thinks for',\n",
       " '\"\\n\\nEmma turned away her head, divided between tears and smiles',\n",
       " '\"It is impossible that Emma should not miss such a companion,\"\\nsaid Mr',\n",
       " 'Knightley',\n",
       " '\"We should not like her so well as we do, sir,\\nif we could suppose it; but she knows how much the marriage is to\\nMiss Taylor\\'s advantage; she knows how very acceptable it must be,\\nat Miss Taylor\\'s time of life, to be settled in a home of her own,\\nand how important to her to be secure of a comfortable provision,\\nand therefore cannot allow herself to feel so much pain as pleasure',\n",
       " 'Every friend of Miss Taylor must be glad to have her so happily\\nmarried',\n",
       " '\"\\n\\n\"And you have forgotten one matter of joy to me,\" said Emma,\\n\"and a very considerable one--that I made the match myself',\n",
       " 'I made the match, you know, four years ago; and to have it take place,\\nand be proved in the right, when so many people said Mr',\n",
       " 'Weston would\\nnever marry again, may comfort me for any thing',\n",
       " '\"\\n\\nMr',\n",
       " 'Knightley shook his head at her',\n",
       " 'Her father fondly replied,\\n\"Ah! my dear, I wish you would not make matches and foretell things,\\nfor whatever you say always comes to pass',\n",
       " 'Pray do not make any\\nmore matches',\n",
       " '\"\\n\\n\"I promise you to make none for myself, papa; but I must, indeed,\\nfor other people',\n",
       " 'It is the greatest amusement in the world! And\\nafter such success, you know!--Every body said that Mr',\n",
       " 'Weston would\\nnever marry again',\n",
       " 'Oh dear, no! Mr',\n",
       " 'Weston, who had been a widower\\nso long, and who seemed so perfectly comfortable without a wife,\\nso constantly occupied either in his business in town or among his\\nfriends here, always acceptable wherever he went, always cheerful--\\nMr',\n",
       " 'Weston need not spend a single evening in the year alone if he did\\nnot like it',\n",
       " 'Oh no! Mr',\n",
       " 'Weston certainly would never marry again',\n",
       " 'Some people even talked of a promise to his wife on her deathbed,\\nand others of the son and the uncle not letting him',\n",
       " 'All manner\\nof solemn nonsense was talked on the subject, but I believed none\\nof it',\n",
       " '\"Ever since the day--about four years ago--that Miss Taylor and I\\nmet with him in Broadway Lane, when, because it began to drizzle,\\nhe darted away with so much gallantry, and borrowed two umbrellas\\nfor us from Farmer Mitchell\\'s, I made up my mind on the subject',\n",
       " 'I planned the match from that hour; and when such success has blessed\\nme in this instance, dear papa, you cannot think that I shall leave\\noff match-making',\n",
       " '\"\\n\\n\"I do not understand what you mean by `success,\\'\" said Mr',\n",
       " 'Knightley',\n",
       " '\"Success supposes endeavour',\n",
       " 'Your time has been properly and\\ndelicately spent, if you have been endeavouring for the last four\\nyears to bring about this marriage',\n",
       " \"A worthy employment for a young\\nlady's mind! But if, which I rather imagine, your making the match,\\nas you call it, means only your planning it, your saying to yourself\\none idle day, `I think it would be a very good thing for Miss Taylor\\nif Mr\",\n",
       " \"Weston were to marry her,' and saying it again to yourself\\nevery now and then afterwards, why do you talk of success? Where\\nis your merit? What are you proud of? You made a lucky guess;\\nand _that_ is all that can be said\",\n",
       " '\"\\n\\n\"And have you never known the pleasure and triumph of a lucky guess?--\\nI pity you',\n",
       " '--I thought you cleverer--for, depend upon it a lucky\\nguess is never merely luck',\n",
       " 'There is always some talent in it',\n",
       " \"And as to my poor word `success,' which you quarrel with, I do not\\nknow that I am so entirely without any claim to it\",\n",
       " 'You have drawn\\ntwo pretty pictures; but I think there may be a third--a something\\nbetween the do-nothing and the do-all',\n",
       " 'If I had not promoted Mr',\n",
       " \"Weston's\\nvisits here, and given many little encouragements, and smoothed\\nmany little matters, it might not have come to any thing after all\",\n",
       " 'I think you must know Hartfield enough to comprehend that',\n",
       " '\"\\n\\n\"A straightforward, open-hearted man like Weston, and a rational,\\nunaffected woman like Miss Taylor, may be safely left to manage their\\nown concerns',\n",
       " 'You are more likely to have done harm to yourself,\\nthan good to them, by interference',\n",
       " '\"\\n\\n\"Emma never thinks of herself, if she can do good to others,\"\\nrejoined Mr',\n",
       " 'Woodhouse, understanding but in part',\n",
       " '\"But, my dear,\\npray do not make any more matches; they are silly things, and break up\\none\\'s family circle grievously',\n",
       " '\"\\n\\n\"Only one more, papa; only for Mr',\n",
       " 'Elton',\n",
       " 'Poor Mr',\n",
       " 'Elton! You\\nlike Mr',\n",
       " 'Elton, papa,--I must look about for a wife for him',\n",
       " 'There is nobody in Highbury who deserves him--and he has been\\nhere a whole year, and has fitted up his house so comfortably,\\nthat it would be a shame to have him single any longer--and I thought\\nwhen he was joining their hands to-day, he looked so very much as if\\nhe would like to have the same kind office done for him! I think\\nvery well of Mr',\n",
       " 'Elton, and this is the only way I have of doing\\nhim a service',\n",
       " '\"\\n\\n\"Mr',\n",
       " 'Elton is a very pretty young man, to be sure, and a very\\ngood young man, and I have a great regard for him',\n",
       " 'But if you\\nwant to shew him any attention, my dear, ask him to come\\nand dine with us some day',\n",
       " 'That will be a much better thing',\n",
       " 'I dare say Mr',\n",
       " 'Knightley will be so kind as to meet him',\n",
       " '\"\\n\\n\"With a great deal of pleasure, sir, at any time,\" said Mr',\n",
       " 'Knightley,\\nlaughing, \"and I agree with you entirely, that it will be a much\\nbetter thing',\n",
       " 'Invite him to dinner, Emma, and help him to the best\\nof the fish and the chicken, but leave him to chuse his own wife',\n",
       " 'Depend upon it, a man of six or seven-and-twenty can take care\\nof himself',\n",
       " '\"']"
      ]
     },
     "execution_count": 8,
     "metadata": {},
     "output_type": "execute_result"
    }
   ],
   "source": [
    "parsed_data"
   ]
  },
  {
   "cell_type": "code",
   "execution_count": 11,
   "id": "a3ceda1e",
   "metadata": {},
   "outputs": [
    {
     "data": {
      "text/plain": [
       "list"
      ]
     },
     "execution_count": 11,
     "metadata": {},
     "output_type": "execute_result"
    }
   ],
   "source": [
    "type(parsed_data)"
   ]
  },
  {
   "cell_type": "markdown",
   "id": "79265503",
   "metadata": {},
   "source": [
    "Check the lenght of the variable"
   ]
  },
  {
   "cell_type": "code",
   "execution_count": 9,
   "id": "f3d92308",
   "metadata": {},
   "outputs": [],
   "source": [
    "#Your code in here"
   ]
  },
  {
   "cell_type": "code",
   "execution_count": 10,
   "id": "b4ed191b",
   "metadata": {},
   "outputs": [
    {
     "data": {
      "text/plain": [
       "176"
      ]
     },
     "execution_count": 10,
     "metadata": {},
     "output_type": "execute_result"
    }
   ],
   "source": [
    "#Solution\n",
    "\n",
    "len(parsed_data)"
   ]
  },
  {
   "cell_type": "markdown",
   "id": "6909d384",
   "metadata": {},
   "source": [
    "Check the first element of the data and then double check its type"
   ]
  },
  {
   "cell_type": "code",
   "execution_count": 14,
   "id": "3245e2cf",
   "metadata": {},
   "outputs": [],
   "source": [
    "#Your code in here"
   ]
  },
  {
   "cell_type": "code",
   "execution_count": 12,
   "id": "e636670b",
   "metadata": {},
   "outputs": [
    {
     "data": {
      "text/plain": [
       "'[Emma by Jane Austen 1816]\\n\\nVOLUME I\\n\\nCHAPTER I\\n\\n\\nEmma Woodhouse, handsome, clever, and rich, with a comfortable home\\nand happy disposition, seemed to unite some of the best blessings\\nof existence; and had lived nearly twenty-one years in the world\\nwith very little to distress or vex her'"
      ]
     },
     "execution_count": 12,
     "metadata": {},
     "output_type": "execute_result"
    }
   ],
   "source": [
    "#Solution\n",
    "parsed_data[0]"
   ]
  },
  {
   "cell_type": "code",
   "execution_count": 13,
   "id": "a6aa6922",
   "metadata": {},
   "outputs": [
    {
     "data": {
      "text/plain": [
       "list"
      ]
     },
     "execution_count": 13,
     "metadata": {},
     "output_type": "execute_result"
    }
   ],
   "source": [
    "type(parsed_data)"
   ]
  },
  {
   "cell_type": "markdown",
   "id": "35af92ca",
   "metadata": {},
   "source": [
    "Let's practice what you have learnt about slicing strings. Select the first three strings (the first full sentences in the text). Create a variable called \"fragment\", and store that data."
   ]
  },
  {
   "cell_type": "code",
   "execution_count": 14,
   "id": "65b10855",
   "metadata": {},
   "outputs": [],
   "source": [
    "#Your code in here"
   ]
  },
  {
   "cell_type": "code",
   "execution_count": 15,
   "id": "229b048e",
   "metadata": {},
   "outputs": [
    {
     "data": {
      "text/plain": [
       "['--Miss Taylor married',\n",
       " \"It was Miss\\nTaylor's loss which first brought grief\",\n",
       " 'It was on the wedding-day\\nof this beloved friend that Emma first sat in mournful thought\\nof any continuance',\n",
       " 'The wedding over, and the bride-people gone,\\nher father and herself were left to dine together, with no prospect\\nof a third to cheer a long evening',\n",
       " 'Her father composed himself\\nto sleep after dinner, as usual, and she had then only to sit\\nand think of what she had lost',\n",
       " 'The event had every promise of happiness for her friend',\n",
       " 'Mr',\n",
       " \"Weston\\nwas a man of unexceptionable character, easy fortune, suitable age,\\nand pleasant manners; and there was some satisfaction in considering\\nwith what self-denying, generous friendship she had always wished\\nand promoted the match; but it was a black morning's work for her\",\n",
       " 'The want of Miss Taylor would be felt every hour of every day',\n",
       " 'She recalled her past kindness--the kindness, the affection of sixteen\\nyears--how she had taught and how she had played with her from five\\nyears old--how she had devoted all her powers to attach and amuse\\nher in health--and how nursed her through the various illnesses\\nof childhood']"
      ]
     },
     "execution_count": 15,
     "metadata": {},
     "output_type": "execute_result"
    }
   ],
   "source": [
    "#Solution\n",
    "fragment = parsed_data[10:20]\n",
    "fragment"
   ]
  },
  {
   "cell_type": "markdown",
   "id": "0866648a",
   "metadata": {},
   "source": [
    "Check the type of the variable"
   ]
  },
  {
   "cell_type": "code",
   "execution_count": 16,
   "id": "a6cee5ef",
   "metadata": {},
   "outputs": [],
   "source": [
    "#Your code in here"
   ]
  },
  {
   "cell_type": "code",
   "execution_count": 17,
   "id": "26d7f4d8",
   "metadata": {},
   "outputs": [
    {
     "data": {
      "text/plain": [
       "list"
      ]
     },
     "execution_count": 17,
     "metadata": {},
     "output_type": "execute_result"
    }
   ],
   "source": [
    "#Solution\n",
    "type(fragment)"
   ]
  },
  {
   "cell_type": "markdown",
   "id": "ac114aed",
   "metadata": {},
   "source": [
    "Now, let's save this file into our computer. Remember to convert the variable fragment into a string!"
   ]
  },
  {
   "cell_type": "code",
   "execution_count": 18,
   "id": "a3fad376",
   "metadata": {},
   "outputs": [],
   "source": [
    "#Your code in here"
   ]
  },
  {
   "cell_type": "code",
   "execution_count": 19,
   "id": "d0fdd814",
   "metadata": {},
   "outputs": [],
   "source": [
    "#Solution\n",
    "with open(\"fragment_2.txt\", \"w\", encoding = \"utf-8\") as f:\n",
    "    f.write(str(fragment))"
   ]
  },
  {
   "cell_type": "markdown",
   "id": "6a598eec",
   "metadata": {},
   "source": [
    "Now go to the folder in your computer. Voila! The fragment.txt file should be there."
   ]
  },
  {
   "cell_type": "markdown",
   "id": "f9af6963",
   "metadata": {},
   "source": [
    "# 2. Pandas "
   ]
  },
  {
   "cell_type": "markdown",
   "id": "286dade0",
   "metadata": {},
   "source": [
    "You already now how to import csv files using pandas (pd.read_csv(\"file.csv\")). Let's practice how to create our own dataframe!\n",
    "\n",
    "We are going to use this data that contains all winners in the history of the olympic games: https://en.wikipedia.org/wiki/Summer_Olympic_Games#List_of_Summer_Olympic_Games \n",
    "\n",
    "That's a lot of data! We only need two columns: year, and nation. Let's create a dataframe with both of them!"
   ]
  },
  {
   "cell_type": "markdown",
   "id": "504665ec",
   "metadata": {},
   "source": [
    "First, we import the Pandas Library"
   ]
  },
  {
   "cell_type": "code",
   "execution_count": 38,
   "id": "4524ec4d",
   "metadata": {},
   "outputs": [],
   "source": [
    "#Your code in here"
   ]
  },
  {
   "cell_type": "code",
   "execution_count": 21,
   "id": "95f48c63",
   "metadata": {},
   "outputs": [],
   "source": [
    "#Solution\n",
    "import pandas as pd"
   ]
  },
  {
   "cell_type": "markdown",
   "id": "dd6dd56a",
   "metadata": {},
   "source": [
    "Create a list using the range method. Reproduce the code from slide 40 of the power point slides. We know that we need to create a list that begins in 1896, and that ends in 2020. We also know that we only need one year every other four. Use the range method to do that! Store it in a variable called year."
   ]
  },
  {
   "cell_type": "code",
   "execution_count": 22,
   "id": "5dc812b1",
   "metadata": {},
   "outputs": [],
   "source": [
    "#Your code in here"
   ]
  },
  {
   "cell_type": "code",
   "execution_count": 23,
   "id": "9e9e98e0",
   "metadata": {},
   "outputs": [],
   "source": [
    "#Solution\n",
    "year = list(range(1896, 2020, 4))"
   ]
  },
  {
   "cell_type": "code",
   "execution_count": 24,
   "id": "42798da2",
   "metadata": {},
   "outputs": [
    {
     "data": {
      "text/plain": [
       "[1896,\n",
       " 1900,\n",
       " 1904,\n",
       " 1908,\n",
       " 1912,\n",
       " 1916,\n",
       " 1920,\n",
       " 1924,\n",
       " 1928,\n",
       " 1932,\n",
       " 1936,\n",
       " 1940,\n",
       " 1944,\n",
       " 1948,\n",
       " 1952,\n",
       " 1956,\n",
       " 1960,\n",
       " 1964,\n",
       " 1968,\n",
       " 1972,\n",
       " 1976,\n",
       " 1980,\n",
       " 1984,\n",
       " 1988,\n",
       " 1992,\n",
       " 1996,\n",
       " 2000,\n",
       " 2004,\n",
       " 2008,\n",
       " 2012,\n",
       " 2016]"
      ]
     },
     "execution_count": 24,
     "metadata": {},
     "output_type": "execute_result"
    }
   ],
   "source": [
    "year"
   ]
  },
  {
   "cell_type": "markdown",
   "id": "2b557cc0",
   "metadata": {},
   "source": [
    "Now create another variable called country where you include all the information about the countries (sorry, you will have to type all of those yourself.)"
   ]
  },
  {
   "cell_type": "code",
   "execution_count": 25,
   "id": "879f4302",
   "metadata": {},
   "outputs": [],
   "source": [
    "country = [\"United States\", \"France\", \"United States\", \"UK\", \"United States\", \"United States\", \"United States\", \"United States\",\n",
    "          \"United States\", \"Germany\", \"WW2\", \"WW2\", \"United States\", \"United States\", \"Soviet Union\", \"Soviet Union\", \n",
    "          \"United States\", \"United States\", \"Soviet Union\", \"Soviet Union\", \"Soviet Union\", \"United States\", \"Soviet Union\", \n",
    "          \"Unified Team\", \"United States\", \"United States\", \"United States\", \"China\", \"United States\", \"United States\", \n",
    "           \"United States\"]"
   ]
  },
  {
   "cell_type": "markdown",
   "id": "b95afbd2",
   "metadata": {},
   "source": [
    "Now let's create a dataframe! Check out different ways to do this: https://www.geeksforgeeks.org/different-ways-to-create-pandas-dataframe/\n",
    "\n",
    "First, let's create a dataframe only with one column named \"year\" only using the year data."
   ]
  },
  {
   "cell_type": "code",
   "execution_count": 26,
   "id": "ffbeb2ea",
   "metadata": {},
   "outputs": [],
   "source": [
    "#Your code in here"
   ]
  },
  {
   "cell_type": "code",
   "execution_count": 27,
   "id": "a8d7bf92",
   "metadata": {},
   "outputs": [],
   "source": [
    "#Solution\n",
    "data = pd.DataFrame(year, columns = [\"year\"])"
   ]
  },
  {
   "cell_type": "code",
   "execution_count": 28,
   "id": "4a0ffda7",
   "metadata": {},
   "outputs": [
    {
     "data": {
      "text/html": [
       "<div>\n",
       "<style scoped>\n",
       "    .dataframe tbody tr th:only-of-type {\n",
       "        vertical-align: middle;\n",
       "    }\n",
       "\n",
       "    .dataframe tbody tr th {\n",
       "        vertical-align: top;\n",
       "    }\n",
       "\n",
       "    .dataframe thead th {\n",
       "        text-align: right;\n",
       "    }\n",
       "</style>\n",
       "<table border=\"1\" class=\"dataframe\">\n",
       "  <thead>\n",
       "    <tr style=\"text-align: right;\">\n",
       "      <th></th>\n",
       "      <th>year</th>\n",
       "    </tr>\n",
       "  </thead>\n",
       "  <tbody>\n",
       "    <tr>\n",
       "      <th>0</th>\n",
       "      <td>1896</td>\n",
       "    </tr>\n",
       "    <tr>\n",
       "      <th>1</th>\n",
       "      <td>1900</td>\n",
       "    </tr>\n",
       "    <tr>\n",
       "      <th>2</th>\n",
       "      <td>1904</td>\n",
       "    </tr>\n",
       "    <tr>\n",
       "      <th>3</th>\n",
       "      <td>1908</td>\n",
       "    </tr>\n",
       "    <tr>\n",
       "      <th>4</th>\n",
       "      <td>1912</td>\n",
       "    </tr>\n",
       "    <tr>\n",
       "      <th>5</th>\n",
       "      <td>1916</td>\n",
       "    </tr>\n",
       "    <tr>\n",
       "      <th>6</th>\n",
       "      <td>1920</td>\n",
       "    </tr>\n",
       "    <tr>\n",
       "      <th>7</th>\n",
       "      <td>1924</td>\n",
       "    </tr>\n",
       "    <tr>\n",
       "      <th>8</th>\n",
       "      <td>1928</td>\n",
       "    </tr>\n",
       "    <tr>\n",
       "      <th>9</th>\n",
       "      <td>1932</td>\n",
       "    </tr>\n",
       "    <tr>\n",
       "      <th>10</th>\n",
       "      <td>1936</td>\n",
       "    </tr>\n",
       "    <tr>\n",
       "      <th>11</th>\n",
       "      <td>1940</td>\n",
       "    </tr>\n",
       "    <tr>\n",
       "      <th>12</th>\n",
       "      <td>1944</td>\n",
       "    </tr>\n",
       "    <tr>\n",
       "      <th>13</th>\n",
       "      <td>1948</td>\n",
       "    </tr>\n",
       "    <tr>\n",
       "      <th>14</th>\n",
       "      <td>1952</td>\n",
       "    </tr>\n",
       "    <tr>\n",
       "      <th>15</th>\n",
       "      <td>1956</td>\n",
       "    </tr>\n",
       "    <tr>\n",
       "      <th>16</th>\n",
       "      <td>1960</td>\n",
       "    </tr>\n",
       "    <tr>\n",
       "      <th>17</th>\n",
       "      <td>1964</td>\n",
       "    </tr>\n",
       "    <tr>\n",
       "      <th>18</th>\n",
       "      <td>1968</td>\n",
       "    </tr>\n",
       "    <tr>\n",
       "      <th>19</th>\n",
       "      <td>1972</td>\n",
       "    </tr>\n",
       "    <tr>\n",
       "      <th>20</th>\n",
       "      <td>1976</td>\n",
       "    </tr>\n",
       "    <tr>\n",
       "      <th>21</th>\n",
       "      <td>1980</td>\n",
       "    </tr>\n",
       "    <tr>\n",
       "      <th>22</th>\n",
       "      <td>1984</td>\n",
       "    </tr>\n",
       "    <tr>\n",
       "      <th>23</th>\n",
       "      <td>1988</td>\n",
       "    </tr>\n",
       "    <tr>\n",
       "      <th>24</th>\n",
       "      <td>1992</td>\n",
       "    </tr>\n",
       "    <tr>\n",
       "      <th>25</th>\n",
       "      <td>1996</td>\n",
       "    </tr>\n",
       "    <tr>\n",
       "      <th>26</th>\n",
       "      <td>2000</td>\n",
       "    </tr>\n",
       "    <tr>\n",
       "      <th>27</th>\n",
       "      <td>2004</td>\n",
       "    </tr>\n",
       "    <tr>\n",
       "      <th>28</th>\n",
       "      <td>2008</td>\n",
       "    </tr>\n",
       "    <tr>\n",
       "      <th>29</th>\n",
       "      <td>2012</td>\n",
       "    </tr>\n",
       "    <tr>\n",
       "      <th>30</th>\n",
       "      <td>2016</td>\n",
       "    </tr>\n",
       "  </tbody>\n",
       "</table>\n",
       "</div>"
      ],
      "text/plain": [
       "    year\n",
       "0   1896\n",
       "1   1900\n",
       "2   1904\n",
       "3   1908\n",
       "4   1912\n",
       "5   1916\n",
       "6   1920\n",
       "7   1924\n",
       "8   1928\n",
       "9   1932\n",
       "10  1936\n",
       "11  1940\n",
       "12  1944\n",
       "13  1948\n",
       "14  1952\n",
       "15  1956\n",
       "16  1960\n",
       "17  1964\n",
       "18  1968\n",
       "19  1972\n",
       "20  1976\n",
       "21  1980\n",
       "22  1984\n",
       "23  1988\n",
       "24  1992\n",
       "25  1996\n",
       "26  2000\n",
       "27  2004\n",
       "28  2008\n",
       "29  2012\n",
       "30  2016"
      ]
     },
     "execution_count": 28,
     "metadata": {},
     "output_type": "execute_result"
    }
   ],
   "source": [
    "data"
   ]
  },
  {
   "cell_type": "markdown",
   "id": "e4f9fd52",
   "metadata": {},
   "source": [
    "Now, let's add another column called \"country\" using the country data."
   ]
  },
  {
   "cell_type": "code",
   "execution_count": 29,
   "id": "aa65a6b4",
   "metadata": {},
   "outputs": [],
   "source": [
    "#Your code in here"
   ]
  },
  {
   "cell_type": "code",
   "execution_count": 30,
   "id": "283cd52d",
   "metadata": {},
   "outputs": [],
   "source": [
    "#Solution\n",
    "\n",
    "data[\"country\"] = country"
   ]
  },
  {
   "cell_type": "code",
   "execution_count": 31,
   "id": "405548a7",
   "metadata": {},
   "outputs": [
    {
     "data": {
      "text/html": [
       "<div>\n",
       "<style scoped>\n",
       "    .dataframe tbody tr th:only-of-type {\n",
       "        vertical-align: middle;\n",
       "    }\n",
       "\n",
       "    .dataframe tbody tr th {\n",
       "        vertical-align: top;\n",
       "    }\n",
       "\n",
       "    .dataframe thead th {\n",
       "        text-align: right;\n",
       "    }\n",
       "</style>\n",
       "<table border=\"1\" class=\"dataframe\">\n",
       "  <thead>\n",
       "    <tr style=\"text-align: right;\">\n",
       "      <th></th>\n",
       "      <th>year</th>\n",
       "      <th>country</th>\n",
       "    </tr>\n",
       "  </thead>\n",
       "  <tbody>\n",
       "    <tr>\n",
       "      <th>0</th>\n",
       "      <td>1896</td>\n",
       "      <td>United States</td>\n",
       "    </tr>\n",
       "    <tr>\n",
       "      <th>1</th>\n",
       "      <td>1900</td>\n",
       "      <td>France</td>\n",
       "    </tr>\n",
       "    <tr>\n",
       "      <th>2</th>\n",
       "      <td>1904</td>\n",
       "      <td>United States</td>\n",
       "    </tr>\n",
       "    <tr>\n",
       "      <th>3</th>\n",
       "      <td>1908</td>\n",
       "      <td>UK</td>\n",
       "    </tr>\n",
       "    <tr>\n",
       "      <th>4</th>\n",
       "      <td>1912</td>\n",
       "      <td>United States</td>\n",
       "    </tr>\n",
       "    <tr>\n",
       "      <th>5</th>\n",
       "      <td>1916</td>\n",
       "      <td>United States</td>\n",
       "    </tr>\n",
       "    <tr>\n",
       "      <th>6</th>\n",
       "      <td>1920</td>\n",
       "      <td>United States</td>\n",
       "    </tr>\n",
       "    <tr>\n",
       "      <th>7</th>\n",
       "      <td>1924</td>\n",
       "      <td>United States</td>\n",
       "    </tr>\n",
       "    <tr>\n",
       "      <th>8</th>\n",
       "      <td>1928</td>\n",
       "      <td>United States</td>\n",
       "    </tr>\n",
       "    <tr>\n",
       "      <th>9</th>\n",
       "      <td>1932</td>\n",
       "      <td>Germany</td>\n",
       "    </tr>\n",
       "    <tr>\n",
       "      <th>10</th>\n",
       "      <td>1936</td>\n",
       "      <td>WW2</td>\n",
       "    </tr>\n",
       "    <tr>\n",
       "      <th>11</th>\n",
       "      <td>1940</td>\n",
       "      <td>WW2</td>\n",
       "    </tr>\n",
       "    <tr>\n",
       "      <th>12</th>\n",
       "      <td>1944</td>\n",
       "      <td>United States</td>\n",
       "    </tr>\n",
       "    <tr>\n",
       "      <th>13</th>\n",
       "      <td>1948</td>\n",
       "      <td>United States</td>\n",
       "    </tr>\n",
       "    <tr>\n",
       "      <th>14</th>\n",
       "      <td>1952</td>\n",
       "      <td>Soviet Union</td>\n",
       "    </tr>\n",
       "    <tr>\n",
       "      <th>15</th>\n",
       "      <td>1956</td>\n",
       "      <td>Soviet Union</td>\n",
       "    </tr>\n",
       "    <tr>\n",
       "      <th>16</th>\n",
       "      <td>1960</td>\n",
       "      <td>United States</td>\n",
       "    </tr>\n",
       "    <tr>\n",
       "      <th>17</th>\n",
       "      <td>1964</td>\n",
       "      <td>United States</td>\n",
       "    </tr>\n",
       "    <tr>\n",
       "      <th>18</th>\n",
       "      <td>1968</td>\n",
       "      <td>Soviet Union</td>\n",
       "    </tr>\n",
       "    <tr>\n",
       "      <th>19</th>\n",
       "      <td>1972</td>\n",
       "      <td>Soviet Union</td>\n",
       "    </tr>\n",
       "    <tr>\n",
       "      <th>20</th>\n",
       "      <td>1976</td>\n",
       "      <td>Soviet Union</td>\n",
       "    </tr>\n",
       "    <tr>\n",
       "      <th>21</th>\n",
       "      <td>1980</td>\n",
       "      <td>United States</td>\n",
       "    </tr>\n",
       "    <tr>\n",
       "      <th>22</th>\n",
       "      <td>1984</td>\n",
       "      <td>Soviet Union</td>\n",
       "    </tr>\n",
       "    <tr>\n",
       "      <th>23</th>\n",
       "      <td>1988</td>\n",
       "      <td>Unified Team</td>\n",
       "    </tr>\n",
       "    <tr>\n",
       "      <th>24</th>\n",
       "      <td>1992</td>\n",
       "      <td>United States</td>\n",
       "    </tr>\n",
       "    <tr>\n",
       "      <th>25</th>\n",
       "      <td>1996</td>\n",
       "      <td>United States</td>\n",
       "    </tr>\n",
       "    <tr>\n",
       "      <th>26</th>\n",
       "      <td>2000</td>\n",
       "      <td>United States</td>\n",
       "    </tr>\n",
       "    <tr>\n",
       "      <th>27</th>\n",
       "      <td>2004</td>\n",
       "      <td>China</td>\n",
       "    </tr>\n",
       "    <tr>\n",
       "      <th>28</th>\n",
       "      <td>2008</td>\n",
       "      <td>United States</td>\n",
       "    </tr>\n",
       "    <tr>\n",
       "      <th>29</th>\n",
       "      <td>2012</td>\n",
       "      <td>United States</td>\n",
       "    </tr>\n",
       "    <tr>\n",
       "      <th>30</th>\n",
       "      <td>2016</td>\n",
       "      <td>United States</td>\n",
       "    </tr>\n",
       "  </tbody>\n",
       "</table>\n",
       "</div>"
      ],
      "text/plain": [
       "    year        country\n",
       "0   1896  United States\n",
       "1   1900         France\n",
       "2   1904  United States\n",
       "3   1908             UK\n",
       "4   1912  United States\n",
       "5   1916  United States\n",
       "6   1920  United States\n",
       "7   1924  United States\n",
       "8   1928  United States\n",
       "9   1932        Germany\n",
       "10  1936            WW2\n",
       "11  1940            WW2\n",
       "12  1944  United States\n",
       "13  1948  United States\n",
       "14  1952   Soviet Union\n",
       "15  1956   Soviet Union\n",
       "16  1960  United States\n",
       "17  1964  United States\n",
       "18  1968   Soviet Union\n",
       "19  1972   Soviet Union\n",
       "20  1976   Soviet Union\n",
       "21  1980  United States\n",
       "22  1984   Soviet Union\n",
       "23  1988   Unified Team\n",
       "24  1992  United States\n",
       "25  1996  United States\n",
       "26  2000  United States\n",
       "27  2004          China\n",
       "28  2008  United States\n",
       "29  2012  United States\n",
       "30  2016  United States"
      ]
     },
     "execution_count": 31,
     "metadata": {},
     "output_type": "execute_result"
    }
   ],
   "source": [
    "data"
   ]
  },
  {
   "cell_type": "markdown",
   "id": "ec620b54",
   "metadata": {},
   "source": [
    "At first sight, it looks like the United States has won lot's of times! To do some data exploration, first let's have a look at how many different countries do we have in our dataset. let's use the drop_duplicates() method in pandas (https://pandas.pydata.org/docs/reference/api/pandas.DataFrame.drop_duplicates.html)"
   ]
  },
  {
   "cell_type": "code",
   "execution_count": 32,
   "id": "cce51008",
   "metadata": {},
   "outputs": [],
   "source": [
    "#Your code in here"
   ]
  },
  {
   "cell_type": "code",
   "execution_count": 33,
   "id": "bed1aec3",
   "metadata": {},
   "outputs": [
    {
     "data": {
      "text/html": [
       "<div>\n",
       "<style scoped>\n",
       "    .dataframe tbody tr th:only-of-type {\n",
       "        vertical-align: middle;\n",
       "    }\n",
       "\n",
       "    .dataframe tbody tr th {\n",
       "        vertical-align: top;\n",
       "    }\n",
       "\n",
       "    .dataframe thead th {\n",
       "        text-align: right;\n",
       "    }\n",
       "</style>\n",
       "<table border=\"1\" class=\"dataframe\">\n",
       "  <thead>\n",
       "    <tr style=\"text-align: right;\">\n",
       "      <th></th>\n",
       "      <th>year</th>\n",
       "      <th>country</th>\n",
       "    </tr>\n",
       "  </thead>\n",
       "  <tbody>\n",
       "    <tr>\n",
       "      <th>0</th>\n",
       "      <td>1896</td>\n",
       "      <td>United States</td>\n",
       "    </tr>\n",
       "    <tr>\n",
       "      <th>1</th>\n",
       "      <td>1900</td>\n",
       "      <td>France</td>\n",
       "    </tr>\n",
       "    <tr>\n",
       "      <th>3</th>\n",
       "      <td>1908</td>\n",
       "      <td>UK</td>\n",
       "    </tr>\n",
       "    <tr>\n",
       "      <th>9</th>\n",
       "      <td>1932</td>\n",
       "      <td>Germany</td>\n",
       "    </tr>\n",
       "    <tr>\n",
       "      <th>10</th>\n",
       "      <td>1936</td>\n",
       "      <td>WW2</td>\n",
       "    </tr>\n",
       "    <tr>\n",
       "      <th>14</th>\n",
       "      <td>1952</td>\n",
       "      <td>Soviet Union</td>\n",
       "    </tr>\n",
       "    <tr>\n",
       "      <th>23</th>\n",
       "      <td>1988</td>\n",
       "      <td>Unified Team</td>\n",
       "    </tr>\n",
       "    <tr>\n",
       "      <th>27</th>\n",
       "      <td>2004</td>\n",
       "      <td>China</td>\n",
       "    </tr>\n",
       "  </tbody>\n",
       "</table>\n",
       "</div>"
      ],
      "text/plain": [
       "    year        country\n",
       "0   1896  United States\n",
       "1   1900         France\n",
       "3   1908             UK\n",
       "9   1932        Germany\n",
       "10  1936            WW2\n",
       "14  1952   Soviet Union\n",
       "23  1988   Unified Team\n",
       "27  2004          China"
      ]
     },
     "execution_count": 33,
     "metadata": {},
     "output_type": "execute_result"
    }
   ],
   "source": [
    "#Solution\n",
    "\n",
    "countries = data.drop_duplicates(subset = \"country\")\n",
    "countries"
   ]
  },
  {
   "cell_type": "code",
   "execution_count": 36,
   "id": "525da5e1",
   "metadata": {},
   "outputs": [
    {
     "data": {
      "text/plain": [
       "0     United States\n",
       "1            France\n",
       "2     United States\n",
       "3                UK\n",
       "4     United States\n",
       "5     United States\n",
       "6     United States\n",
       "7     United States\n",
       "8     United States\n",
       "9           Germany\n",
       "10              WW2\n",
       "11              WW2\n",
       "12    United States\n",
       "13    United States\n",
       "14     Soviet Union\n",
       "15     Soviet Union\n",
       "16    United States\n",
       "17    United States\n",
       "18     Soviet Union\n",
       "19     Soviet Union\n",
       "20     Soviet Union\n",
       "21    United States\n",
       "22     Soviet Union\n",
       "23     Unified Team\n",
       "24    United States\n",
       "25    United States\n",
       "26    United States\n",
       "27            China\n",
       "28    United States\n",
       "29    United States\n",
       "30    United States\n",
       "Name: country, dtype: object"
      ]
     },
     "execution_count": 36,
     "metadata": {},
     "output_type": "execute_result"
    }
   ],
   "source": [
    "data[\"country\"]"
   ]
  },
  {
   "cell_type": "markdown",
   "id": "2086e838",
   "metadata": {},
   "source": [
    "It looks like we have 8 different countries! Let's do some more analytics to find out how many times each of them has won the Olympic Games.\n",
    "\n",
    "Transform the column country from the dataframe into a list using the method tolist() in pandas (https://pandas.pydata.org/pandas-docs/stable/reference/api/pandas.Series.tolist.html)."
   ]
  },
  {
   "cell_type": "code",
   "execution_count": 37,
   "id": "4d9676d9",
   "metadata": {},
   "outputs": [],
   "source": [
    "#Your code in here"
   ]
  },
  {
   "cell_type": "code",
   "execution_count": 38,
   "id": "59c80884",
   "metadata": {},
   "outputs": [],
   "source": [
    "#Solution\n",
    "\n",
    "data_country = data[\"country\"].tolist()"
   ]
  },
  {
   "cell_type": "code",
   "execution_count": 39,
   "id": "22af0dde",
   "metadata": {},
   "outputs": [
    {
     "data": {
      "text/plain": [
       "['United States',\n",
       " 'France',\n",
       " 'United States',\n",
       " 'UK',\n",
       " 'United States',\n",
       " 'United States',\n",
       " 'United States',\n",
       " 'United States',\n",
       " 'United States',\n",
       " 'Germany',\n",
       " 'WW2',\n",
       " 'WW2',\n",
       " 'United States',\n",
       " 'United States',\n",
       " 'Soviet Union',\n",
       " 'Soviet Union',\n",
       " 'United States',\n",
       " 'United States',\n",
       " 'Soviet Union',\n",
       " 'Soviet Union',\n",
       " 'Soviet Union',\n",
       " 'United States',\n",
       " 'Soviet Union',\n",
       " 'Unified Team',\n",
       " 'United States',\n",
       " 'United States',\n",
       " 'United States',\n",
       " 'China',\n",
       " 'United States',\n",
       " 'United States',\n",
       " 'United States']"
      ]
     },
     "execution_count": 39,
     "metadata": {},
     "output_type": "execute_result"
    }
   ],
   "source": [
    "data_country"
   ]
  },
  {
   "cell_type": "markdown",
   "id": "f4e6d8e9",
   "metadata": {},
   "source": [
    "Now let's do a for loop to check how things look like inside:"
   ]
  },
  {
   "cell_type": "code",
   "execution_count": 40,
   "id": "c8da5a2b",
   "metadata": {},
   "outputs": [],
   "source": [
    "#Your code in here"
   ]
  },
  {
   "cell_type": "code",
   "execution_count": 41,
   "id": "914ffae4",
   "metadata": {},
   "outputs": [
    {
     "name": "stdout",
     "output_type": "stream",
     "text": [
      "United States\n",
      "France\n",
      "United States\n",
      "UK\n",
      "United States\n",
      "United States\n",
      "United States\n",
      "United States\n",
      "United States\n",
      "Germany\n",
      "WW2\n",
      "WW2\n",
      "United States\n",
      "United States\n",
      "Soviet Union\n",
      "Soviet Union\n",
      "United States\n",
      "United States\n",
      "Soviet Union\n",
      "Soviet Union\n",
      "Soviet Union\n",
      "United States\n",
      "Soviet Union\n",
      "Unified Team\n",
      "United States\n",
      "United States\n",
      "United States\n",
      "China\n",
      "United States\n",
      "United States\n",
      "United States\n"
     ]
    }
   ],
   "source": [
    "#Solution\n",
    "\n",
    "for i in data_country:\n",
    "    print(i)"
   ]
  },
  {
   "cell_type": "markdown",
   "id": "dedddefb",
   "metadata": {},
   "source": [
    "Now we want to know how many times each country has won the olympic games. Let's do that using an empty list and a for loop!"
   ]
  },
  {
   "cell_type": "code",
   "execution_count": 42,
   "id": "090f9f55",
   "metadata": {},
   "outputs": [],
   "source": [
    "#Your code in here"
   ]
  },
  {
   "cell_type": "code",
   "execution_count": 43,
   "id": "c429723a",
   "metadata": {},
   "outputs": [
    {
     "data": {
      "text/plain": [
       "18"
      ]
     },
     "execution_count": 43,
     "metadata": {},
     "output_type": "execute_result"
    }
   ],
   "source": [
    "#Solution\n",
    "\n",
    "us_winners = []\n",
    "\n",
    "for i in data_country:\n",
    "    if i == \"United States\":\n",
    "        us_winners.append(i)\n",
    "        \n",
    "us_winners = len(us_winners)\n",
    "us_winners"
   ]
  },
  {
   "cell_type": "code",
   "execution_count": 44,
   "id": "08ff4859",
   "metadata": {},
   "outputs": [
    {
     "data": {
      "text/plain": [
       "1"
      ]
     },
     "execution_count": 44,
     "metadata": {},
     "output_type": "execute_result"
    }
   ],
   "source": [
    "france_winners = []\n",
    "\n",
    "for i in data_country:\n",
    "    if i == \"France\":\n",
    "        france_winners.append(i)\n",
    "        \n",
    "france_winners = len(france_winners)\n",
    "france_winners"
   ]
  },
  {
   "cell_type": "code",
   "execution_count": 45,
   "id": "36f816d4",
   "metadata": {},
   "outputs": [
    {
     "data": {
      "text/plain": [
       "1"
      ]
     },
     "execution_count": 45,
     "metadata": {},
     "output_type": "execute_result"
    }
   ],
   "source": [
    "uk_winners = []\n",
    "\n",
    "for i in data_country:\n",
    "    if i == \"UK\":\n",
    "        uk_winners.append(i)\n",
    "        \n",
    "uk_winners = len(uk_winners)\n",
    "uk_winners"
   ]
  },
  {
   "cell_type": "code",
   "execution_count": 46,
   "id": "580c0088",
   "metadata": {},
   "outputs": [
    {
     "data": {
      "text/plain": [
       "1"
      ]
     },
     "execution_count": 46,
     "metadata": {},
     "output_type": "execute_result"
    }
   ],
   "source": [
    "germany_winners = []\n",
    "\n",
    "for i in data_country:\n",
    "    if i == \"Germany\":\n",
    "        germany_winners.append(i)\n",
    "        \n",
    "germany_winners = len(germany_winners)\n",
    "germany_winners"
   ]
  },
  {
   "cell_type": "code",
   "execution_count": 47,
   "id": "0470378c",
   "metadata": {},
   "outputs": [
    {
     "data": {
      "text/plain": [
       "6"
      ]
     },
     "execution_count": 47,
     "metadata": {},
     "output_type": "execute_result"
    }
   ],
   "source": [
    "soviet_winners = []\n",
    "\n",
    "for i in data_country:\n",
    "    if i == \"Soviet Union\":\n",
    "        soviet_winners.append(i)\n",
    "        \n",
    "soviet_winners = len(soviet_winners)\n",
    "soviet_winners"
   ]
  },
  {
   "cell_type": "code",
   "execution_count": 48,
   "id": "65550be8",
   "metadata": {},
   "outputs": [
    {
     "data": {
      "text/plain": [
       "1"
      ]
     },
     "execution_count": 48,
     "metadata": {},
     "output_type": "execute_result"
    }
   ],
   "source": [
    "china_winners = []\n",
    "\n",
    "for i in data_country:\n",
    "    if i == \"China\":\n",
    "        china_winners.append(i)\n",
    "        \n",
    "china_winners = len(china_winners)\n",
    "china_winners"
   ]
  },
  {
   "cell_type": "markdown",
   "id": "518dc1a1",
   "metadata": {},
   "source": [
    "Great! It looks like the United States is the all time winner with 18 victories over thirty editions! Now, let's create a list with our values."
   ]
  },
  {
   "cell_type": "code",
   "execution_count": 49,
   "id": "fae4d608",
   "metadata": {},
   "outputs": [],
   "source": [
    "#Your code in here"
   ]
  },
  {
   "cell_type": "code",
   "execution_count": 50,
   "id": "a92bf4f2",
   "metadata": {},
   "outputs": [],
   "source": [
    "#Solution\n",
    "\n",
    "winner_countries = [us_winners, france_winners, uk_winners, germany_winners, soviet_winners, china_winners]"
   ]
  },
  {
   "cell_type": "code",
   "execution_count": 51,
   "id": "7ec5dd5a",
   "metadata": {},
   "outputs": [
    {
     "data": {
      "text/plain": [
       "[18, 1, 1, 1, 6, 1]"
      ]
     },
     "execution_count": 51,
     "metadata": {},
     "output_type": "execute_result"
    }
   ],
   "source": [
    "winner_countries"
   ]
  },
  {
   "cell_type": "markdown",
   "id": "34743f59",
   "metadata": {},
   "source": [
    "Let's transform that into a dictionary to save it in our computer as a txt.file. Try three different options to store your data: a dictionary, a list, and a tuple. "
   ]
  },
  {
   "cell_type": "code",
   "execution_count": 52,
   "id": "485d5a89",
   "metadata": {},
   "outputs": [],
   "source": [
    "#Your code in here"
   ]
  },
  {
   "cell_type": "code",
   "execution_count": 53,
   "id": "6634ecd7",
   "metadata": {},
   "outputs": [],
   "source": [
    "#Solution\n",
    "\n",
    "olympic_winners = {\"United States\": \"18\", \"France\": \"1\", \"UK\": \"1\", \"Germany\":\"1\", \"Soviet Union\":\"6\", \"China\": \"6\"}"
   ]
  },
  {
   "cell_type": "code",
   "execution_count": 54,
   "id": "bfd848dc",
   "metadata": {},
   "outputs": [
    {
     "data": {
      "text/plain": [
       "{'United States': '18',\n",
       " 'France': '1',\n",
       " 'UK': '1',\n",
       " 'Germany': '1',\n",
       " 'Soviet Union': '6',\n",
       " 'China': '6'}"
      ]
     },
     "execution_count": 54,
     "metadata": {},
     "output_type": "execute_result"
    }
   ],
   "source": [
    "olympic_winners"
   ]
  },
  {
   "cell_type": "code",
   "execution_count": 55,
   "id": "d71ee3fc",
   "metadata": {},
   "outputs": [],
   "source": [
    "#Your code in here"
   ]
  },
  {
   "cell_type": "code",
   "execution_count": 56,
   "id": "6e4e642a",
   "metadata": {},
   "outputs": [],
   "source": [
    "#Solution\n",
    "olympic_winners_2 = [[\"United States\", \"18\"], [\"France\", \"1\"], [\"UK\", \"1\"], [\"Germany\", \"1\"], [\"Soviet Union\", \"6\"], \n",
    "                     [\"China\", \"1\"]]"
   ]
  },
  {
   "cell_type": "code",
   "execution_count": 57,
   "id": "df96dad0",
   "metadata": {},
   "outputs": [
    {
     "name": "stdout",
     "output_type": "stream",
     "text": [
      "['United States', '18']\n",
      "['France', '1']\n",
      "['UK', '1']\n",
      "['Germany', '1']\n",
      "['Soviet Union', '6']\n",
      "['China', '1']\n"
     ]
    }
   ],
   "source": [
    "for i in olympic_winners_2:\n",
    "    print(i)"
   ]
  },
  {
   "cell_type": "code",
   "execution_count": 58,
   "id": "087e4eda",
   "metadata": {},
   "outputs": [],
   "source": [
    "#Your code in here"
   ]
  },
  {
   "cell_type": "code",
   "execution_count": 59,
   "id": "4864da55",
   "metadata": {},
   "outputs": [],
   "source": [
    "#Solution\n",
    "\n",
    "olympic_winners_3 = ((\"United States\", \"18\"), (\"France\", \"1\"), (\"UK\", \"1\"), (\"Germany\", \"1\"), (\"Soviet Union\", \"6\"), \n",
    "                     (\"China\", \"1\"))"
   ]
  },
  {
   "cell_type": "code",
   "execution_count": 60,
   "id": "def7a2b2",
   "metadata": {},
   "outputs": [
    {
     "name": "stdout",
     "output_type": "stream",
     "text": [
      "('United States', '18')\n",
      "('France', '1')\n",
      "('UK', '1')\n",
      "('Germany', '1')\n",
      "('Soviet Union', '6')\n",
      "('China', '1')\n"
     ]
    }
   ],
   "source": [
    "for i in olympic_winners_3:\n",
    "    print(i)"
   ]
  },
  {
   "cell_type": "markdown",
   "id": "1d4702b6",
   "metadata": {},
   "source": [
    "And now let's save it into a file (the three files: dictionary, list, and tuple):"
   ]
  },
  {
   "cell_type": "code",
   "execution_count": 61,
   "id": "9068f142",
   "metadata": {},
   "outputs": [],
   "source": [
    "#Your code in here"
   ]
  },
  {
   "cell_type": "code",
   "execution_count": 62,
   "id": "e075171b",
   "metadata": {},
   "outputs": [],
   "source": [
    "#Solution\n",
    "with open(\"winners_dictionary.txt\", \"w\", encoding = \"utf-8\") as f:\n",
    "    f.write(str(olympic_winners))"
   ]
  },
  {
   "cell_type": "code",
   "execution_count": 63,
   "id": "83a34228",
   "metadata": {},
   "outputs": [],
   "source": [
    "with open(\"winners_list.txt\", \"w\", encoding = \"utf-8\") as f:\n",
    "    f.write(str(olympic_winners_2))"
   ]
  },
  {
   "cell_type": "code",
   "execution_count": 64,
   "id": "bc17f6ad",
   "metadata": {},
   "outputs": [],
   "source": [
    "with open(\"winners_tupple.txt\", \"w\", encoding = \"utf-8\") as f:\n",
    "    f.write(str(olympic_winners_3))"
   ]
  },
  {
   "cell_type": "markdown",
   "id": "98bd1ba4",
   "metadata": {},
   "source": [
    "Let's now do the same thing, but this time using a dataframe to save it as a csv file."
   ]
  },
  {
   "cell_type": "code",
   "execution_count": 65,
   "id": "6237eefa",
   "metadata": {},
   "outputs": [],
   "source": [
    "#Your code in here"
   ]
  },
  {
   "cell_type": "code",
   "execution_count": 66,
   "id": "b802fd95",
   "metadata": {},
   "outputs": [],
   "source": [
    "#Solution\n",
    "\n",
    "data = pd.DataFrame(winner_countries, columns = [\"times winning\"])"
   ]
  },
  {
   "cell_type": "code",
   "execution_count": 67,
   "id": "7aa2b135",
   "metadata": {},
   "outputs": [
    {
     "data": {
      "text/html": [
       "<div>\n",
       "<style scoped>\n",
       "    .dataframe tbody tr th:only-of-type {\n",
       "        vertical-align: middle;\n",
       "    }\n",
       "\n",
       "    .dataframe tbody tr th {\n",
       "        vertical-align: top;\n",
       "    }\n",
       "\n",
       "    .dataframe thead th {\n",
       "        text-align: right;\n",
       "    }\n",
       "</style>\n",
       "<table border=\"1\" class=\"dataframe\">\n",
       "  <thead>\n",
       "    <tr style=\"text-align: right;\">\n",
       "      <th></th>\n",
       "      <th>times winning</th>\n",
       "    </tr>\n",
       "  </thead>\n",
       "  <tbody>\n",
       "    <tr>\n",
       "      <th>0</th>\n",
       "      <td>18</td>\n",
       "    </tr>\n",
       "    <tr>\n",
       "      <th>1</th>\n",
       "      <td>1</td>\n",
       "    </tr>\n",
       "    <tr>\n",
       "      <th>2</th>\n",
       "      <td>1</td>\n",
       "    </tr>\n",
       "    <tr>\n",
       "      <th>3</th>\n",
       "      <td>1</td>\n",
       "    </tr>\n",
       "    <tr>\n",
       "      <th>4</th>\n",
       "      <td>6</td>\n",
       "    </tr>\n",
       "    <tr>\n",
       "      <th>5</th>\n",
       "      <td>1</td>\n",
       "    </tr>\n",
       "  </tbody>\n",
       "</table>\n",
       "</div>"
      ],
      "text/plain": [
       "   times winning\n",
       "0             18\n",
       "1              1\n",
       "2              1\n",
       "3              1\n",
       "4              6\n",
       "5              1"
      ]
     },
     "execution_count": 67,
     "metadata": {},
     "output_type": "execute_result"
    }
   ],
   "source": [
    "data"
   ]
  },
  {
   "cell_type": "code",
   "execution_count": 68,
   "id": "7444dbee",
   "metadata": {},
   "outputs": [],
   "source": [
    "countries = [\"United States\", \"France\", \"UK\", \"Germany\", \"Soviet Union\", \"China\"]"
   ]
  },
  {
   "cell_type": "code",
   "execution_count": 69,
   "id": "15ab424a",
   "metadata": {},
   "outputs": [],
   "source": [
    "data[\"countries\"] = countries"
   ]
  },
  {
   "cell_type": "code",
   "execution_count": 70,
   "id": "5dad8238",
   "metadata": {},
   "outputs": [
    {
     "data": {
      "text/html": [
       "<div>\n",
       "<style scoped>\n",
       "    .dataframe tbody tr th:only-of-type {\n",
       "        vertical-align: middle;\n",
       "    }\n",
       "\n",
       "    .dataframe tbody tr th {\n",
       "        vertical-align: top;\n",
       "    }\n",
       "\n",
       "    .dataframe thead th {\n",
       "        text-align: right;\n",
       "    }\n",
       "</style>\n",
       "<table border=\"1\" class=\"dataframe\">\n",
       "  <thead>\n",
       "    <tr style=\"text-align: right;\">\n",
       "      <th></th>\n",
       "      <th>times winning</th>\n",
       "      <th>countries</th>\n",
       "    </tr>\n",
       "  </thead>\n",
       "  <tbody>\n",
       "    <tr>\n",
       "      <th>0</th>\n",
       "      <td>18</td>\n",
       "      <td>United States</td>\n",
       "    </tr>\n",
       "    <tr>\n",
       "      <th>1</th>\n",
       "      <td>1</td>\n",
       "      <td>France</td>\n",
       "    </tr>\n",
       "    <tr>\n",
       "      <th>2</th>\n",
       "      <td>1</td>\n",
       "      <td>UK</td>\n",
       "    </tr>\n",
       "    <tr>\n",
       "      <th>3</th>\n",
       "      <td>1</td>\n",
       "      <td>Germany</td>\n",
       "    </tr>\n",
       "    <tr>\n",
       "      <th>4</th>\n",
       "      <td>6</td>\n",
       "      <td>Soviet Union</td>\n",
       "    </tr>\n",
       "    <tr>\n",
       "      <th>5</th>\n",
       "      <td>1</td>\n",
       "      <td>China</td>\n",
       "    </tr>\n",
       "  </tbody>\n",
       "</table>\n",
       "</div>"
      ],
      "text/plain": [
       "   times winning      countries\n",
       "0             18  United States\n",
       "1              1         France\n",
       "2              1             UK\n",
       "3              1        Germany\n",
       "4              6   Soviet Union\n",
       "5              1          China"
      ]
     },
     "execution_count": 70,
     "metadata": {},
     "output_type": "execute_result"
    }
   ],
   "source": [
    "data"
   ]
  },
  {
   "cell_type": "code",
   "execution_count": 71,
   "id": "cd2530b5",
   "metadata": {},
   "outputs": [],
   "source": [
    "data.to_csv(\"olympic_winners.csv\")"
   ]
  },
  {
   "cell_type": "code",
   "execution_count": 72,
   "id": "a58857e3",
   "metadata": {},
   "outputs": [],
   "source": [
    "with open(\"olympic_winners.csv\", \"r\", encoding = \"utf-8\") as f:\n",
    "    data_2 = f.read()"
   ]
  },
  {
   "cell_type": "code",
   "execution_count": 73,
   "id": "8dad9d38",
   "metadata": {},
   "outputs": [
    {
     "data": {
      "text/plain": [
       "',times winning,countries\\n0,18,United States\\n1,1,France\\n2,1,UK\\n3,1,Germany\\n4,6,Soviet Union\\n5,1,China\\n'"
      ]
     },
     "execution_count": 73,
     "metadata": {},
     "output_type": "execute_result"
    }
   ],
   "source": [
    "data_2"
   ]
  },
  {
   "cell_type": "code",
   "execution_count": 34,
   "id": "c106970b",
   "metadata": {},
   "outputs": [],
   "source": [
    "data_3 = pd.read_csv(\"olympic_winners.csv\", index_col = 0)"
   ]
  },
  {
   "cell_type": "code",
   "execution_count": 35,
   "id": "faa08f45",
   "metadata": {},
   "outputs": [
    {
     "data": {
      "text/html": [
       "<div>\n",
       "<style scoped>\n",
       "    .dataframe tbody tr th:only-of-type {\n",
       "        vertical-align: middle;\n",
       "    }\n",
       "\n",
       "    .dataframe tbody tr th {\n",
       "        vertical-align: top;\n",
       "    }\n",
       "\n",
       "    .dataframe thead th {\n",
       "        text-align: right;\n",
       "    }\n",
       "</style>\n",
       "<table border=\"1\" class=\"dataframe\">\n",
       "  <thead>\n",
       "    <tr style=\"text-align: right;\">\n",
       "      <th></th>\n",
       "      <th>times winning</th>\n",
       "      <th>countries</th>\n",
       "    </tr>\n",
       "  </thead>\n",
       "  <tbody>\n",
       "    <tr>\n",
       "      <th>0</th>\n",
       "      <td>18</td>\n",
       "      <td>United States</td>\n",
       "    </tr>\n",
       "    <tr>\n",
       "      <th>1</th>\n",
       "      <td>1</td>\n",
       "      <td>France</td>\n",
       "    </tr>\n",
       "    <tr>\n",
       "      <th>2</th>\n",
       "      <td>1</td>\n",
       "      <td>UK</td>\n",
       "    </tr>\n",
       "    <tr>\n",
       "      <th>3</th>\n",
       "      <td>1</td>\n",
       "      <td>Germany</td>\n",
       "    </tr>\n",
       "    <tr>\n",
       "      <th>4</th>\n",
       "      <td>6</td>\n",
       "      <td>Soviet Union</td>\n",
       "    </tr>\n",
       "    <tr>\n",
       "      <th>5</th>\n",
       "      <td>1</td>\n",
       "      <td>China</td>\n",
       "    </tr>\n",
       "  </tbody>\n",
       "</table>\n",
       "</div>"
      ],
      "text/plain": [
       "   times winning      countries\n",
       "0             18  United States\n",
       "1              1         France\n",
       "2              1             UK\n",
       "3              1        Germany\n",
       "4              6   Soviet Union\n",
       "5              1          China"
      ]
     },
     "execution_count": 35,
     "metadata": {},
     "output_type": "execute_result"
    }
   ],
   "source": [
    "data_3"
   ]
  },
  {
   "cell_type": "code",
   "execution_count": 36,
   "id": "477234bb",
   "metadata": {},
   "outputs": [
    {
     "data": {
      "text/plain": [
       "times winning         1\n",
       "countries        France\n",
       "Name: 1, dtype: object"
      ]
     },
     "execution_count": 36,
     "metadata": {},
     "output_type": "execute_result"
    }
   ],
   "source": [
    "data_3.iloc[1]"
   ]
  },
  {
   "cell_type": "code",
   "execution_count": null,
   "id": "97dc8bc8",
   "metadata": {},
   "outputs": [],
   "source": []
  }
 ],
 "metadata": {
  "kernelspec": {
   "display_name": "Python 3 (ipykernel)",
   "language": "python",
   "name": "python3"
  },
  "language_info": {
   "codemirror_mode": {
    "name": "ipython",
    "version": 3
   },
   "file_extension": ".py",
   "mimetype": "text/x-python",
   "name": "python",
   "nbconvert_exporter": "python",
   "pygments_lexer": "ipython3",
   "version": "3.11.7"
  }
 },
 "nbformat": 4,
 "nbformat_minor": 5
}
