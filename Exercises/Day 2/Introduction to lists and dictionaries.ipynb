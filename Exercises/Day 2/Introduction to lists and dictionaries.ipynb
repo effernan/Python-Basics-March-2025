{
 "cells": [
  {
   "cell_type": "markdown",
   "id": "5e49b4f3",
   "metadata": {},
   "source": [
    "(C) Elena Fernández Fernández"
   ]
  },
  {
   "cell_type": "markdown",
   "id": "bba4dca2",
   "metadata": {},
   "source": [
    "# Exercises Day 2"
   ]
  },
  {
   "cell_type": "markdown",
   "id": "92e91043",
   "metadata": {},
   "source": [
    "# Instructor: Elena Fernández Fernández"
   ]
  },
  {
   "cell_type": "markdown",
   "id": "a5b7e331",
   "metadata": {},
   "source": [
    "# Eurovision comes to Switzerland!"
   ]
  },
  {
   "cell_type": "markdown",
   "id": "9a205cf8",
   "metadata": {},
   "source": [
    "The 2024 edition of the Eurovision song festival will be hosted by Zurich! National delegations formed by singers, dancers, musicians, and their whole team will arrive to Switzwerland, and they will need help moving around.<br>\n",
    "\n",
    "**Data Types (strings, integers, floats, boolean) and Lists**\n",
    "\n",
    "You are a software engineer working in an App that the canton of Zurich is developping to help all the Eurovision national teams access basic information. You are in charge of writing a script with the following information (create one variable for each entry). Example: hotel = \"Hilton\". Your variables will be a combination of data types (strings, integers, booleans).\n",
    "\n",
    "> -  Hotel,\n",
    "> -  Hotel address, \n",
    "> -  Name of Zurich train station,\n",
    "> -  Prize of one day ticket to use Zurich public transportation,\n",
    "> -  Can you use public transportation and not pay? (use a Boolean operator),\n",
    "> -  Telephone number of taxis,\n",
    "> -  Cost of one taxi ride from the hotel to the airport,\n",
    "> -  Telephone number of ambulance.\n",
    "> -  Translate \"I'm sick\" in German.\n",
    "> -  Swiss Phone Company\n",
    "> -  Good place for brunch, \n",
    "> -  Prize of brunch,\n",
    "> -  Good place for dinner,\n",
    "> -  Prize for dinner,\n",
    "> -  Two vegetarian restaurants,(use a list [])\n",
    "> -  Best patiserie in Zurich,\n",
    "> -  Prize of one brownie, \n",
    "> -  Best coffee shop in Zurich,\n",
    "> -  Prize of one coffe,\n",
    "> -  Three places for sightseeing in Zurich, (use a list [])\n",
    "> -  Do people in Zurich speak English?, (use a Boolean operator)\n",
    "> -  Swiss typical souvenir.\n",
    "> -  Swiss typical food,\n",
    "> -  How to say \"thank you\", \"you are welcome\", \"hello\", and \"good bye\" in German (use a list []).\n"
   ]
  },
  {
   "cell_type": "markdown",
   "id": "cf6c6aeb",
   "metadata": {},
   "source": [
    "# A. Lists"
   ]
  },
  {
   "cell_type": "code",
   "execution_count": 13,
   "id": "169887f2-cf17-4a44-a1c0-ec1bb7bddbab",
   "metadata": {},
   "outputs": [],
   "source": [
    "#Your code in here\n"
   ]
  },
  {
   "cell_type": "code",
   "execution_count": 1,
   "id": "f1f9fc54",
   "metadata": {},
   "outputs": [],
   "source": [
    "#Solution\n",
    "hotel = \"Hilton\"\n",
    "hotel_address = \"Bahnhofstrasse 25\"\n",
    "train_station = \"Hauptbahnhof\"\n",
    "train_ticket_24_hours = 8\n",
    "free_transportation = False\n",
    "telephone_taxis = \"+41-123-456-789\"\n",
    "taxi_ride_airport = 60\n",
    "telephone_ambulance = \"+41-111-111-111\"\n",
    "sick_in_german = \"Ich bin krank\"\n",
    "swiss_phone_company = \"Sunrise\"\n",
    "brunch = \"Green Gorilla\"\n",
    "prize_brunch = 25.28\n",
    "dinner = \"San Gennaro\"\n",
    "prize_dinner = 25\n",
    "vegetarian_restaurants = [\"Haus Hilt\", \"Marktküche\"]\n",
    "patisserie = \"John Baker\"\n",
    "prize_brownie = 6.5\n",
    "coffee_shop = \"Mame\"\n",
    "prize_cofe = 7\n",
    "english_speaking = True\n",
    "sightseen = [\"Chinagarten\", \"Lindenhof\", \"Grossmünster\"]\n",
    "swiss_souvenir = \"Swiss knife\"\n",
    "swiss_food = \"chocolate\" \n",
    "salutations = [\"Danke\", \"Bitte\", \"Hallo\", \"Tschüss\"]"
   ]
  },
  {
   "cell_type": "markdown",
   "id": "7f436243-3148-495f-bc62-fe4242aef781",
   "metadata": {},
   "source": [
    "Now please create a list that contains the information of the hotel, hotel address, train ticket 24 hours, free transportation, and english speaking. Call that variable random_information, and print it."
   ]
  },
  {
   "cell_type": "code",
   "execution_count": 2,
   "id": "02f45792-c28b-48a1-93a8-a36cc07e8657",
   "metadata": {},
   "outputs": [],
   "source": [
    "#Your code in here"
   ]
  },
  {
   "cell_type": "code",
   "execution_count": 11,
   "id": "52590c51-7742-46e4-a78a-14a296bb9b17",
   "metadata": {},
   "outputs": [
    {
     "name": "stdout",
     "output_type": "stream",
     "text": [
      "['Hilton', 'Bahnhofstrasse 25', 8, False, True]\n"
     ]
    }
   ],
   "source": [
    "#Solution\n",
    "\n",
    "random_information = [\"Hilton\", \"Bahnhofstrasse 25\", 8, False, True]\n",
    "\n",
    "print(random_information)"
   ]
  },
  {
   "cell_type": "markdown",
   "id": "723bb421-f720-41e3-a4f0-a1ef6ade465a",
   "metadata": {},
   "source": [
    "Check the length of the variable."
   ]
  },
  {
   "cell_type": "code",
   "execution_count": 4,
   "id": "f7154d24-8494-4613-a5c7-e24036ad84b1",
   "metadata": {},
   "outputs": [],
   "source": [
    "#Your code in here"
   ]
  },
  {
   "cell_type": "code",
   "execution_count": 12,
   "id": "9dfe871a-bc64-48a5-a10e-7cc6bf9afd62",
   "metadata": {},
   "outputs": [
    {
     "data": {
      "text/plain": [
       "5"
      ]
     },
     "execution_count": 12,
     "metadata": {},
     "output_type": "execute_result"
    }
   ],
   "source": [
    "#Solution\n",
    "\n",
    "len(random_information)"
   ]
  },
  {
   "cell_type": "markdown",
   "id": "d72e7875-c902-424c-812f-e56b2ba86860",
   "metadata": {},
   "source": [
    "Check the type of variable"
   ]
  },
  {
   "cell_type": "code",
   "execution_count": 13,
   "id": "cd51683a-b9c5-4d0d-905d-8f24937006cd",
   "metadata": {},
   "outputs": [],
   "source": [
    "#Your code in here"
   ]
  },
  {
   "cell_type": "code",
   "execution_count": 14,
   "id": "40de761d-c697-4a9c-9296-f7e80f28afc4",
   "metadata": {},
   "outputs": [
    {
     "data": {
      "text/plain": [
       "list"
      ]
     },
     "execution_count": 14,
     "metadata": {},
     "output_type": "execute_result"
    }
   ],
   "source": [
    "type(random_information)"
   ]
  },
  {
   "cell_type": "markdown",
   "id": "740dab6b-3573-4de7-81f8-e47b1a56ace9",
   "metadata": {},
   "source": [
    "Select the first element in the list (remember the weird Python 0 notation!). Then check the type of data of that first variable."
   ]
  },
  {
   "cell_type": "code",
   "execution_count": 8,
   "id": "0ced61bd-cbf6-48f4-b2cb-1bb9b275e33a",
   "metadata": {},
   "outputs": [],
   "source": [
    "#Your code in here"
   ]
  },
  {
   "cell_type": "code",
   "execution_count": 9,
   "id": "141fd3e8-5b35-4d37-9951-5e67940dd2c4",
   "metadata": {},
   "outputs": [
    {
     "data": {
      "text/plain": [
       "'Hilton'"
      ]
     },
     "execution_count": 9,
     "metadata": {},
     "output_type": "execute_result"
    }
   ],
   "source": [
    "#Solution\n",
    "random_information[0]"
   ]
  },
  {
   "cell_type": "code",
   "execution_count": 15,
   "id": "75faac57-a114-4d37-a950-ef325c0bdb14",
   "metadata": {},
   "outputs": [
    {
     "data": {
      "text/plain": [
       "str"
      ]
     },
     "execution_count": 15,
     "metadata": {},
     "output_type": "execute_result"
    }
   ],
   "source": [
    "type(random_information[0])"
   ]
  },
  {
   "cell_type": "markdown",
   "id": "5b85d89b-0d61-4ca3-a43c-fb947fb6cf75",
   "metadata": {},
   "source": [
    "Select elements 2 to 4 in that list (remember the weird Python 0 notation and the even more weird last element in list thing!)."
   ]
  },
  {
   "cell_type": "code",
   "execution_count": 16,
   "id": "50e53249-8c56-4343-8cda-cb944dc3e036",
   "metadata": {},
   "outputs": [],
   "source": [
    "#Your code in here"
   ]
  },
  {
   "cell_type": "code",
   "execution_count": 17,
   "id": "ddf33ecc-4e7c-4ad2-8627-c1600ec7907e",
   "metadata": {},
   "outputs": [
    {
     "data": {
      "text/plain": [
       "['Bahnhofstrasse 25', 8, False]"
      ]
     },
     "execution_count": 17,
     "metadata": {},
     "output_type": "execute_result"
    }
   ],
   "source": [
    "#Solution\n",
    "\n",
    "random_information[1:4] #So:the second element is number 1 (because the first one is 0) but the fourth one is number 4 (instead of 3) \n",
    "                         #because we need to add an extra one. So confusing!"
   ]
  },
  {
   "cell_type": "markdown",
   "id": "c8000667-2ad3-48ac-a265-7c2fbe1f2c71",
   "metadata": {},
   "source": [
    "And now select the fith element in that list."
   ]
  },
  {
   "cell_type": "code",
   "execution_count": 18,
   "id": "fb5b058c-9b58-4ced-86b9-51f40a38dfc3",
   "metadata": {},
   "outputs": [],
   "source": [
    "#Your code in here"
   ]
  },
  {
   "cell_type": "code",
   "execution_count": 19,
   "id": "d42c6b32-adda-49aa-ad3f-dfa57acb4fd8",
   "metadata": {},
   "outputs": [
    {
     "data": {
      "text/plain": [
       "True"
      ]
     },
     "execution_count": 19,
     "metadata": {},
     "output_type": "execute_result"
    }
   ],
   "source": [
    "#Solution\n",
    "random_information[4] #but now element 5 is number 4 because we are not selecting things in a list!"
   ]
  },
  {
   "cell_type": "code",
   "execution_count": 20,
   "id": "8d5dc3a2-1f27-4ef3-babc-d721636c7e20",
   "metadata": {},
   "outputs": [
    {
     "data": {
      "text/plain": [
       "['Hilton', 'Bahnhofstrasse 25', 8, False, True]"
      ]
     },
     "execution_count": 20,
     "metadata": {},
     "output_type": "execute_result"
    }
   ],
   "source": [
    "random_information #just to remember how the list looked like"
   ]
  },
  {
   "cell_type": "markdown",
   "id": "0283f2a2-3377-403e-87cf-334bd958e07b",
   "metadata": {},
   "source": [
    "# B. Dictionaries\n",
    "\n",
    "Eurovision artists may need to go to the doctor! Let's create a special medical emergency app for them.\n"
   ]
  },
  {
   "cell_type": "markdown",
   "id": "49e75e58",
   "metadata": {},
   "source": [
    "Create a variable called \"medical_information\". Inside, please create a dictionary that contains the following key value pairs (from the information you wrote before): telephone ambulance, sick in german, telephone taxis, one salutation."
   ]
  },
  {
   "cell_type": "code",
   "execution_count": 1,
   "id": "d1424d4b",
   "metadata": {},
   "outputs": [],
   "source": [
    "#Your code in here"
   ]
  },
  {
   "cell_type": "code",
   "execution_count": 21,
   "id": "b9fe603f",
   "metadata": {},
   "outputs": [],
   "source": [
    "#Solution\n",
    "\n",
    "medical_information = {\"telephone ambulace\" :  \"+41-111-111-111\",\n",
    "                       \"sick in german\" : \"Ich bin krank\",\n",
    "                       \"telephone taxis\" : \"+41-123-456-789\",\n",
    "                       \"thank you\" : \"Danke\"}\n",
    "    "
   ]
  },
  {
   "cell_type": "code",
   "execution_count": 22,
   "id": "51e06de5",
   "metadata": {},
   "outputs": [
    {
     "data": {
      "text/plain": [
       "{'telephone ambulace': '+41-111-111-111',\n",
       " 'sick in german': 'Ich bin krank',\n",
       " 'telephone taxis': '+41-123-456-789',\n",
       " 'thank you': 'Danke'}"
      ]
     },
     "execution_count": 22,
     "metadata": {},
     "output_type": "execute_result"
    }
   ],
   "source": [
    "medical_information"
   ]
  },
  {
   "cell_type": "markdown",
   "id": "43f9f1bc",
   "metadata": {},
   "source": [
    "Check the lengh of the dictionary"
   ]
  },
  {
   "cell_type": "code",
   "execution_count": 23,
   "id": "074bf786",
   "metadata": {},
   "outputs": [],
   "source": [
    "#Your code in here"
   ]
  },
  {
   "cell_type": "code",
   "execution_count": 24,
   "id": "a846dd97",
   "metadata": {},
   "outputs": [
    {
     "data": {
      "text/plain": [
       "4"
      ]
     },
     "execution_count": 24,
     "metadata": {},
     "output_type": "execute_result"
    }
   ],
   "source": [
    "#Solution\n",
    "\n",
    "len(medical_information)"
   ]
  },
  {
   "cell_type": "markdown",
   "id": "f4b68ed4",
   "metadata": {},
   "source": [
    "Delete the last value"
   ]
  },
  {
   "cell_type": "code",
   "execution_count": 25,
   "id": "e82f1139",
   "metadata": {},
   "outputs": [],
   "source": [
    "#Your code in here"
   ]
  },
  {
   "cell_type": "code",
   "execution_count": 26,
   "id": "e0b69a39",
   "metadata": {},
   "outputs": [
    {
     "data": {
      "text/plain": [
       "{'telephone ambulace': '+41-111-111-111',\n",
       " 'sick in german': 'Ich bin krank',\n",
       " 'telephone taxis': '+41-123-456-789'}"
      ]
     },
     "execution_count": 26,
     "metadata": {},
     "output_type": "execute_result"
    }
   ],
   "source": [
    "#solution\n",
    "\n",
    "del(medical_information[\"thank you\"])\n",
    "medical_information"
   ]
  },
  {
   "cell_type": "markdown",
   "id": "8cb86aaf",
   "metadata": {},
   "source": [
    "Now add a different salutation"
   ]
  },
  {
   "cell_type": "code",
   "execution_count": 28,
   "id": "76665336",
   "metadata": {},
   "outputs": [],
   "source": [
    "#Your code in here"
   ]
  },
  {
   "cell_type": "code",
   "execution_count": 29,
   "id": "e87dea49",
   "metadata": {},
   "outputs": [],
   "source": [
    "#Solution\n",
    "medical_information[\"Hello\"] = \"Hallo\""
   ]
  },
  {
   "cell_type": "code",
   "execution_count": 30,
   "id": "4a5888cb",
   "metadata": {},
   "outputs": [
    {
     "data": {
      "text/plain": [
       "{'telephone ambulace': '+41-111-111-111',\n",
       " 'sick in german': 'Ich bin krank',\n",
       " 'telephone taxis': '+41-123-456-789',\n",
       " 'Hello': 'Hallo'}"
      ]
     },
     "execution_count": 30,
     "metadata": {},
     "output_type": "execute_result"
    }
   ],
   "source": [
    "medical_information"
   ]
  },
  {
   "cell_type": "markdown",
   "id": "bfa190ad",
   "metadata": {},
   "source": [
    "Now change the information of \"telephone taxis\" to +41-000-000-000"
   ]
  },
  {
   "cell_type": "code",
   "execution_count": 34,
   "id": "8ecfc492",
   "metadata": {},
   "outputs": [],
   "source": [
    "#Your code in here"
   ]
  },
  {
   "cell_type": "code",
   "execution_count": 35,
   "id": "ddcd48ba",
   "metadata": {},
   "outputs": [
    {
     "data": {
      "text/plain": [
       "{'telephone ambulace': '+41-111-111-111',\n",
       " 'sick in german': 'Ich bin krank',\n",
       " 'telephone taxis': '+41-000-000-000',\n",
       " 'Hello': 'Hallo'}"
      ]
     },
     "execution_count": 35,
     "metadata": {},
     "output_type": "execute_result"
    }
   ],
   "source": [
    "#Solution\n",
    "medical_information[\"telephone taxis\"] = \"+41-000-000-000\"\n",
    "\n",
    "medical_information"
   ]
  },
  {
   "cell_type": "markdown",
   "id": "9f880cf5",
   "metadata": {},
   "source": [
    "No just print the values of \"sick in German\""
   ]
  },
  {
   "cell_type": "code",
   "execution_count": 36,
   "id": "41846e45",
   "metadata": {},
   "outputs": [],
   "source": [
    "#Your code in here"
   ]
  },
  {
   "cell_type": "code",
   "execution_count": 37,
   "id": "83360173",
   "metadata": {},
   "outputs": [
    {
     "data": {
      "text/plain": [
       "'Ich bin krank'"
      ]
     },
     "execution_count": 37,
     "metadata": {},
     "output_type": "execute_result"
    }
   ],
   "source": [
    "#Solution\n",
    "\n",
    "medical_information[\"sick in german\"]"
   ]
  }
 ],
 "metadata": {
  "kernelspec": {
   "display_name": "Python 3 (ipykernel)",
   "language": "python",
   "name": "python3"
  },
  "language_info": {
   "codemirror_mode": {
    "name": "ipython",
    "version": 3
   },
   "file_extension": ".py",
   "mimetype": "text/x-python",
   "name": "python",
   "nbconvert_exporter": "python",
   "pygments_lexer": "ipython3",
   "version": "3.11.7"
  }
 },
 "nbformat": 4,
 "nbformat_minor": 5
}
