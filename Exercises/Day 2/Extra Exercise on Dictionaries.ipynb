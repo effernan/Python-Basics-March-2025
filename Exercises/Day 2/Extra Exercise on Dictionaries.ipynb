{
 "cells": [
  {
   "cell_type": "markdown",
   "id": "9fd097b7",
   "metadata": {},
   "source": [
    "# Extra information on Zurich hotels for our Eurovision participants"
   ]
  },
  {
   "cell_type": "markdown",
   "id": "556924ca",
   "metadata": {},
   "source": [
    "Eurovision attendees loved Zurich so much last year that they would like to come back for a visit! Of course it helps that your app made everything so much easier for them :)\n",
    "\n",
    "Let's help them to find the best accommodation for a weekend (dates of your choice) according to their needs by creating a new Icon in the App called \"Accomodation\" using this information find on **booking.com**: https://www.booking.com/searchresults.en-gb.html?ss=Z%C3%BCrich&ssne=Z%C3%BCrich&ssne_untouched=Z%C3%BCrich&label=zurich-CMdbfYxpyMTbpvRxKyZ2AgS400046604913%3Apl%3Ata%3Ap1220%3Ap2%3Aac%3Aap%3Aneg%3Afi%3Atiaud-294889292373%3Akwd-567825861%3Alp1005508%3Ali%3Adec%3Adm%3Appccp%3DUmFuZG9tSVYkc2RlIyh9Yf5EcukO1MOGLSSAuId8ToA&sid=eace6ba344c7153fdf01b229d61d0a42&aid=303948&lang=en-gb&sb=1&src_elem=sb&src=searchresults&dest_id=-2554935&dest_type=city&checkin=2023-12-14&checkout=2023-12-17&group_adults=1&no_rooms=1&group_children=0 \n"
   ]
  },
  {
   "cell_type": "markdown",
   "id": "249bbc4e",
   "metadata": {},
   "source": [
    "**1. Create a dictionary named \"Zurich_hotels\" with ten hotels**. Create 10 keys with the name of the hotels (data type strings) and 10 values with the prize (data type string)."
   ]
  },
  {
   "cell_type": "code",
   "execution_count": 32,
   "id": "1db48732",
   "metadata": {},
   "outputs": [],
   "source": [
    "#Your code in here"
   ]
  },
  {
   "cell_type": "code",
   "execution_count": 29,
   "id": "b766733d",
   "metadata": {},
   "outputs": [],
   "source": [
    "#Solution\n",
    "\n",
    "Zurich_hotels = {\"VISIONAPARTMENS Cramerstrasse\" : \"319\", \"VISIONAPARTMENTS Rotachstrasse\": \"303\", \"Locke am Platz\": \"518\",\n",
    "               \"Trip Inn Zurich Hotel\": \"417\", \"Saint Georges Hotel\": \"323\", \"Crowne Plaza Zürich\": \"479\", \n",
    "                 \"ibis Zürich Messe Airport\": \"287\", \"Hotel Krone Unterstrass\": \"578\", \n",
    "                 \"VISIONAPARTMENTS Gerechtigkeitsgasse\": \"480\", \"Olympia Hotel Zurich\" : \"301\" \n",
    "}"
   ]
  },
  {
   "cell_type": "code",
   "execution_count": 30,
   "id": "60a293bd",
   "metadata": {},
   "outputs": [
    {
     "data": {
      "text/plain": [
       "10"
      ]
     },
     "execution_count": 30,
     "metadata": {},
     "output_type": "execute_result"
    }
   ],
   "source": [
    "len(Zurich_hotels) "
   ]
  },
  {
   "cell_type": "markdown",
   "id": "e8501f6d",
   "metadata": {},
   "source": [
    "2. Print the dictionary using the .items() method and check its type."
   ]
  },
  {
   "cell_type": "code",
   "execution_count": 31,
   "id": "7e17a926",
   "metadata": {},
   "outputs": [],
   "source": [
    "##Your code in here"
   ]
  },
  {
   "cell_type": "code",
   "execution_count": 32,
   "id": "6e184cbb",
   "metadata": {},
   "outputs": [
    {
     "data": {
      "text/plain": [
       "dict_items([('VISIONAPARTMENS Cramerstrasse', '319'), ('VISIONAPARTMENTS Rotachstrasse', '303'), ('Locke am Platz', '518'), ('Trip Inn Zurich Hotel', '417'), ('Saint Georges Hotel', '323'), ('Crowne Plaza Zürich', '479'), ('ibis Zürich Messe Airport', '287'), ('Hotel Krone Unterstrass', '578'), ('VISIONAPARTMENTS Gerechtigkeitsgasse', '480'), ('Olympia Hotel Zurich', '301')])"
      ]
     },
     "execution_count": 32,
     "metadata": {},
     "output_type": "execute_result"
    }
   ],
   "source": [
    "#Solution\n",
    "\n",
    "Zurich_hotels.items()"
   ]
  },
  {
   "cell_type": "code",
   "execution_count": 33,
   "id": "21abd5c0",
   "metadata": {},
   "outputs": [
    {
     "data": {
      "text/plain": [
       "dict_items"
      ]
     },
     "execution_count": 33,
     "metadata": {},
     "output_type": "execute_result"
    }
   ],
   "source": [
    "type(Zurich_hotels.items())"
   ]
  },
  {
   "cell_type": "markdown",
   "id": "67ef22dc",
   "metadata": {},
   "source": [
    "3. Find a way to store that information into a list"
   ]
  },
  {
   "cell_type": "code",
   "execution_count": 34,
   "id": "d6ffaf67",
   "metadata": {},
   "outputs": [],
   "source": [
    "#your code in here"
   ]
  },
  {
   "cell_type": "code",
   "execution_count": 35,
   "id": "41e018b0",
   "metadata": {},
   "outputs": [
    {
     "name": "stdout",
     "output_type": "stream",
     "text": [
      "[('VISIONAPARTMENS Cramerstrasse', '319'), ('VISIONAPARTMENTS Rotachstrasse', '303'), ('Locke am Platz', '518'), ('Trip Inn Zurich Hotel', '417'), ('Saint Georges Hotel', '323'), ('Crowne Plaza Zürich', '479'), ('ibis Zürich Messe Airport', '287'), ('Hotel Krone Unterstrass', '578'), ('VISIONAPARTMENTS Gerechtigkeitsgasse', '480'), ('Olympia Hotel Zurich', '301')]\n"
     ]
    }
   ],
   "source": [
    "#Solution\n",
    "\n",
    "list_hotels = list(Zurich_hotels.items())\n",
    "\n",
    "print(list_hotels)"
   ]
  },
  {
   "cell_type": "code",
   "execution_count": 36,
   "id": "6193f55d",
   "metadata": {},
   "outputs": [
    {
     "data": {
      "text/plain": [
       "list"
      ]
     },
     "execution_count": 36,
     "metadata": {},
     "output_type": "execute_result"
    }
   ],
   "source": [
    "type(list_hotels)"
   ]
  },
  {
   "cell_type": "code",
   "execution_count": 37,
   "id": "3ad3d162",
   "metadata": {},
   "outputs": [],
   "source": [
    "number = 2"
   ]
  },
  {
   "cell_type": "code",
   "execution_count": 38,
   "id": "9fa9a9b9",
   "metadata": {},
   "outputs": [
    {
     "data": {
      "text/plain": [
       "int"
      ]
     },
     "execution_count": 38,
     "metadata": {},
     "output_type": "execute_result"
    }
   ],
   "source": [
    "type(number)"
   ]
  },
  {
   "cell_type": "code",
   "execution_count": 39,
   "id": "f4a80a03",
   "metadata": {},
   "outputs": [],
   "source": [
    "number_str = str(number)"
   ]
  },
  {
   "cell_type": "code",
   "execution_count": 40,
   "id": "59e24bf9-ddae-4dae-8005-85e8070ae6ca",
   "metadata": {},
   "outputs": [
    {
     "data": {
      "text/plain": [
       "'2'"
      ]
     },
     "execution_count": 40,
     "metadata": {},
     "output_type": "execute_result"
    }
   ],
   "source": [
    "number_str"
   ]
  },
  {
   "cell_type": "code",
   "execution_count": 41,
   "id": "40d198dc",
   "metadata": {},
   "outputs": [
    {
     "data": {
      "text/plain": [
       "str"
      ]
     },
     "execution_count": 41,
     "metadata": {},
     "output_type": "execute_result"
    }
   ],
   "source": [
    "type(number_str) #conversion"
   ]
  },
  {
   "cell_type": "markdown",
   "id": "d7fb6cbd",
   "metadata": {},
   "source": [
    "4. Add the piece of text \"CHF\" to the values"
   ]
  },
  {
   "cell_type": "code",
   "execution_count": 42,
   "id": "ccbac213",
   "metadata": {},
   "outputs": [],
   "source": [
    "#Your code in here"
   ]
  },
  {
   "cell_type": "code",
   "execution_count": 43,
   "id": "88ec86ce",
   "metadata": {},
   "outputs": [
    {
     "name": "stdout",
     "output_type": "stream",
     "text": [
      "VISIONAPARTMENS Cramerstrasse 319 CHF\n",
      "VISIONAPARTMENTS Rotachstrasse 303 CHF\n",
      "Locke am Platz 518 CHF\n",
      "Trip Inn Zurich Hotel 417 CHF\n",
      "Saint Georges Hotel 323 CHF\n",
      "Crowne Plaza Zürich 479 CHF\n",
      "ibis Zürich Messe Airport 287 CHF\n",
      "Hotel Krone Unterstrass 578 CHF\n",
      "VISIONAPARTMENTS Gerechtigkeitsgasse 480 CHF\n",
      "Olympia Hotel Zurich 301 CHF\n"
     ]
    }
   ],
   "source": [
    "#Solution\n",
    "\n",
    "for key, value in Zurich_hotels.items():\n",
    "    print(key, value + \" CHF\")"
   ]
  },
  {
   "cell_type": "markdown",
   "id": "1009b52e",
   "metadata": {},
   "source": [
    "5. Create a variable called \"hotels\" and only store the name of the hotels. "
   ]
  },
  {
   "cell_type": "code",
   "execution_count": 31,
   "id": "14257231",
   "metadata": {},
   "outputs": [],
   "source": [
    "#Your code in here"
   ]
  },
  {
   "cell_type": "code",
   "execution_count": 45,
   "id": "59a2de82",
   "metadata": {},
   "outputs": [],
   "source": [
    "#Solution\n",
    "\n",
    "hotels = []\n",
    "\n",
    "for key, value in Zurich_hotels.items():\n",
    "    hotels.append(key)"
   ]
  },
  {
   "cell_type": "code",
   "execution_count": 46,
   "id": "c2b86710",
   "metadata": {},
   "outputs": [
    {
     "data": {
      "text/plain": [
       "['VISIONAPARTMENS Cramerstrasse',\n",
       " 'VISIONAPARTMENTS Rotachstrasse',\n",
       " 'Locke am Platz',\n",
       " 'Trip Inn Zurich Hotel',\n",
       " 'Saint Georges Hotel',\n",
       " 'Crowne Plaza Zürich',\n",
       " 'ibis Zürich Messe Airport',\n",
       " 'Hotel Krone Unterstrass',\n",
       " 'VISIONAPARTMENTS Gerechtigkeitsgasse',\n",
       " 'Olympia Hotel Zurich']"
      ]
     },
     "execution_count": 46,
     "metadata": {},
     "output_type": "execute_result"
    }
   ],
   "source": [
    "hotels"
   ]
  },
  {
   "cell_type": "code",
   "execution_count": 47,
   "id": "ce235ea6",
   "metadata": {},
   "outputs": [
    {
     "name": "stdout",
     "output_type": "stream",
     "text": [
      "VISIONAPARTMENS Cramerstrassethis is just the information of the hotel\n",
      "VISIONAPARTMENTS Rotachstrassethis is just the information of the hotel\n",
      "Locke am Platzthis is just the information of the hotel\n",
      "Trip Inn Zurich Hotelthis is just the information of the hotel\n",
      "Saint Georges Hotelthis is just the information of the hotel\n",
      "Crowne Plaza Zürichthis is just the information of the hotel\n",
      "ibis Zürich Messe Airportthis is just the information of the hotel\n",
      "Hotel Krone Unterstrassthis is just the information of the hotel\n",
      "VISIONAPARTMENTS Gerechtigkeitsgassethis is just the information of the hotel\n",
      "Olympia Hotel Zurichthis is just the information of the hotel\n"
     ]
    }
   ],
   "source": [
    "for a in hotels:\n",
    "    print(a + \"this is just the information of the hotel\")"
   ]
  },
  {
   "cell_type": "code",
   "execution_count": 48,
   "id": "01219e0a",
   "metadata": {},
   "outputs": [
    {
     "data": {
      "text/plain": [
       "10"
      ]
     },
     "execution_count": 48,
     "metadata": {},
     "output_type": "execute_result"
    }
   ],
   "source": [
    "len(hotels)"
   ]
  },
  {
   "cell_type": "markdown",
   "id": "1eb791d5",
   "metadata": {},
   "source": [
    "6. Select both key and value number 3 in the dictionary."
   ]
  },
  {
   "cell_type": "code",
   "execution_count": 36,
   "id": "9643b624",
   "metadata": {},
   "outputs": [],
   "source": [
    "#Your code in here"
   ]
  },
  {
   "cell_type": "code",
   "execution_count": 49,
   "id": "00c00a5f",
   "metadata": {},
   "outputs": [
    {
     "name": "stdout",
     "output_type": "stream",
     "text": [
      "('Locke am Platz', '518')\n"
     ]
    }
   ],
   "source": [
    "#Solution\n",
    "\n",
    "third_hotel = list(Zurich_hotels.items())[2] #remember the Python 0 index notation!\n",
    "print(third_hotel)"
   ]
  },
  {
   "cell_type": "code",
   "execution_count": 50,
   "id": "8d275758",
   "metadata": {},
   "outputs": [
    {
     "data": {
      "text/plain": [
       "'Locke am Platz'"
      ]
     },
     "execution_count": 50,
     "metadata": {},
     "output_type": "execute_result"
    }
   ],
   "source": [
    "hotels[2]"
   ]
  },
  {
   "cell_type": "markdown",
   "id": "c0d421c8",
   "metadata": {},
   "source": [
    "7. Some people may find Zurich hotels a bit pricey. Add one extra element to the dictionary: this Hostel! https://www.booking.com/hotel/ch/jugendherberge-zuerich.es.html?aid=356935&label=metagha-link-LUES-hotel-322387_dev-desktop_los-1_bw-3_dow-Thursday_defdate-1_room-0_gstadt-2_rateid-public_aud-0_gacid-6554843403_mcid-10_ppa-0_clrid-0_ad-1_gstkid-0_checkin-20231116_ppt-_lp-2724_r-16762817611062227780&sid=eace6ba344c7153fdf01b229d61d0a42&all_sr_blocks=32238704_97019081_0_41_0;checkin=2023-12-14;checkout=2023-12-17;dest_id=-2554935;dest_type=city;dist=0;group_adults=1;group_children=0;hapos=1;highlighted_blocks=32238704_97019081_0_41_0;hpos=1;matching_block_id=32238704_97019081_0_41_0;no_rooms=1;req_adults=1;req_children=0;room1=A;sb_price_type=total;sr_order=popularity;sr_pri_blocks=32238704_97019081_0_41_0__17274;srepoch=1699900250;srpvid=cf5b82292543021c;type=total;ucfs=1&#hotelTmpl"
   ]
  },
  {
   "cell_type": "code",
   "execution_count": 39,
   "id": "19647f2c",
   "metadata": {},
   "outputs": [],
   "source": [
    "#Your code in here"
   ]
  },
  {
   "cell_type": "code",
   "execution_count": 51,
   "id": "50f79b28",
   "metadata": {},
   "outputs": [],
   "source": [
    "#Solution\n",
    "\n",
    "Zurich_hotels[\"Zurich Youth Hostel\"] = \"179\""
   ]
  },
  {
   "cell_type": "code",
   "execution_count": 52,
   "id": "a73a4418",
   "metadata": {},
   "outputs": [
    {
     "name": "stdout",
     "output_type": "stream",
     "text": [
      "{'VISIONAPARTMENS Cramerstrasse': '319', 'VISIONAPARTMENTS Rotachstrasse': '303', 'Locke am Platz': '518', 'Trip Inn Zurich Hotel': '417', 'Saint Georges Hotel': '323', 'Crowne Plaza Zürich': '479', 'ibis Zürich Messe Airport': '287', 'Hotel Krone Unterstrass': '578', 'VISIONAPARTMENTS Gerechtigkeitsgasse': '480', 'Olympia Hotel Zurich': '301', 'Zurich Youth Hostel': '179'}\n"
     ]
    }
   ],
   "source": [
    "print(Zurich_hotels)"
   ]
  },
  {
   "cell_type": "code",
   "execution_count": 53,
   "id": "961c736e",
   "metadata": {},
   "outputs": [
    {
     "data": {
      "text/plain": [
       "11"
      ]
     },
     "execution_count": 53,
     "metadata": {},
     "output_type": "execute_result"
    }
   ],
   "source": [
    "len(Zurich_hotels)"
   ]
  },
  {
   "cell_type": "markdown",
   "id": "9a97befd",
   "metadata": {},
   "source": [
    "8. Check the lenght of your dictionary"
   ]
  },
  {
   "cell_type": "code",
   "execution_count": 54,
   "id": "05e4ca79",
   "metadata": {},
   "outputs": [],
   "source": [
    "#Your code in here"
   ]
  },
  {
   "cell_type": "code",
   "execution_count": 55,
   "id": "8beb176b",
   "metadata": {},
   "outputs": [
    {
     "data": {
      "text/plain": [
       "11"
      ]
     },
     "execution_count": 55,
     "metadata": {},
     "output_type": "execute_result"
    }
   ],
   "source": [
    "#Solution\n",
    "\n",
    "len(Zurich_hotels)"
   ]
  },
  {
   "cell_type": "markdown",
   "id": "2ad25242",
   "metadata": {},
   "source": [
    "# Challenge: really advanced stuff!"
   ]
  },
  {
   "cell_type": "markdown",
   "id": "c8087590",
   "metadata": {},
   "source": [
    "9. Lot's of Eurovision participants come from countries where the currency is Euros. Create a new variable (a list) called hotel_prices where you store all the prices transformed to Euros. \n",
    "\n",
    "* Tip 1: CHF-Euro values (1.04)\n",
    "* Tip 2: https://www.perplexity.ai/search/6df50d70-1c36-4f1d-a381-ce5dd1c6caa8?s=u "
   ]
  },
  {
   "cell_type": "code",
   "execution_count": 45,
   "id": "bd2807c0",
   "metadata": {},
   "outputs": [],
   "source": [
    "#Your code in here"
   ]
  },
  {
   "cell_type": "code",
   "execution_count": 56,
   "id": "231d7a20",
   "metadata": {},
   "outputs": [],
   "source": [
    "#Solution\n",
    "\n",
    "hotel_prices = []\n",
    "\n",
    "for key, value in Zurich_hotels.items():\n",
    "    hotel_prices.append([key, float(value)/1.04])"
   ]
  },
  {
   "cell_type": "code",
   "execution_count": 57,
   "id": "0d515f8f",
   "metadata": {},
   "outputs": [
    {
     "data": {
      "text/plain": [
       "[['VISIONAPARTMENS Cramerstrasse', 306.7307692307692],\n",
       " ['VISIONAPARTMENTS Rotachstrasse', 291.3461538461538],\n",
       " ['Locke am Platz', 498.07692307692304],\n",
       " ['Trip Inn Zurich Hotel', 400.96153846153845],\n",
       " ['Saint Georges Hotel', 310.5769230769231],\n",
       " ['Crowne Plaza Zürich', 460.57692307692304],\n",
       " ['ibis Zürich Messe Airport', 275.96153846153845],\n",
       " ['Hotel Krone Unterstrass', 555.7692307692307],\n",
       " ['VISIONAPARTMENTS Gerechtigkeitsgasse', 461.53846153846155],\n",
       " ['Olympia Hotel Zurich', 289.4230769230769],\n",
       " ['Zurich Youth Hostel', 172.1153846153846]]"
      ]
     },
     "execution_count": 57,
     "metadata": {},
     "output_type": "execute_result"
    }
   ],
   "source": [
    "hotel_prices"
   ]
  },
  {
   "cell_type": "code",
   "execution_count": 58,
   "id": "cb0c2f79-3371-4b6f-941c-1c945ce7f4d1",
   "metadata": {},
   "outputs": [
    {
     "data": {
      "text/plain": [
       "list"
      ]
     },
     "execution_count": 58,
     "metadata": {},
     "output_type": "execute_result"
    }
   ],
   "source": [
    "type(hotel_prices)"
   ]
  },
  {
   "cell_type": "markdown",
   "id": "34908891",
   "metadata": {},
   "source": [
    "Now transform that into a dictionary!\n",
    "\n",
    "Tip: https://www.perplexity.ai/search/f960f78a-a39a-48f0-ab44-ab743daf30ee?s=u "
   ]
  },
  {
   "cell_type": "code",
   "execution_count": 59,
   "id": "722a3310",
   "metadata": {},
   "outputs": [],
   "source": [
    "#Your code in here"
   ]
  },
  {
   "cell_type": "code",
   "execution_count": 60,
   "id": "46acc255",
   "metadata": {},
   "outputs": [],
   "source": [
    "#Solution\n",
    "\n",
    "my_dict = {a:b for a, b in hotel_prices}"
   ]
  },
  {
   "cell_type": "code",
   "execution_count": 61,
   "id": "bd1ae4bb",
   "metadata": {},
   "outputs": [
    {
     "data": {
      "text/plain": [
       "{'VISIONAPARTMENS Cramerstrasse': 306.7307692307692,\n",
       " 'VISIONAPARTMENTS Rotachstrasse': 291.3461538461538,\n",
       " 'Locke am Platz': 498.07692307692304,\n",
       " 'Trip Inn Zurich Hotel': 400.96153846153845,\n",
       " 'Saint Georges Hotel': 310.5769230769231,\n",
       " 'Crowne Plaza Zürich': 460.57692307692304,\n",
       " 'ibis Zürich Messe Airport': 275.96153846153845,\n",
       " 'Hotel Krone Unterstrass': 555.7692307692307,\n",
       " 'VISIONAPARTMENTS Gerechtigkeitsgasse': 461.53846153846155,\n",
       " 'Olympia Hotel Zurich': 289.4230769230769,\n",
       " 'Zurich Youth Hostel': 172.1153846153846}"
      ]
     },
     "execution_count": 61,
     "metadata": {},
     "output_type": "execute_result"
    }
   ],
   "source": [
    "my_dict"
   ]
  },
  {
   "cell_type": "code",
   "execution_count": 62,
   "id": "88fc2cbf",
   "metadata": {},
   "outputs": [
    {
     "data": {
      "text/plain": [
       "dict"
      ]
     },
     "execution_count": 62,
     "metadata": {},
     "output_type": "execute_result"
    }
   ],
   "source": [
    "type(my_dict)"
   ]
  },
  {
   "cell_type": "markdown",
   "id": "d54d49d8",
   "metadata": {},
   "source": [
    "And now add Euros to the values"
   ]
  },
  {
   "cell_type": "code",
   "execution_count": 63,
   "id": "456f46c5",
   "metadata": {},
   "outputs": [],
   "source": [
    "#Your code in here"
   ]
  },
  {
   "cell_type": "code",
   "execution_count": 64,
   "id": "d09a96a4",
   "metadata": {},
   "outputs": [
    {
     "name": "stdout",
     "output_type": "stream",
     "text": [
      "VISIONAPARTMENS Cramerstrasse 306.7307692307692 Euros\n",
      "VISIONAPARTMENTS Rotachstrasse 291.3461538461538 Euros\n",
      "Locke am Platz 498.07692307692304 Euros\n",
      "Trip Inn Zurich Hotel 400.96153846153845 Euros\n",
      "Saint Georges Hotel 310.5769230769231 Euros\n",
      "Crowne Plaza Zürich 460.57692307692304 Euros\n",
      "ibis Zürich Messe Airport 275.96153846153845 Euros\n",
      "Hotel Krone Unterstrass 555.7692307692307 Euros\n",
      "VISIONAPARTMENTS Gerechtigkeitsgasse 461.53846153846155 Euros\n",
      "Olympia Hotel Zurich 289.4230769230769 Euros\n",
      "Zurich Youth Hostel 172.1153846153846 Euros\n"
     ]
    }
   ],
   "source": [
    "#Solution \n",
    "\n",
    "for key, value in my_dict.items():\n",
    "    print(key, str(value) + \" Euros\")"
   ]
  },
  {
   "cell_type": "markdown",
   "id": "2f652de4",
   "metadata": {},
   "source": [
    "# And now you are a Python Dictionary expert! ;)"
   ]
  }
 ],
 "metadata": {
  "kernelspec": {
   "display_name": "Python 3 (ipykernel)",
   "language": "python",
   "name": "python3"
  },
  "language_info": {
   "codemirror_mode": {
    "name": "ipython",
    "version": 3
   },
   "file_extension": ".py",
   "mimetype": "text/x-python",
   "name": "python",
   "nbconvert_exporter": "python",
   "pygments_lexer": "ipython3",
   "version": "3.11.7"
  }
 },
 "nbformat": 4,
 "nbformat_minor": 5
}
