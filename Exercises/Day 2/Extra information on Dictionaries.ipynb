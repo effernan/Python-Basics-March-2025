{
 "cells": [
  {
   "cell_type": "markdown",
   "id": "6d5c8ef9",
   "metadata": {},
   "source": [
    "# Some extra information on dictionaries\n",
    "\n",
    "Dicionaries are a bit tricky to learn! Here go some extra tips that I have found useful in my own Pyhton learning path :)\n",
    "\n",
    "References: https://note.nkmk.me/en/python-dict-get-key-from-value/#:~:text=You%20can%20get%20all%20the,dictionary%20iterates%20through%20its%20keys, https://www.w3schools.com/python/python_dictionaries_access.asp, https://www.perplexity.ai/search/2a9a9a35-8392-46c6-a6cc-0749e588cb7e?s=u"
   ]
  },
  {
   "cell_type": "markdown",
   "id": "8c6eb19a",
   "metadata": {},
   "source": [
    "# 1. How to create a dictionary"
   ]
  },
  {
   "cell_type": "markdown",
   "id": "33a1c5a1",
   "metadata": {},
   "source": [
    "**1. First way**"
   ]
  },
  {
   "cell_type": "code",
   "execution_count": 1,
   "id": "03aef8cf",
   "metadata": {},
   "outputs": [],
   "source": [
    "eng_to_german = {} #we create an empty dicionary"
   ]
  },
  {
   "cell_type": "code",
   "execution_count": 2,
   "id": "6d021fc2",
   "metadata": {},
   "outputs": [],
   "source": [
    "eng_to_german[\"one\"] = 1.0 # we add values\n",
    "eng_to_german[\"two\"] = 2.0"
   ]
  },
  {
   "cell_type": "code",
   "execution_count": 3,
   "id": "9318177c",
   "metadata": {},
   "outputs": [
    {
     "data": {
      "text/plain": [
       "{'one': 1.0, 'two': 2.0}"
      ]
     },
     "execution_count": 3,
     "metadata": {},
     "output_type": "execute_result"
    }
   ],
   "source": [
    "eng_to_german"
   ]
  },
  {
   "cell_type": "code",
   "execution_count": 5,
   "id": "701c5e48",
   "metadata": {},
   "outputs": [
    {
     "name": "stdout",
     "output_type": "stream",
     "text": [
      "['one', 'two']\n"
     ]
    }
   ],
   "source": [
    "print(list(eng_to_german))"
   ]
  },
  {
   "cell_type": "markdown",
   "id": "a9d906d7",
   "metadata": {},
   "source": [
    "**2. Second way**"
   ]
  },
  {
   "cell_type": "code",
   "execution_count": 6,
   "id": "e50e8d12",
   "metadata": {},
   "outputs": [],
   "source": [
    "eng_to_french = {\"one\" : \"un\", \"two\": \"deux\"} #we manually introduce the information"
   ]
  },
  {
   "cell_type": "code",
   "execution_count": 7,
   "id": "9ff72cc9",
   "metadata": {},
   "outputs": [
    {
     "name": "stdout",
     "output_type": "stream",
     "text": [
      "{'one': 'un', 'two': 'deux'}\n"
     ]
    }
   ],
   "source": [
    "print(eng_to_french)"
   ]
  },
  {
   "cell_type": "markdown",
   "id": "5eb283df",
   "metadata": {},
   "source": [
    "# 2. How to acess both keys and values"
   ]
  },
  {
   "cell_type": "markdown",
   "id": "43e56faa",
   "metadata": {},
   "source": [
    "**1. We print the dictionary**"
   ]
  },
  {
   "cell_type": "code",
   "execution_count": 8,
   "id": "1f3c0c23",
   "metadata": {},
   "outputs": [
    {
     "name": "stdout",
     "output_type": "stream",
     "text": [
      "{'one': 1.0, 'two': 2.0}\n"
     ]
    }
   ],
   "source": [
    "print(eng_to_german)"
   ]
  },
  {
   "cell_type": "markdown",
   "id": "1bac941e",
   "metadata": {},
   "source": [
    "**2. We use a loop**\n",
    "\n",
    "Using a loop can be useful if we want to manipulate the variables"
   ]
  },
  {
   "cell_type": "code",
   "execution_count": 9,
   "id": "28161bf9",
   "metadata": {},
   "outputs": [
    {
     "name": "stdout",
     "output_type": "stream",
     "text": [
      "one un\n",
      "two deux\n"
     ]
    }
   ],
   "source": [
    "for key, value in eng_to_french.items(): \n",
    "    print(key, value)"
   ]
  },
  {
   "cell_type": "code",
   "execution_count": 14,
   "id": "c13c4130",
   "metadata": {},
   "outputs": [
    {
     "name": "stdout",
     "output_type": "stream",
     "text": [
      "un (this is french)\n",
      "deux (this is french)\n"
     ]
    }
   ],
   "source": [
    "for key, value in eng_to_french.items(): \n",
    "    print(value + \" (this is french)\")"
   ]
  },
  {
   "cell_type": "code",
   "execution_count": 15,
   "id": "12ccd344",
   "metadata": {},
   "outputs": [
    {
     "name": "stdout",
     "output_type": "stream",
     "text": [
      "one (this is english) un (this is french)\n",
      "two (this is english) deux (this is french)\n"
     ]
    }
   ],
   "source": [
    "for key, value in eng_to_french.items(): \n",
    "    print(key + \" (this is english)\", value + \" (this is french)\")"
   ]
  },
  {
   "cell_type": "markdown",
   "id": "4f2b4417",
   "metadata": {},
   "source": [
    "**3. We use the .items() method**"
   ]
  },
  {
   "cell_type": "code",
   "execution_count": 16,
   "id": "6f128e52",
   "metadata": {},
   "outputs": [
    {
     "data": {
      "text/plain": [
       "dict_items([('one', 1.0), ('two', 2.0)])"
      ]
     },
     "execution_count": 16,
     "metadata": {},
     "output_type": "execute_result"
    }
   ],
   "source": [
    "eng_to_german.items()"
   ]
  },
  {
   "cell_type": "code",
   "execution_count": 17,
   "id": "569255b9",
   "metadata": {},
   "outputs": [
    {
     "data": {
      "text/plain": [
       "dict_items([('one', 'un'), ('two', 'deux')])"
      ]
     },
     "execution_count": 17,
     "metadata": {},
     "output_type": "execute_result"
    }
   ],
   "source": [
    "eng_to_french.items()"
   ]
  },
  {
   "cell_type": "code",
   "execution_count": 18,
   "id": "3908536c",
   "metadata": {},
   "outputs": [
    {
     "data": {
      "text/plain": [
       "dict_items"
      ]
     },
     "execution_count": 18,
     "metadata": {},
     "output_type": "execute_result"
    }
   ],
   "source": [
    "type(eng_to_german.items())"
   ]
  },
  {
   "cell_type": "markdown",
   "id": "b8122a48",
   "metadata": {},
   "source": [
    "# How to access either keys or values"
   ]
  },
  {
   "cell_type": "markdown",
   "id": "285cde68",
   "metadata": {},
   "source": [
    "**1. We use the .keys() method**"
   ]
  },
  {
   "cell_type": "code",
   "execution_count": 19,
   "id": "81ce9bb8",
   "metadata": {},
   "outputs": [
    {
     "data": {
      "text/plain": [
       "dict_keys(['one', 'two'])"
      ]
     },
     "execution_count": 19,
     "metadata": {},
     "output_type": "execute_result"
    }
   ],
   "source": [
    "eng_to_german.keys()"
   ]
  },
  {
   "cell_type": "markdown",
   "id": "b3ed4112",
   "metadata": {},
   "source": [
    "**2. We use the .values() method**"
   ]
  },
  {
   "cell_type": "code",
   "execution_count": 20,
   "id": "8c896184",
   "metadata": {},
   "outputs": [
    {
     "data": {
      "text/plain": [
       "dict_values([1.0, 2.0])"
      ]
     },
     "execution_count": 20,
     "metadata": {},
     "output_type": "execute_result"
    }
   ],
   "source": [
    "eng_to_german.values()"
   ]
  },
  {
   "cell_type": "markdown",
   "id": "e8bb5474",
   "metadata": {},
   "source": [
    "**3. We can create a list to get a list of the keys**"
   ]
  },
  {
   "cell_type": "code",
   "execution_count": 21,
   "id": "adc8cf7e",
   "metadata": {},
   "outputs": [
    {
     "name": "stdout",
     "output_type": "stream",
     "text": [
      "['one', 'two']\n"
     ]
    }
   ],
   "source": [
    "print(list(eng_to_german))"
   ]
  },
  {
   "cell_type": "markdown",
   "id": "953311f5",
   "metadata": {},
   "source": [
    "**4. We can combine a list and a loop**"
   ]
  },
  {
   "cell_type": "code",
   "execution_count": 22,
   "id": "2421f44b",
   "metadata": {},
   "outputs": [],
   "source": [
    "keys = []\n",
    "\n",
    "for key, value in eng_to_french.items(): \n",
    "    keys.append(key)"
   ]
  },
  {
   "cell_type": "code",
   "execution_count": 23,
   "id": "e6594b85",
   "metadata": {},
   "outputs": [
    {
     "data": {
      "text/plain": [
       "['one', 'two']"
      ]
     },
     "execution_count": 23,
     "metadata": {},
     "output_type": "execute_result"
    }
   ],
   "source": [
    "keys"
   ]
  },
  {
   "cell_type": "code",
   "execution_count": 24,
   "id": "df4826c5",
   "metadata": {},
   "outputs": [],
   "source": [
    "values = []\n",
    "\n",
    "for key, value in eng_to_french.items():\n",
    "    values.append(value)"
   ]
  },
  {
   "cell_type": "code",
   "execution_count": 25,
   "id": "f02d0ef2",
   "metadata": {},
   "outputs": [
    {
     "data": {
      "text/plain": [
       "['un', 'deux']"
      ]
     },
     "execution_count": 25,
     "metadata": {},
     "output_type": "execute_result"
    }
   ],
   "source": [
    "values"
   ]
  },
  {
   "cell_type": "markdown",
   "id": "8df26536",
   "metadata": {},
   "source": [
    "# How to access dictionary items by position"
   ]
  },
  {
   "cell_type": "code",
   "execution_count": 26,
   "id": "2b680c43",
   "metadata": {},
   "outputs": [
    {
     "name": "stdout",
     "output_type": "stream",
     "text": [
      "one\n"
     ]
    }
   ],
   "source": [
    "first_key = list(eng_to_french.keys())[0]\n",
    "print(first_key)"
   ]
  },
  {
   "cell_type": "code",
   "execution_count": 27,
   "id": "2d53dc3e",
   "metadata": {},
   "outputs": [
    {
     "name": "stdout",
     "output_type": "stream",
     "text": [
      "deux\n"
     ]
    }
   ],
   "source": [
    "second_value = list(eng_to_french.values())[1]\n",
    "print(second_value)"
   ]
  },
  {
   "cell_type": "markdown",
   "id": "de5a2c62",
   "metadata": {},
   "source": [
    "# How to transform a dictionary into a list"
   ]
  },
  {
   "cell_type": "code",
   "execution_count": 28,
   "id": "ebac97b2",
   "metadata": {},
   "outputs": [
    {
     "data": {
      "text/plain": [
       "[('one', 'un'), ('two', 'deux')]"
      ]
     },
     "execution_count": 28,
     "metadata": {},
     "output_type": "execute_result"
    }
   ],
   "source": [
    "list(eng_to_french.items())"
   ]
  },
  {
   "cell_type": "markdown",
   "id": "85aac883",
   "metadata": {},
   "source": [
    "# How to add two dictionaries"
   ]
  },
  {
   "cell_type": "markdown",
   "id": "037e4657",
   "metadata": {},
   "source": [
    "This is how we add two lists"
   ]
  },
  {
   "cell_type": "code",
   "execution_count": 1,
   "id": "505664f4",
   "metadata": {},
   "outputs": [],
   "source": [
    "list_1 = [\"a\", \"b\"]\n",
    "list_2 = [\"c\", \"d\"]"
   ]
  },
  {
   "cell_type": "code",
   "execution_count": 2,
   "id": "ef3c9464",
   "metadata": {},
   "outputs": [
    {
     "data": {
      "text/plain": [
       "['a', 'b', 'c', 'd']"
      ]
     },
     "execution_count": 2,
     "metadata": {},
     "output_type": "execute_result"
    }
   ],
   "source": [
    "list_1 + list_2"
   ]
  },
  {
   "cell_type": "markdown",
   "id": "987053ba",
   "metadata": {},
   "source": [
    "And this is how we add two dictionaries"
   ]
  },
  {
   "cell_type": "code",
   "execution_count": 3,
   "id": "515cc6e3",
   "metadata": {},
   "outputs": [],
   "source": [
    "dict1 = {'a': 1, 'b': 2}\n",
    "dict2 = {'c': 3, 'd': 4}"
   ]
  },
  {
   "cell_type": "code",
   "execution_count": 4,
   "id": "b5774ab5",
   "metadata": {},
   "outputs": [],
   "source": [
    "dict1.update(dict2)"
   ]
  },
  {
   "cell_type": "code",
   "execution_count": 5,
   "id": "b594fe83",
   "metadata": {},
   "outputs": [
    {
     "name": "stdout",
     "output_type": "stream",
     "text": [
      "{'a': 1, 'b': 2, 'c': 3, 'd': 4}\n"
     ]
    }
   ],
   "source": [
    "print(dict1)"
   ]
  },
  {
   "cell_type": "code",
   "execution_count": null,
   "id": "99b53125",
   "metadata": {},
   "outputs": [],
   "source": []
  }
 ],
 "metadata": {
  "kernelspec": {
   "display_name": "Python 3 (ipykernel)",
   "language": "python",
   "name": "python3"
  },
  "language_info": {
   "codemirror_mode": {
    "name": "ipython",
    "version": 3
   },
   "file_extension": ".py",
   "mimetype": "text/x-python",
   "name": "python",
   "nbconvert_exporter": "python",
   "pygments_lexer": "ipython3",
   "version": "3.11.7"
  }
 },
 "nbformat": 4,
 "nbformat_minor": 5
}
