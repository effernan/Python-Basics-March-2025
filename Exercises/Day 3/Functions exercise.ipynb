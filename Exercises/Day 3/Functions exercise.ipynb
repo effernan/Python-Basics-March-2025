{
 "cells": [
  {
   "cell_type": "markdown",
   "id": "5c2821cb",
   "metadata": {},
   "source": [
    " # Hotel Accountability"
   ]
  },
  {
   "cell_type": "markdown",
   "id": "93bc870a",
   "metadata": {},
   "source": [
    "You are a sowftware engineer working for one of the hotels where some of the Eurovision attendees are going to stay for 4 nights (14-17h of December 2023). These people are coming from Germany, the United States, Noway, Sweden, Denmark, and The UK, and are bringing cash from their own countries. To make things easy for them (and for the hotel where you are working), let's create a variety of functions to work with different currencies and help everybody to understand well how they are spending their money while in Switzerland!"
   ]
  },
  {
   "cell_type": "markdown",
   "id": "60066bb4",
   "metadata": {},
   "source": [
    "# 1. Print Fuctions"
   ]
  },
  {
   "cell_type": "markdown",
   "id": "6f5d6c38",
   "metadata": {},
   "source": [
    "Print functions just print a value that correspond to some command that we create in the script inside our function. Let's create a variety of **print-functions** to transform 25CHF to three different currencies: Euros, Dollars, and Norwegian Crowns. Google how much is the current exchange value beween Swiss Francs and these three currencies. Also let's add a string to indicate the kind of currency we are working with. \n",
    "\n",
    "After that, check let's check out the type of data of each function. "
   ]
  },
  {
   "cell_type": "code",
   "execution_count": 1,
   "id": "df4807d2",
   "metadata": {},
   "outputs": [],
   "source": [
    "#Your code here"
   ]
  },
  {
   "cell_type": "code",
   "execution_count": 1,
   "id": "a1bd29a2",
   "metadata": {},
   "outputs": [],
   "source": [
    "def convertion(x): \n",
    "    print(x * 2)"
   ]
  },
  {
   "cell_type": "code",
   "execution_count": 2,
   "id": "11aad4ab",
   "metadata": {},
   "outputs": [
    {
     "name": "stdout",
     "output_type": "stream",
     "text": [
      "10\n"
     ]
    }
   ],
   "source": [
    "convertion(5)"
   ]
  },
  {
   "cell_type": "code",
   "execution_count": 3,
   "id": "a91299be",
   "metadata": {},
   "outputs": [],
   "source": [
    "#Solution\n",
    "\n",
    "def euros(x):\n",
    "    print((x * 1.03), \"Euros\")"
   ]
  },
  {
   "cell_type": "code",
   "execution_count": 4,
   "id": "e680ce9d",
   "metadata": {},
   "outputs": [
    {
     "name": "stdout",
     "output_type": "stream",
     "text": [
      "25.75 Euros\n"
     ]
    }
   ],
   "source": [
    "euros(25)"
   ]
  },
  {
   "cell_type": "code",
   "execution_count": 5,
   "id": "833bb4a2",
   "metadata": {},
   "outputs": [],
   "source": [
    "def dollars(x):\n",
    "    print((x * 1.13), \"Dollars\")"
   ]
  },
  {
   "cell_type": "code",
   "execution_count": 6,
   "id": "71634587",
   "metadata": {},
   "outputs": [
    {
     "name": "stdout",
     "output_type": "stream",
     "text": [
      "28.249999999999996 Dollars\n"
     ]
    }
   ],
   "source": [
    "dollars(25)"
   ]
  },
  {
   "cell_type": "code",
   "execution_count": 7,
   "id": "2b62bbeb",
   "metadata": {},
   "outputs": [],
   "source": [
    "def NOK(x):\n",
    "    print((x * 12.28), \"NOK\")"
   ]
  },
  {
   "cell_type": "code",
   "execution_count": 8,
   "id": "2193bd26",
   "metadata": {},
   "outputs": [
    {
     "name": "stdout",
     "output_type": "stream",
     "text": [
      "307.0 NOK\n"
     ]
    }
   ],
   "source": [
    "NOK(25)"
   ]
  },
  {
   "cell_type": "code",
   "execution_count": 9,
   "id": "e9418211",
   "metadata": {},
   "outputs": [
    {
     "name": "stdout",
     "output_type": "stream",
     "text": [
      "25.75 Euros\n"
     ]
    },
    {
     "data": {
      "text/plain": [
       "NoneType"
      ]
     },
     "execution_count": 9,
     "metadata": {},
     "output_type": "execute_result"
    }
   ],
   "source": [
    "type(euros(25))"
   ]
  },
  {
   "cell_type": "code",
   "execution_count": 10,
   "id": "f0d43b64",
   "metadata": {},
   "outputs": [
    {
     "name": "stdout",
     "output_type": "stream",
     "text": [
      "28.249999999999996 Dollars\n"
     ]
    },
    {
     "data": {
      "text/plain": [
       "NoneType"
      ]
     },
     "execution_count": 10,
     "metadata": {},
     "output_type": "execute_result"
    }
   ],
   "source": [
    "type(dollars(25))"
   ]
  },
  {
   "cell_type": "code",
   "execution_count": 11,
   "id": "3eb370af",
   "metadata": {},
   "outputs": [
    {
     "name": "stdout",
     "output_type": "stream",
     "text": [
      "307.0 NOK\n"
     ]
    },
    {
     "data": {
      "text/plain": [
       "NoneType"
      ]
     },
     "execution_count": 11,
     "metadata": {},
     "output_type": "execute_result"
    }
   ],
   "source": [
    "type(NOK(25))"
   ]
  },
  {
   "cell_type": "markdown",
   "id": "612483eb",
   "metadata": {},
   "source": [
    "Now try to do a sum of two functions with different values. Why do you think that there is an error message? How can we fix it?"
   ]
  },
  {
   "cell_type": "code",
   "execution_count": 65,
   "id": "7e529b28",
   "metadata": {},
   "outputs": [],
   "source": [
    "#Your code in here"
   ]
  },
  {
   "cell_type": "code",
   "execution_count": 12,
   "id": "dee7cdf0",
   "metadata": {},
   "outputs": [
    {
     "name": "stdout",
     "output_type": "stream",
     "text": [
      "28.249999999999996 Dollars\n",
      "15.450000000000001 Euros\n"
     ]
    },
    {
     "ename": "TypeError",
     "evalue": "unsupported operand type(s) for +: 'NoneType' and 'NoneType'",
     "output_type": "error",
     "traceback": [
      "\u001b[1;31m---------------------------------------------------------------------------\u001b[0m",
      "\u001b[1;31mTypeError\u001b[0m                                 Traceback (most recent call last)",
      "Cell \u001b[1;32mIn[12], line 2\u001b[0m\n\u001b[0;32m      1\u001b[0m \u001b[38;5;66;03m#Solution\u001b[39;00m\n\u001b[1;32m----> 2\u001b[0m dollars(\u001b[38;5;241m25\u001b[39m) \u001b[38;5;241m+\u001b[39m euros(\u001b[38;5;241m15\u001b[39m)\n",
      "\u001b[1;31mTypeError\u001b[0m: unsupported operand type(s) for +: 'NoneType' and 'NoneType'"
     ]
    }
   ],
   "source": [
    "#Solution\n",
    "dollars(25) + euros(15)"
   ]
  },
  {
   "cell_type": "markdown",
   "id": "37a244e1",
   "metadata": {},
   "source": [
    "### 1.2. Introduction to Return Functions"
   ]
  },
  {
   "cell_type": "markdown",
   "id": "fcba5a34",
   "metadata": {},
   "source": [
    "So, if we would like to do some further operations with those values, it would be very difficult! Let's try to change the print statement for a return one with the euro function. Remember to name your function euros_return to avoid confusion with the print one!"
   ]
  },
  {
   "cell_type": "code",
   "execution_count": 68,
   "id": "89b01fc0",
   "metadata": {},
   "outputs": [],
   "source": [
    "#Your code here"
   ]
  },
  {
   "cell_type": "code",
   "execution_count": 69,
   "id": "3efae105",
   "metadata": {},
   "outputs": [],
   "source": [
    "#Solution"
   ]
  },
  {
   "cell_type": "code",
   "execution_count": 16,
   "id": "fcaf9852",
   "metadata": {},
   "outputs": [],
   "source": [
    "def euros_return(x):\n",
    "    result = [(x * 1.03), \"Euros\"] #if we add parenthesis then we will get a tupple\n",
    "    return result"
   ]
  },
  {
   "cell_type": "code",
   "execution_count": 17,
   "id": "b776eba2",
   "metadata": {},
   "outputs": [
    {
     "data": {
      "text/plain": [
       "[25.75, 'Euros']"
      ]
     },
     "execution_count": 17,
     "metadata": {},
     "output_type": "execute_result"
    }
   ],
   "source": [
    "euros_return(25)"
   ]
  },
  {
   "cell_type": "code",
   "execution_count": 18,
   "id": "80cb9e43",
   "metadata": {},
   "outputs": [
    {
     "data": {
      "text/plain": [
       "list"
      ]
     },
     "execution_count": 18,
     "metadata": {},
     "output_type": "execute_result"
    }
   ],
   "source": [
    "type(euros_return(25))"
   ]
  },
  {
   "cell_type": "markdown",
   "id": "c7e7be35",
   "metadata": {},
   "source": [
    "Now create two new variables: one called euro_currency where you store the function euros_return with a numerical value of your choice. Then repeat that process and create another function called euro_currency_2. After that called the variable and check its type. How is it different to the euros print function?"
   ]
  },
  {
   "cell_type": "code",
   "execution_count": 77,
   "id": "fbdfd0b5",
   "metadata": {},
   "outputs": [],
   "source": [
    "#Your code here"
   ]
  },
  {
   "cell_type": "code",
   "execution_count": 19,
   "id": "85090a35",
   "metadata": {},
   "outputs": [],
   "source": [
    "#Solution\n",
    "\n",
    "euro_currency = euros_return(25)"
   ]
  },
  {
   "cell_type": "code",
   "execution_count": 20,
   "id": "5c143458",
   "metadata": {},
   "outputs": [
    {
     "data": {
      "text/plain": [
       "[25.75, 'Euros']"
      ]
     },
     "execution_count": 20,
     "metadata": {},
     "output_type": "execute_result"
    }
   ],
   "source": [
    "euro_currency"
   ]
  },
  {
   "cell_type": "code",
   "execution_count": 21,
   "id": "2349a248",
   "metadata": {},
   "outputs": [
    {
     "data": {
      "text/plain": [
       "list"
      ]
     },
     "execution_count": 21,
     "metadata": {},
     "output_type": "execute_result"
    }
   ],
   "source": [
    "type(euro_currency)"
   ]
  },
  {
   "cell_type": "code",
   "execution_count": 22,
   "id": "9a811d2a",
   "metadata": {},
   "outputs": [],
   "source": [
    "euro_currency_2 = euros_return(15)"
   ]
  },
  {
   "cell_type": "code",
   "execution_count": 23,
   "id": "c4df2e84",
   "metadata": {},
   "outputs": [
    {
     "data": {
      "text/plain": [
       "list"
      ]
     },
     "execution_count": 23,
     "metadata": {},
     "output_type": "execute_result"
    }
   ],
   "source": [
    "type(euro_currency_2)"
   ]
  },
  {
   "cell_type": "markdown",
   "id": "c50bf979",
   "metadata": {},
   "source": [
    "Now try to concatenate (+) both euro_currency and euro_currency_2 and store that into a new variable called \"total_euros\". What happens? Why?"
   ]
  },
  {
   "cell_type": "code",
   "execution_count": 24,
   "id": "d4cfcbaf",
   "metadata": {},
   "outputs": [],
   "source": [
    "#Your code in here"
   ]
  },
  {
   "cell_type": "code",
   "execution_count": 25,
   "id": "d8a93a48",
   "metadata": {},
   "outputs": [],
   "source": [
    "#Solution\n",
    "total_euros = euro_currency + euro_currency_2"
   ]
  },
  {
   "cell_type": "code",
   "execution_count": 26,
   "id": "7048b536",
   "metadata": {},
   "outputs": [
    {
     "name": "stdout",
     "output_type": "stream",
     "text": [
      "[25.75, 'Euros', 15.450000000000001, 'Euros']\n"
     ]
    }
   ],
   "source": [
    "print(total_euros)"
   ]
  },
  {
   "cell_type": "code",
   "execution_count": 27,
   "id": "e570c4fa",
   "metadata": {},
   "outputs": [
    {
     "data": {
      "text/plain": [
       "list"
      ]
     },
     "execution_count": 27,
     "metadata": {},
     "output_type": "execute_result"
    }
   ],
   "source": [
    "type(total_euros)"
   ]
  },
  {
   "cell_type": "markdown",
   "id": "bd55b395",
   "metadata": {},
   "source": [
    "Find a way to only sum the numerical values of the list (hint: you will need to do some list slicing!). Store that into a new variable called \"final_euros\"."
   ]
  },
  {
   "cell_type": "code",
   "execution_count": 28,
   "id": "740a059e",
   "metadata": {},
   "outputs": [],
   "source": [
    "#Your code in here"
   ]
  },
  {
   "cell_type": "code",
   "execution_count": 29,
   "id": "42599c62",
   "metadata": {},
   "outputs": [],
   "source": [
    "#Solution\n",
    "final_euros = total_euros[0] + total_euros[2]"
   ]
  },
  {
   "cell_type": "code",
   "execution_count": 33,
   "id": "72e9d03d",
   "metadata": {},
   "outputs": [
    {
     "data": {
      "text/plain": [
       "25.75"
      ]
     },
     "execution_count": 33,
     "metadata": {},
     "output_type": "execute_result"
    }
   ],
   "source": [
    "total_euros[0]"
   ]
  },
  {
   "cell_type": "code",
   "execution_count": 34,
   "id": "fa15da72",
   "metadata": {},
   "outputs": [
    {
     "data": {
      "text/plain": [
       "15.450000000000001"
      ]
     },
     "execution_count": 34,
     "metadata": {},
     "output_type": "execute_result"
    }
   ],
   "source": [
    "total_euros[2]"
   ]
  },
  {
   "cell_type": "code",
   "execution_count": 35,
   "id": "a7a379c0",
   "metadata": {},
   "outputs": [
    {
     "data": {
      "text/plain": [
       "41.2"
      ]
     },
     "execution_count": 35,
     "metadata": {},
     "output_type": "execute_result"
    }
   ],
   "source": [
    "final_euros"
   ]
  },
  {
   "cell_type": "code",
   "execution_count": 36,
   "id": "7147b7cf",
   "metadata": {},
   "outputs": [
    {
     "data": {
      "text/plain": [
       "float"
      ]
     },
     "execution_count": 36,
     "metadata": {},
     "output_type": "execute_result"
    }
   ],
   "source": [
    "type(final_euros)"
   ]
  },
  {
   "cell_type": "markdown",
   "id": "3fb5b9d7",
   "metadata": {},
   "source": [
    "# 2. Return functions"
   ]
  },
  {
   "cell_type": "markdown",
   "id": "89cf2758",
   "metadata": {},
   "source": [
    "As we have just seen, return functions are very similar to print ones, with the difference that they do return data types that we can further use in our data analysis. "
   ]
  },
  {
   "cell_type": "markdown",
   "id": "49085dee",
   "metadata": {},
   "source": [
    "Eurovision attendees have asked if it is possible to bring some cash from their own countries to pay for their rooms in your hotel. To make things easy on the hotel side of things, let's create a return value function that accepts 6 parameters (euros, dollars, NOK, SEK, DKK, GBP (Sterling Pound)) and that returns the total value of one accomodation night in Swiss francs, facilitating accomodation accounting. "
   ]
  },
  {
   "cell_type": "code",
   "execution_count": 23,
   "id": "6f0d6694",
   "metadata": {},
   "outputs": [],
   "source": [
    "#Your code in here"
   ]
  },
  {
   "cell_type": "code",
   "execution_count": 41,
   "id": "c7d31261",
   "metadata": {},
   "outputs": [],
   "source": [
    "#Solution\n",
    "\n",
    "def price_per_night(euros, dollars, NOK, SEK, DKK, GBP):\n",
    "    euros = euros/1.03\n",
    "    dollars = dollars/1.13\n",
    "    NOK = NOK/12.28\n",
    "    SEK = SEK/11.96\n",
    "    DKK = DKK/7.71\n",
    "    GBP = GBP/0.91\n",
    "    one_night = euros + dollars + NOK + SEK + DKK + GBP\n",
    "    return one_night"
   ]
  },
  {
   "cell_type": "markdown",
   "id": "f7c02057",
   "metadata": {},
   "source": [
    "The prince for one night at your hotel is 150 CHF. That is 155 Euros, 169 Dollars, 1827 NOK, 1794 SEK, 1557 DKK, and 135 GBP. Use your function to calculate how many CHF you got after everybody paid you using their own native cash."
   ]
  },
  {
   "cell_type": "code",
   "execution_count": 42,
   "id": "4b3b90a6",
   "metadata": {},
   "outputs": [],
   "source": [
    "#your code in here"
   ]
  },
  {
   "cell_type": "code",
   "execution_count": 43,
   "id": "6800f943",
   "metadata": {},
   "outputs": [
    {
     "data": {
      "text/plain": [
       "949.1186342892394"
      ]
     },
     "execution_count": 43,
     "metadata": {},
     "output_type": "execute_result"
    }
   ],
   "source": [
    "#Solution\n",
    "\n",
    "one_night = price_per_night(155, 169, 1827, 1794, 1557, 135)\n",
    "one_night"
   ]
  },
  {
   "cell_type": "markdown",
   "id": "ff2f5805",
   "metadata": {},
   "source": [
    "Now, remember that people are coming Thursday-Sunday. That is three nights (Thursday-Friday-Saturday). Modify your price_per_night function to a price_per_weekend one where you take into account the three day duration."
   ]
  },
  {
   "cell_type": "code",
   "execution_count": 44,
   "id": "ac0d7495",
   "metadata": {},
   "outputs": [],
   "source": [
    "#Your code in here"
   ]
  },
  {
   "cell_type": "code",
   "execution_count": 45,
   "id": "73c6a26b",
   "metadata": {},
   "outputs": [],
   "source": [
    "#Solution\n",
    "\n",
    "def price_per_weekend(euros, dollars, NOK, SEK, DKK, GBP):\n",
    "    euros = euros/1.03\n",
    "    dollars = dollars/1.13\n",
    "    NOK = NOK/12.28\n",
    "    SEK = SEK/11.96\n",
    "    DKK = DKK/7.71\n",
    "    GBP = GBP/0.91\n",
    "    three_nights = (euros + dollars + NOK + SEK + DKK + GBP) * 3\n",
    "    return three_nights\n",
    "    "
   ]
  },
  {
   "cell_type": "code",
   "execution_count": 46,
   "id": "4985ec9f",
   "metadata": {},
   "outputs": [
    {
     "data": {
      "text/plain": [
       "2847.355902867718"
      ]
     },
     "execution_count": 46,
     "metadata": {},
     "output_type": "execute_result"
    }
   ],
   "source": [
    "weekend = price_per_weekend(155, 169, 1827, 1794, 1557, 135)\n",
    "weekend"
   ]
  },
  {
   "cell_type": "markdown",
   "id": "dc5e7b68",
   "metadata": {},
   "source": [
    "# 3. Boolean return values"
   ]
  },
  {
   "cell_type": "markdown",
   "id": "89a71675",
   "metadata": {},
   "source": [
    "Now let's imagine that some people do not remember whether they booked breakfast included or not with their reservation. The cost of breakfast is 25CHF. Let's create a function that returns True-False boolean values on whether someone paying in **Euros** booked or not breakfast using a one-night 150CHF reservation."
   ]
  },
  {
   "cell_type": "code",
   "execution_count": 30,
   "id": "c7937963",
   "metadata": {},
   "outputs": [],
   "source": [
    "#Your code in here"
   ]
  },
  {
   "cell_type": "code",
   "execution_count": 47,
   "id": "e715fc07",
   "metadata": {},
   "outputs": [],
   "source": [
    "#Solution\n",
    "\n",
    "def breakfast_included_euros(x):\n",
    "    if x >= (150 * 1.03) + (25 * 1.03): #1.03 is the CHF/Euros currency\n",
    "         return True\n",
    "    else:\n",
    "        return False"
   ]
  },
  {
   "cell_type": "code",
   "execution_count": 48,
   "id": "c1e400d0",
   "metadata": {},
   "outputs": [
    {
     "data": {
      "text/plain": [
       "True"
      ]
     },
     "execution_count": 48,
     "metadata": {},
     "output_type": "execute_result"
    }
   ],
   "source": [
    "breakfast_included_euros(190)"
   ]
  },
  {
   "cell_type": "code",
   "execution_count": 49,
   "id": "3a8ebcc3",
   "metadata": {},
   "outputs": [
    {
     "data": {
      "text/plain": [
       "False"
      ]
     },
     "execution_count": 49,
     "metadata": {},
     "output_type": "execute_result"
    }
   ],
   "source": [
    "breakfast_included_euros(150)"
   ]
  },
  {
   "cell_type": "code",
   "execution_count": null,
   "id": "6ca2f9cc",
   "metadata": {},
   "outputs": [],
   "source": []
  }
 ],
 "metadata": {
  "kernelspec": {
   "display_name": "Python 3 (ipykernel)",
   "language": "python",
   "name": "python3"
  },
  "language_info": {
   "codemirror_mode": {
    "name": "ipython",
    "version": 3
   },
   "file_extension": ".py",
   "mimetype": "text/x-python",
   "name": "python",
   "nbconvert_exporter": "python",
   "pygments_lexer": "ipython3",
   "version": "3.11.7"
  }
 },
 "nbformat": 4,
 "nbformat_minor": 5
}
