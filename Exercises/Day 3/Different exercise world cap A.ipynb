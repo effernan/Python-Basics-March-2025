{
 "cells": [
  {
   "cell_type": "markdown",
   "id": "4861272a",
   "metadata": {},
   "source": [
    "(C) Elena Fernández Fernández"
   ]
  },
  {
   "cell_type": "markdown",
   "id": "d795988f",
   "metadata": {},
   "source": [
    "There are different ways to solve a same problem. These are different examples of \"computational thinking\" (the way in which we tell computers how to solve a problem). In here, the first script (mine) is more verbose (that means that the syntaxt works well but it is not too efficient). The two next scripts (written by a student of this course with a background in Natural Sciences) are more abstract: they do the same thing with less code. In programming, abstraction is always the preffered way to go (it is faster, and it consumes less memory)."
   ]
  },
  {
   "cell_type": "markdown",
   "id": "6ec85c1c",
   "metadata": {},
   "source": [
    "### Elena: verbose syntax"
   ]
  },
  {
   "cell_type": "code",
   "execution_count": 1,
   "id": "58eac9d4",
   "metadata": {},
   "outputs": [
    {
     "name": "stdout",
     "output_type": "stream",
     "text": [
      "classified for quarter-finals\n"
     ]
    }
   ],
   "source": [
    "argentina_round16_finals = 2\n",
    "australia_round16_finals = 1\n",
    "\n",
    "if argentina_round16_finals >= 2:\n",
    "    print(\"classified for quarter-finals\")\n",
    "elif argentina_round16_finals == 1:\n",
    "    print(\"this is a tie\")\n",
    "else:\n",
    "    print(\"total loosers\")"
   ]
  },
  {
   "cell_type": "markdown",
   "id": "568a2cd9",
   "metadata": {},
   "source": [
    "### Student first script: more efficient"
   ]
  },
  {
   "cell_type": "code",
   "execution_count": 2,
   "id": "ac6ceb95",
   "metadata": {},
   "outputs": [
    {
     "name": "stdout",
     "output_type": "stream",
     "text": [
      "Argentina is classified for quarter-finals\n"
     ]
    }
   ],
   "source": [
    "player1_round16_finals = 2\n",
    "player2_round16_finals = 1\n",
    " \n",
    "\n",
    "if player1_round16_finals  > player2_round16_finals:\n",
    "    print(\"Argentina is classified for quarter-finals\")\n",
    "\n",
    "elif player1_round16_finals == player2_round16_finals:\n",
    "    print(\"this is a tie\")\n",
    "\n",
    "else:\n",
    "    print(\"total loosers\")"
   ]
  },
  {
   "cell_type": "markdown",
   "id": "d07f3dd1",
   "metadata": {},
   "source": [
    "### Student second script: even more efficient!"
   ]
  },
  {
   "cell_type": "code",
   "execution_count": 11,
   "id": "9d0c62b0",
   "metadata": {},
   "outputs": [
    {
     "name": "stdout",
     "output_type": "stream",
     "text": [
      "Argentina is classified for quarter finals\n"
     ]
    }
   ],
   "source": [
    "player1 = \"Argentina\"\n",
    "player2 = \"Spain\"\n",
    "\n",
    "p1_result = 3\n",
    "p2_result = 2\n",
    "\n",
    "results = {player1 : p1_result, player2: p2_result}\n",
    "\n",
    "score_a = results[player1]\n",
    "score_b = results[player2]\n",
    "\n",
    "if score_a > score_b:\n",
    "    print(f\"{player1} is classified for quarter finals\")\n",
    "elif score_a == score_b:\n",
    "    print(\"this is a tie\")\n",
    "else:\n",
    "    print(\"total loosers\")"
   ]
  }
 ],
 "metadata": {
  "kernelspec": {
   "display_name": "Python 3 (ipykernel)",
   "language": "python",
   "name": "python3"
  },
  "language_info": {
   "codemirror_mode": {
    "name": "ipython",
    "version": 3
   },
   "file_extension": ".py",
   "mimetype": "text/x-python",
   "name": "python",
   "nbconvert_exporter": "python",
   "pygments_lexer": "ipython3",
   "version": "3.11.7"
  }
 },
 "nbformat": 4,
 "nbformat_minor": 5
}
