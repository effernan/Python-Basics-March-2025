{
 "cells": [
  {
   "cell_type": "markdown",
   "id": "68ae09da",
   "metadata": {},
   "source": [
    "# Weather forecast"
   ]
  },
  {
   "cell_type": "markdown",
   "id": "37c46497",
   "metadata": {},
   "source": [
    "It would be a great idea to add yet another icon to your Zurich app: one that contains the weather forecast! December is a very cold month when it rains, snows, and roads get icey, and it would be very useful for Eurovision attendees to have some extra information!\n",
    "\n",
    "Let's create some new scripts and practice conditional statements!"
   ]
  },
  {
   "cell_type": "markdown",
   "id": "42aa2127",
   "metadata": {},
   "source": [
    "*Disclaimer: all the information in this notebook is totally made up by myself and has 0 scientific accuracy ;)*"
   ]
  },
  {
   "cell_type": "markdown",
   "id": "b9ba2e07",
   "metadata": {},
   "source": [
    "### Importing the data"
   ]
  },
  {
   "cell_type": "code",
   "execution_count": 32,
   "id": "a413bd10",
   "metadata": {},
   "outputs": [],
   "source": [
    "import pandas as pd #let's import the pandas library"
   ]
  },
  {
   "cell_type": "code",
   "execution_count": 33,
   "id": "94b7f96f",
   "metadata": {},
   "outputs": [],
   "source": [
    "data = pd.read_csv(\"weather_zurich.csv\", index_col = 0) #and now let's open the weather_zurich csv dataframe "
   ]
  },
  {
   "cell_type": "code",
   "execution_count": 34,
   "id": "6972c455",
   "metadata": {},
   "outputs": [
    {
     "data": {
      "text/html": [
       "<div>\n",
       "<style scoped>\n",
       "    .dataframe tbody tr th:only-of-type {\n",
       "        vertical-align: middle;\n",
       "    }\n",
       "\n",
       "    .dataframe tbody tr th {\n",
       "        vertical-align: top;\n",
       "    }\n",
       "\n",
       "    .dataframe thead th {\n",
       "        text-align: right;\n",
       "    }\n",
       "</style>\n",
       "<table border=\"1\" class=\"dataframe\">\n",
       "  <thead>\n",
       "    <tr style=\"text-align: right;\">\n",
       "      <th></th>\n",
       "      <th>Day</th>\n",
       "      <th>Humidity</th>\n",
       "      <th>Temperature</th>\n",
       "    </tr>\n",
       "  </thead>\n",
       "  <tbody>\n",
       "    <tr>\n",
       "      <th>0</th>\n",
       "      <td>Monday</td>\n",
       "      <td>85</td>\n",
       "      <td>8</td>\n",
       "    </tr>\n",
       "    <tr>\n",
       "      <th>1</th>\n",
       "      <td>Tuesday</td>\n",
       "      <td>70</td>\n",
       "      <td>7</td>\n",
       "    </tr>\n",
       "    <tr>\n",
       "      <th>2</th>\n",
       "      <td>Wednesday</td>\n",
       "      <td>90</td>\n",
       "      <td>2</td>\n",
       "    </tr>\n",
       "    <tr>\n",
       "      <th>3</th>\n",
       "      <td>Thursday</td>\n",
       "      <td>60</td>\n",
       "      <td>3</td>\n",
       "    </tr>\n",
       "    <tr>\n",
       "      <th>4</th>\n",
       "      <td>Friday</td>\n",
       "      <td>85</td>\n",
       "      <td>2</td>\n",
       "    </tr>\n",
       "    <tr>\n",
       "      <th>5</th>\n",
       "      <td>Saturday</td>\n",
       "      <td>90</td>\n",
       "      <td>1</td>\n",
       "    </tr>\n",
       "    <tr>\n",
       "      <th>6</th>\n",
       "      <td>Sunday</td>\n",
       "      <td>90</td>\n",
       "      <td>0</td>\n",
       "    </tr>\n",
       "  </tbody>\n",
       "</table>\n",
       "</div>"
      ],
      "text/plain": [
       "         Day  Humidity  Temperature\n",
       "0     Monday        85            8\n",
       "1    Tuesday        70            7\n",
       "2  Wednesday        90            2\n",
       "3   Thursday        60            3\n",
       "4     Friday        85            2\n",
       "5   Saturday        90            1\n",
       "6     Sunday        90            0"
      ]
     },
     "execution_count": 34,
     "metadata": {},
     "output_type": "execute_result"
    }
   ],
   "source": [
    "data"
   ]
  },
  {
   "cell_type": "markdown",
   "id": "b72f3475",
   "metadata": {},
   "source": [
    "# 1. Adding one rain column"
   ]
  },
  {
   "cell_type": "markdown",
   "id": "8079d2ca",
   "metadata": {},
   "source": [
    "We would like to add one extra column to our weather forecast called \"Precipitations\". We know that in Zurich it rains when Humidity is equal or bigger than 85.\n",
    "\n",
    "Let's begin creating an if statement that prints \"It's raining\" when humidity is equal or bigger than 85."
   ]
  },
  {
   "cell_type": "code",
   "execution_count": 4,
   "id": "004646db",
   "metadata": {},
   "outputs": [],
   "source": [
    "#Your code in here"
   ]
  },
  {
   "cell_type": "code",
   "execution_count": 5,
   "id": "f0213abb",
   "metadata": {},
   "outputs": [],
   "source": [
    "#Solution"
   ]
  },
  {
   "cell_type": "code",
   "execution_count": 35,
   "id": "ba633b9e",
   "metadata": {},
   "outputs": [],
   "source": [
    "humidity = 85"
   ]
  },
  {
   "cell_type": "code",
   "execution_count": 36,
   "id": "c144ef00",
   "metadata": {},
   "outputs": [
    {
     "name": "stdout",
     "output_type": "stream",
     "text": [
      "It's raining\n"
     ]
    }
   ],
   "source": [
    "if humidity >= 85:\n",
    "    print(\"It's raining\")"
   ]
  },
  {
   "cell_type": "markdown",
   "id": "27d9f12c",
   "metadata": {},
   "source": [
    "Now let's add one extra else statement that prints \"It's not raining\" when humidity is smaller than 85. "
   ]
  },
  {
   "cell_type": "code",
   "execution_count": 8,
   "id": "4c65ae7b",
   "metadata": {},
   "outputs": [],
   "source": [
    "#Your code in here"
   ]
  },
  {
   "cell_type": "code",
   "execution_count": 9,
   "id": "b81c4d32",
   "metadata": {},
   "outputs": [],
   "source": [
    "#Solution"
   ]
  },
  {
   "cell_type": "code",
   "execution_count": 37,
   "id": "0a5923c9",
   "metadata": {},
   "outputs": [
    {
     "name": "stdout",
     "output_type": "stream",
     "text": [
      "It's raining\n"
     ]
    }
   ],
   "source": [
    "if humidity  >= 85:\n",
    "    print(\"It's raining\")\n",
    "else:\n",
    "    print(\"It's not raining\")"
   ]
  },
  {
   "cell_type": "markdown",
   "id": "943c062c",
   "metadata": {},
   "source": [
    "And now let's transform that if statement into a function called \"rain\" that will be able to tell us whether it is raining or not. Let's use now a return function instead of a print one to be able to use that data later on."
   ]
  },
  {
   "cell_type": "code",
   "execution_count": 11,
   "id": "cf309aba",
   "metadata": {},
   "outputs": [],
   "source": [
    "#Your code in here"
   ]
  },
  {
   "cell_type": "code",
   "execution_count": 38,
   "id": "a69de4b5",
   "metadata": {},
   "outputs": [],
   "source": [
    "#Solution \n",
    "\n",
    "def rain(humidity):\n",
    "    if humidity >= 85:\n",
    "        return(\"It's raining\")\n",
    "    else:\n",
    "        return(\"It's not raining\")"
   ]
  },
  {
   "cell_type": "code",
   "execution_count": 39,
   "id": "f5acbc7a",
   "metadata": {},
   "outputs": [
    {
     "data": {
      "text/plain": [
       "\"It's not raining\""
      ]
     },
     "execution_count": 39,
     "metadata": {},
     "output_type": "execute_result"
    }
   ],
   "source": [
    "rain(70) #Tuesday"
   ]
  },
  {
   "cell_type": "markdown",
   "id": "ee4fd1c4",
   "metadata": {},
   "source": [
    "Now let's pass our function to all the humidity in all the days of the week and let's add one column called \"Rain\" where we introduce values \"yes\" or \"no\"."
   ]
  },
  {
   "cell_type": "code",
   "execution_count": 14,
   "id": "16aaf264",
   "metadata": {},
   "outputs": [],
   "source": [
    "#Your code here"
   ]
  },
  {
   "cell_type": "code",
   "execution_count": 15,
   "id": "28b12917",
   "metadata": {},
   "outputs": [],
   "source": [
    "#Solution"
   ]
  },
  {
   "cell_type": "code",
   "execution_count": 40,
   "id": "cb6d1eb2",
   "metadata": {},
   "outputs": [
    {
     "data": {
      "text/plain": [
       "[85, 70, 90, 60, 85, 90, 90]"
      ]
     },
     "execution_count": 40,
     "metadata": {},
     "output_type": "execute_result"
    }
   ],
   "source": [
    "Humidity = data[\"Humidity\"].to_list() #we extract the column from the pandas dataframe to have a look at the data\n",
    "Humidity"
   ]
  },
  {
   "cell_type": "code",
   "execution_count": 41,
   "id": "2c977a28",
   "metadata": {},
   "outputs": [
    {
     "name": "stdout",
     "output_type": "stream",
     "text": [
      "It's raining\n",
      "It's not raining\n",
      "It's raining\n",
      "It's not raining\n",
      "It's raining\n",
      "It's raining\n",
      "It's raining\n"
     ]
    }
   ],
   "source": [
    "print(rain(85)) #then we pass our function to each value\n",
    "print(rain(70))\n",
    "print(rain(90))\n",
    "print(rain(60))\n",
    "print(rain(85))\n",
    "print(rain(90))\n",
    "print(rain(90))"
   ]
  },
  {
   "cell_type": "markdown",
   "id": "93fa3109",
   "metadata": {},
   "source": [
    "Just to let you know, we can also use the function \"map\" to do the same thing: apply a function (rain()) to a list of values (humidity)."
   ]
  },
  {
   "cell_type": "code",
   "execution_count": 44,
   "id": "a8aec1f8",
   "metadata": {},
   "outputs": [],
   "source": [
    "rain_forecast = list(map(rain, Humidity))"
   ]
  },
  {
   "cell_type": "code",
   "execution_count": 45,
   "id": "8acf615b",
   "metadata": {},
   "outputs": [
    {
     "data": {
      "text/plain": [
       "[\"It's raining\",\n",
       " \"It's not raining\",\n",
       " \"It's raining\",\n",
       " \"It's not raining\",\n",
       " \"It's raining\",\n",
       " \"It's raining\",\n",
       " \"It's raining\"]"
      ]
     },
     "execution_count": 45,
     "metadata": {},
     "output_type": "execute_result"
    }
   ],
   "source": [
    "rain_forecast"
   ]
  },
  {
   "cell_type": "markdown",
   "id": "4e5e4b6e",
   "metadata": {},
   "source": [
    "And now let's add that column to our dataframe (You don´t know how to use Pandas yet so just run the following cell!)"
   ]
  },
  {
   "cell_type": "code",
   "execution_count": 46,
   "id": "150c6405",
   "metadata": {},
   "outputs": [],
   "source": [
    "data[\"Rain Forecast\"] = rain_forecast"
   ]
  },
  {
   "cell_type": "code",
   "execution_count": 47,
   "id": "445b2f35",
   "metadata": {},
   "outputs": [
    {
     "data": {
      "text/html": [
       "<div>\n",
       "<style scoped>\n",
       "    .dataframe tbody tr th:only-of-type {\n",
       "        vertical-align: middle;\n",
       "    }\n",
       "\n",
       "    .dataframe tbody tr th {\n",
       "        vertical-align: top;\n",
       "    }\n",
       "\n",
       "    .dataframe thead th {\n",
       "        text-align: right;\n",
       "    }\n",
       "</style>\n",
       "<table border=\"1\" class=\"dataframe\">\n",
       "  <thead>\n",
       "    <tr style=\"text-align: right;\">\n",
       "      <th></th>\n",
       "      <th>Day</th>\n",
       "      <th>Humidity</th>\n",
       "      <th>Temperature</th>\n",
       "      <th>Rain Forecast</th>\n",
       "    </tr>\n",
       "  </thead>\n",
       "  <tbody>\n",
       "    <tr>\n",
       "      <th>0</th>\n",
       "      <td>Monday</td>\n",
       "      <td>85</td>\n",
       "      <td>8</td>\n",
       "      <td>It's raining</td>\n",
       "    </tr>\n",
       "    <tr>\n",
       "      <th>1</th>\n",
       "      <td>Tuesday</td>\n",
       "      <td>70</td>\n",
       "      <td>7</td>\n",
       "      <td>It's not raining</td>\n",
       "    </tr>\n",
       "    <tr>\n",
       "      <th>2</th>\n",
       "      <td>Wednesday</td>\n",
       "      <td>90</td>\n",
       "      <td>2</td>\n",
       "      <td>It's raining</td>\n",
       "    </tr>\n",
       "    <tr>\n",
       "      <th>3</th>\n",
       "      <td>Thursday</td>\n",
       "      <td>60</td>\n",
       "      <td>3</td>\n",
       "      <td>It's not raining</td>\n",
       "    </tr>\n",
       "    <tr>\n",
       "      <th>4</th>\n",
       "      <td>Friday</td>\n",
       "      <td>85</td>\n",
       "      <td>2</td>\n",
       "      <td>It's raining</td>\n",
       "    </tr>\n",
       "    <tr>\n",
       "      <th>5</th>\n",
       "      <td>Saturday</td>\n",
       "      <td>90</td>\n",
       "      <td>1</td>\n",
       "      <td>It's raining</td>\n",
       "    </tr>\n",
       "    <tr>\n",
       "      <th>6</th>\n",
       "      <td>Sunday</td>\n",
       "      <td>90</td>\n",
       "      <td>0</td>\n",
       "      <td>It's raining</td>\n",
       "    </tr>\n",
       "  </tbody>\n",
       "</table>\n",
       "</div>"
      ],
      "text/plain": [
       "         Day  Humidity  Temperature     Rain Forecast\n",
       "0     Monday        85            8      It's raining\n",
       "1    Tuesday        70            7  It's not raining\n",
       "2  Wednesday        90            2      It's raining\n",
       "3   Thursday        60            3  It's not raining\n",
       "4     Friday        85            2      It's raining\n",
       "5   Saturday        90            1      It's raining\n",
       "6     Sunday        90            0      It's raining"
      ]
     },
     "execution_count": 47,
     "metadata": {},
     "output_type": "execute_result"
    }
   ],
   "source": [
    "data"
   ]
  },
  {
   "cell_type": "markdown",
   "id": "2145efc4",
   "metadata": {},
   "source": [
    "# 2. Adding one Ice column"
   ]
  },
  {
   "cell_type": "markdown",
   "id": "06c367c4",
   "metadata": {},
   "source": [
    "Roads in Switzerland in December can get quite icey. Let's add one extra column to our datafarme called \"Ice forecast\" where we indicate whether roads will not have ice (temperature equal or bigger than 3 Celsius), a little bit of ice (between 1 and 2 Celsius) and a lot of ice (0 or less Celsius). \n",
    "\n",
    "To do this we will use if, elif, and else statements!"
   ]
  },
  {
   "cell_type": "code",
   "execution_count": 22,
   "id": "8ebaea46",
   "metadata": {},
   "outputs": [],
   "source": [
    "#Your code in here"
   ]
  },
  {
   "cell_type": "code",
   "execution_count": 23,
   "id": "9b1769b2",
   "metadata": {},
   "outputs": [],
   "source": [
    "#Solution"
   ]
  },
  {
   "cell_type": "code",
   "execution_count": 48,
   "id": "2d99a909",
   "metadata": {},
   "outputs": [
    {
     "data": {
      "text/plain": [
       "[8, 7, 2, 3, 2, 1, 0]"
      ]
     },
     "execution_count": 48,
     "metadata": {},
     "output_type": "execute_result"
    }
   ],
   "source": [
    "temperature = data[\"Temperature\"].to_list() #first we extract and transform the temperature column into a list \n",
    "temperature"
   ]
  },
  {
   "cell_type": "code",
   "execution_count": 49,
   "id": "0d2c2e13",
   "metadata": {},
   "outputs": [],
   "source": [
    "#Then we define a new function called ice\n",
    "\n",
    "def ice(x):\n",
    "    if x >= 3:\n",
    "        return(\"Not ice\") #remember to write return statements instead of print ones!\n",
    "    elif x in range(1, 3): #we write that to indicate in between 1 and two (and we have to add 3 because of Pyhon indexing!)\n",
    "        return(\"A little bit of ice\")\n",
    "    else:\n",
    "        return(\"A lot of ice\")"
   ]
  },
  {
   "cell_type": "code",
   "execution_count": 50,
   "id": "bb2dacb8",
   "metadata": {},
   "outputs": [
    {
     "data": {
      "text/plain": [
       "['Not ice',\n",
       " 'Not ice',\n",
       " 'A little bit of ice',\n",
       " 'Not ice',\n",
       " 'A little bit of ice',\n",
       " 'A little bit of ice',\n",
       " 'A lot of ice']"
      ]
     },
     "execution_count": 50,
     "metadata": {},
     "output_type": "execute_result"
    }
   ],
   "source": [
    "ice_forecast = list(map(ice, temperature)) #now we apply our function to the temperature column\n",
    "ice_forecast"
   ]
  },
  {
   "cell_type": "code",
   "execution_count": 51,
   "id": "b22a43ea",
   "metadata": {},
   "outputs": [],
   "source": [
    "data[\"Ice Forecast\"] = ice_forecast #and now we add the column to our dataframe"
   ]
  },
  {
   "cell_type": "code",
   "execution_count": 52,
   "id": "49dfe48b",
   "metadata": {},
   "outputs": [
    {
     "data": {
      "text/html": [
       "<div>\n",
       "<style scoped>\n",
       "    .dataframe tbody tr th:only-of-type {\n",
       "        vertical-align: middle;\n",
       "    }\n",
       "\n",
       "    .dataframe tbody tr th {\n",
       "        vertical-align: top;\n",
       "    }\n",
       "\n",
       "    .dataframe thead th {\n",
       "        text-align: right;\n",
       "    }\n",
       "</style>\n",
       "<table border=\"1\" class=\"dataframe\">\n",
       "  <thead>\n",
       "    <tr style=\"text-align: right;\">\n",
       "      <th></th>\n",
       "      <th>Day</th>\n",
       "      <th>Humidity</th>\n",
       "      <th>Temperature</th>\n",
       "      <th>Rain Forecast</th>\n",
       "      <th>Ice Forecast</th>\n",
       "    </tr>\n",
       "  </thead>\n",
       "  <tbody>\n",
       "    <tr>\n",
       "      <th>0</th>\n",
       "      <td>Monday</td>\n",
       "      <td>85</td>\n",
       "      <td>8</td>\n",
       "      <td>It's raining</td>\n",
       "      <td>Not ice</td>\n",
       "    </tr>\n",
       "    <tr>\n",
       "      <th>1</th>\n",
       "      <td>Tuesday</td>\n",
       "      <td>70</td>\n",
       "      <td>7</td>\n",
       "      <td>It's not raining</td>\n",
       "      <td>Not ice</td>\n",
       "    </tr>\n",
       "    <tr>\n",
       "      <th>2</th>\n",
       "      <td>Wednesday</td>\n",
       "      <td>90</td>\n",
       "      <td>2</td>\n",
       "      <td>It's raining</td>\n",
       "      <td>A little bit of ice</td>\n",
       "    </tr>\n",
       "    <tr>\n",
       "      <th>3</th>\n",
       "      <td>Thursday</td>\n",
       "      <td>60</td>\n",
       "      <td>3</td>\n",
       "      <td>It's not raining</td>\n",
       "      <td>Not ice</td>\n",
       "    </tr>\n",
       "    <tr>\n",
       "      <th>4</th>\n",
       "      <td>Friday</td>\n",
       "      <td>85</td>\n",
       "      <td>2</td>\n",
       "      <td>It's raining</td>\n",
       "      <td>A little bit of ice</td>\n",
       "    </tr>\n",
       "    <tr>\n",
       "      <th>5</th>\n",
       "      <td>Saturday</td>\n",
       "      <td>90</td>\n",
       "      <td>1</td>\n",
       "      <td>It's raining</td>\n",
       "      <td>A little bit of ice</td>\n",
       "    </tr>\n",
       "    <tr>\n",
       "      <th>6</th>\n",
       "      <td>Sunday</td>\n",
       "      <td>90</td>\n",
       "      <td>0</td>\n",
       "      <td>It's raining</td>\n",
       "      <td>A lot of ice</td>\n",
       "    </tr>\n",
       "  </tbody>\n",
       "</table>\n",
       "</div>"
      ],
      "text/plain": [
       "         Day  Humidity  Temperature     Rain Forecast         Ice Forecast\n",
       "0     Monday        85            8      It's raining              Not ice\n",
       "1    Tuesday        70            7  It's not raining              Not ice\n",
       "2  Wednesday        90            2      It's raining  A little bit of ice\n",
       "3   Thursday        60            3  It's not raining              Not ice\n",
       "4     Friday        85            2      It's raining  A little bit of ice\n",
       "5   Saturday        90            1      It's raining  A little bit of ice\n",
       "6     Sunday        90            0      It's raining         A lot of ice"
      ]
     },
     "execution_count": 52,
     "metadata": {},
     "output_type": "execute_result"
    }
   ],
   "source": [
    "data"
   ]
  },
  {
   "cell_type": "code",
   "execution_count": null,
   "id": "ae261850",
   "metadata": {},
   "outputs": [],
   "source": []
  }
 ],
 "metadata": {
  "kernelspec": {
   "display_name": "Python 3 (ipykernel)",
   "language": "python",
   "name": "python3"
  },
  "language_info": {
   "codemirror_mode": {
    "name": "ipython",
    "version": 3
   },
   "file_extension": ".py",
   "mimetype": "text/x-python",
   "name": "python",
   "nbconvert_exporter": "python",
   "pygments_lexer": "ipython3",
   "version": "3.11.7"
  }
 },
 "nbformat": 4,
 "nbformat_minor": 5
}
