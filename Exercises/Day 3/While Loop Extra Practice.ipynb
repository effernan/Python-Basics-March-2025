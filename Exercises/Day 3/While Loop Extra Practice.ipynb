{
 "cells": [
  {
   "cell_type": "markdown",
   "id": "d19a2e0c",
   "metadata": {},
   "source": [
    "References: exercise addapted from https://www.codecademy.com/enrolled/courses/learn-c-plus-plus"
   ]
  },
  {
   "cell_type": "markdown",
   "id": "a55b3833",
   "metadata": {},
   "source": [
    "# Creating a safe PIN access for the Banking Industry"
   ]
  },
  {
   "cell_type": "markdown",
   "id": "96d64662",
   "metadata": {},
   "source": [
    "You work for a Swiss Bank and you are in charge of updrading the old pin access security script with a new one for a phone app to give access to clients after they wroge their correct pin. This is the old script:"
   ]
  },
  {
   "cell_type": "code",
   "execution_count": 1,
   "id": "d40f400c",
   "metadata": {},
   "outputs": [],
   "source": [
    "pin = 0 #initialize the pin to a value"
   ]
  },
  {
   "cell_type": "code",
   "execution_count": 2,
   "id": "6c528096",
   "metadata": {},
   "outputs": [
    {
     "name": "stdout",
     "output_type": "stream",
     "text": [
      "Enter the PIN: 7890\n",
      "Not accepted. Try again.\n",
      "Enter the PIN: 1234\n",
      "You now have access\n"
     ]
    }
   ],
   "source": [
    "while pin != 1234:\n",
    "    pin = int(input(\"Enter the PIN: \"))  # Ask for user input\n",
    "    if pin != 1234:\n",
    "        print(\"Not accepted. Try again.\")\n",
    "    else:\n",
    "        print(\"You now have access\")\n",
    "        break  # Exit the loop when the correct PIN is entered"
   ]
  },
  {
   "cell_type": "markdown",
   "id": "0d52f957",
   "metadata": {},
   "source": [
    "Now modify that script to include:\n",
    "    ** You only have 5 attempts to enter the right pin number. Block the user in attempt number 6.\n",
    "    ** Change the pin code to a 5 letter number instead of 4."
   ]
  },
  {
   "cell_type": "code",
   "execution_count": 3,
   "id": "964258ac",
   "metadata": {},
   "outputs": [],
   "source": [
    "#Your code in here"
   ]
  },
  {
   "cell_type": "code",
   "execution_count": 7,
   "id": "e64331ad",
   "metadata": {},
   "outputs": [],
   "source": [
    "#Solution\n",
    "\n",
    "MAX_ATTEMPTS = 5  # Set a maximum number of attempts\n",
    "\n",
    "attempts = 0"
   ]
  },
  {
   "cell_type": "code",
   "execution_count": 8,
   "id": "7d6efa6b",
   "metadata": {},
   "outputs": [
    {
     "name": "stdout",
     "output_type": "stream",
     "text": [
      "Enter the 5-digit PIN: 12345\n",
      "You now have access\n"
     ]
    }
   ],
   "source": [
    "while attempts < MAX_ATTEMPTS:\n",
    "    try:\n",
    "        pin = int(input(\"Enter the 5-digit PIN: \"))\n",
    "        if pin == 12345:\n",
    "            print(\"You now have access\")\n",
    "            break\n",
    "        else:\n",
    "            print(\"Not accepted. Try again.\")\n",
    "            attempts += 1\n",
    "    except ValueError:\n",
    "        print(\"Please enter a valid 4-digit number.\")\n",
    "\n",
    "if attempts == MAX_ATTEMPTS:\n",
    "    print(\"Too many incorrect attempts. Access denied.\")"
   ]
  },
  {
   "cell_type": "code",
   "execution_count": null,
   "id": "82df65b9",
   "metadata": {},
   "outputs": [],
   "source": []
  }
 ],
 "metadata": {
  "kernelspec": {
   "display_name": "Python 3 (ipykernel)",
   "language": "python",
   "name": "python3"
  },
  "language_info": {
   "codemirror_mode": {
    "name": "ipython",
    "version": 3
   },
   "file_extension": ".py",
   "mimetype": "text/x-python",
   "name": "python",
   "nbconvert_exporter": "python",
   "pygments_lexer": "ipython3",
   "version": "3.11.7"
  }
 },
 "nbformat": 4,
 "nbformat_minor": 5
}
