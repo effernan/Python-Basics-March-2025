{
 "cells": [
  {
   "cell_type": "markdown",
   "id": "24ce2e26",
   "metadata": {},
   "source": [
    "# Studying Swiss Demographics"
   ]
  },
  {
   "cell_type": "markdown",
   "id": "6f0ce3d2",
   "metadata": {},
   "source": [
    "Eurovision attendees are going to have some traveling time and they are curious about Switzerland. Let's do yet another icon with some Wikipedia data about Swiss demographics (https://en.wikipedia.org/wiki/List_of_cities_in_Switzerland) and let's practice how to work with control flow (for and while loops!)."
   ]
  },
  {
   "cell_type": "markdown",
   "id": "07c29ad4",
   "metadata": {},
   "source": [
    "# First we import the data"
   ]
  },
  {
   "cell_type": "code",
   "execution_count": 15,
   "id": "5e04f0d7",
   "metadata": {},
   "outputs": [],
   "source": [
    "import pandas as pd"
   ]
  },
  {
   "cell_type": "code",
   "execution_count": 16,
   "id": "528ca886",
   "metadata": {},
   "outputs": [],
   "source": [
    "data = pd.read_csv(\"swiss_cities.csv\", index_col = 0)"
   ]
  },
  {
   "cell_type": "code",
   "execution_count": 17,
   "id": "b61b476b",
   "metadata": {},
   "outputs": [
    {
     "data": {
      "text/html": [
       "<div>\n",
       "<style scoped>\n",
       "    .dataframe tbody tr th:only-of-type {\n",
       "        vertical-align: middle;\n",
       "    }\n",
       "\n",
       "    .dataframe tbody tr th {\n",
       "        vertical-align: top;\n",
       "    }\n",
       "\n",
       "    .dataframe thead th {\n",
       "        text-align: right;\n",
       "    }\n",
       "</style>\n",
       "<table border=\"1\" class=\"dataframe\">\n",
       "  <thead>\n",
       "    <tr style=\"text-align: right;\">\n",
       "      <th></th>\n",
       "      <th>Cities</th>\n",
       "      <th>population</th>\n",
       "      <th>language</th>\n",
       "    </tr>\n",
       "  </thead>\n",
       "  <tbody>\n",
       "    <tr>\n",
       "      <th>0</th>\n",
       "      <td>Zurich</td>\n",
       "      <td>415000</td>\n",
       "      <td>german</td>\n",
       "    </tr>\n",
       "    <tr>\n",
       "      <th>1</th>\n",
       "      <td>Geneva</td>\n",
       "      <td>201000</td>\n",
       "      <td>french</td>\n",
       "    </tr>\n",
       "    <tr>\n",
       "      <th>2</th>\n",
       "      <td>Basel</td>\n",
       "      <td>177000</td>\n",
       "      <td>german</td>\n",
       "    </tr>\n",
       "    <tr>\n",
       "      <th>3</th>\n",
       "      <td>Lausanne</td>\n",
       "      <td>139000</td>\n",
       "      <td>french</td>\n",
       "    </tr>\n",
       "    <tr>\n",
       "      <th>4</th>\n",
       "      <td>Bern</td>\n",
       "      <td>133000</td>\n",
       "      <td>german</td>\n",
       "    </tr>\n",
       "    <tr>\n",
       "      <th>5</th>\n",
       "      <td>Lucerne</td>\n",
       "      <td>81000</td>\n",
       "      <td>german</td>\n",
       "    </tr>\n",
       "    <tr>\n",
       "      <th>6</th>\n",
       "      <td>St. Gallen</td>\n",
       "      <td>75000</td>\n",
       "      <td>german</td>\n",
       "    </tr>\n",
       "    <tr>\n",
       "      <th>7</th>\n",
       "      <td>Lugano</td>\n",
       "      <td>63000</td>\n",
       "      <td>italian</td>\n",
       "    </tr>\n",
       "    <tr>\n",
       "      <th>8</th>\n",
       "      <td>Fribourg</td>\n",
       "      <td>38000</td>\n",
       "      <td>german and french</td>\n",
       "    </tr>\n",
       "  </tbody>\n",
       "</table>\n",
       "</div>"
      ],
      "text/plain": [
       "       Cities  population           language\n",
       "0      Zurich      415000             german\n",
       "1      Geneva      201000             french\n",
       "2       Basel      177000             german\n",
       "3    Lausanne      139000             french\n",
       "4        Bern      133000             german\n",
       "5     Lucerne       81000             german\n",
       "6  St. Gallen       75000             german\n",
       "7      Lugano       63000            italian\n",
       "8    Fribourg       38000  german and french"
      ]
     },
     "execution_count": 17,
     "metadata": {},
     "output_type": "execute_result"
    }
   ],
   "source": [
    "data"
   ]
  },
  {
   "cell_type": "markdown",
   "id": "9cd90cae",
   "metadata": {},
   "source": [
    "# 1. For loops"
   ]
  },
  {
   "cell_type": "markdown",
   "id": "a0093eec",
   "metadata": {},
   "source": [
    "Let's begin practicing how to loop over lists! Bellow you can find a pandas column transform into a list (remember this trick for future exercises!)"
   ]
  },
  {
   "cell_type": "code",
   "execution_count": 18,
   "id": "c03cf0cc",
   "metadata": {},
   "outputs": [
    {
     "data": {
      "text/plain": [
       "['Zurich',\n",
       " 'Geneva',\n",
       " 'Basel',\n",
       " 'Lausanne',\n",
       " 'Bern',\n",
       " 'Lucerne',\n",
       " 'St. Gallen',\n",
       " 'Lugano',\n",
       " 'Fribourg']"
      ]
     },
     "execution_count": 18,
     "metadata": {},
     "output_type": "execute_result"
    }
   ],
   "source": [
    "cities = data[\"Cities\"].to_list()\n",
    "cities"
   ]
  },
  {
   "cell_type": "markdown",
   "id": "37e71d4f",
   "metadata": {},
   "source": [
    "Now write a for loop that prints all the cities in that list."
   ]
  },
  {
   "cell_type": "code",
   "execution_count": 5,
   "id": "8634e090",
   "metadata": {},
   "outputs": [],
   "source": [
    "#Your code in here"
   ]
  },
  {
   "cell_type": "code",
   "execution_count": 19,
   "id": "ee4013b4",
   "metadata": {},
   "outputs": [
    {
     "name": "stdout",
     "output_type": "stream",
     "text": [
      "Zurich\n",
      "Geneva\n",
      "Basel\n",
      "Lausanne\n",
      "Bern\n",
      "Lucerne\n",
      "St. Gallen\n",
      "Lugano\n",
      "Fribourg\n"
     ]
    }
   ],
   "source": [
    "#Solution\n",
    "\n",
    "for i in cities:\n",
    "    print(i)"
   ]
  },
  {
   "cell_type": "markdown",
   "id": "1e9412cb",
   "metadata": {},
   "source": [
    "Now let's see if we can loop not only over lists but also over tuples. First let's transform the language column into a list and then store it into a variable called language. Then convert that variable into a tuple also naming it language, and try to loop over it."
   ]
  },
  {
   "cell_type": "code",
   "execution_count": 7,
   "id": "dad9d577",
   "metadata": {},
   "outputs": [],
   "source": [
    "#Your code here"
   ]
  },
  {
   "cell_type": "code",
   "execution_count": 21,
   "id": "d6578262",
   "metadata": {},
   "outputs": [],
   "source": [
    "#Solution\n",
    "\n",
    "language = data[\"language\"].to_list()\n",
    "language = tuple(language)"
   ]
  },
  {
   "cell_type": "code",
   "execution_count": 22,
   "id": "47b12015",
   "metadata": {},
   "outputs": [
    {
     "data": {
      "text/plain": [
       "('german',\n",
       " 'french',\n",
       " 'german',\n",
       " 'french',\n",
       " 'german',\n",
       " 'german',\n",
       " 'german',\n",
       " 'italian',\n",
       " 'german and french')"
      ]
     },
     "execution_count": 22,
     "metadata": {},
     "output_type": "execute_result"
    }
   ],
   "source": [
    "language"
   ]
  },
  {
   "cell_type": "code",
   "execution_count": 23,
   "id": "4b7bead2",
   "metadata": {},
   "outputs": [
    {
     "name": "stdout",
     "output_type": "stream",
     "text": [
      "german\n",
      "french\n",
      "german\n",
      "french\n",
      "german\n",
      "german\n",
      "german\n",
      "italian\n",
      "german and french\n"
     ]
    }
   ],
   "source": [
    "for i in language: #so we can also loop over tuples\n",
    "    print(i)"
   ]
  },
  {
   "cell_type": "markdown",
   "id": "eb635822",
   "metadata": {},
   "source": [
    "# 2. For loops + elif statements"
   ]
  },
  {
   "cell_type": "markdown",
   "id": "76682e70",
   "metadata": {},
   "source": [
    "Now let's combine what we have learnt about for loops and elif statements. First let's create a variable named population with the information in that column in the data frame."
   ]
  },
  {
   "cell_type": "code",
   "execution_count": 11,
   "id": "4d6b3f77",
   "metadata": {},
   "outputs": [],
   "source": [
    "#Your code in here"
   ]
  },
  {
   "cell_type": "code",
   "execution_count": 24,
   "id": "94851969",
   "metadata": {},
   "outputs": [
    {
     "data": {
      "text/plain": [
       "[415000, 201000, 177000, 139000, 133000, 81000, 75000, 63000, 38000]"
      ]
     },
     "execution_count": 24,
     "metadata": {},
     "output_type": "execute_result"
    }
   ],
   "source": [
    "#Solution\n",
    "population = data[\"population\"].to_list()\n",
    "population"
   ]
  },
  {
   "cell_type": "markdown",
   "id": "08b574e5",
   "metadata": {},
   "source": [
    "Now let's write a function that classifies swiss cities within 3 categories: big, middle size, and small. Instructions:\n",
    "\n",
    "* Name your function city_size\n",
    "* The parameter of the function should be a lis\n",
    "* Begin writing your function using a for loop to iterate over the parameter (input_list)\n",
    "* Inside the function write 3 conditional statements (1 if and 2 elif) that indicate that big swiss cities are in between 200.000 and 500.000 inhabitants, middle size cities between 100.000 and 190.000, and small size cities between 20.000 and 90.000."
   ]
  },
  {
   "cell_type": "code",
   "execution_count": 13,
   "id": "d368c864",
   "metadata": {},
   "outputs": [],
   "source": [
    "#Your code in here"
   ]
  },
  {
   "cell_type": "code",
   "execution_count": 25,
   "id": "9675e799",
   "metadata": {},
   "outputs": [],
   "source": [
    "#Solution\n",
    "\n",
    "def city_size(input_list):\n",
    "    for i in input_list: \n",
    "        if i > 200000 and i < 500000:\n",
    "            print(\"Big Swiss City\")\n",
    "        elif i > 100000 and i < 190000:\n",
    "            print(\"Middle Size Swiss City\")\n",
    "        elif i > 20000 and i < 90000:\n",
    "            print(\"Small Swiss City\")"
   ]
  },
  {
   "cell_type": "code",
   "execution_count": 26,
   "id": "5b250ddc",
   "metadata": {},
   "outputs": [
    {
     "name": "stdout",
     "output_type": "stream",
     "text": [
      "Big Swiss City\n",
      "Big Swiss City\n",
      "Middle Size Swiss City\n",
      "Middle Size Swiss City\n",
      "Middle Size Swiss City\n",
      "Small Swiss City\n",
      "Small Swiss City\n",
      "Small Swiss City\n",
      "Small Swiss City\n"
     ]
    }
   ],
   "source": [
    "city_size(population)"
   ]
  },
  {
   "cell_type": "markdown",
   "id": "1651b37c",
   "metadata": {},
   "source": [
    "# 2. While loops"
   ]
  },
  {
   "cell_type": "markdown",
   "id": "e971f4a0",
   "metadata": {},
   "source": [
    "The main difference between for loops and while loops is that while loops only iterate when certain conditions are specified (for example, are true). To practice how to use for loops, let's open a new data frame where a city size column has been added."
   ]
  },
  {
   "cell_type": "code",
   "execution_count": 17,
   "id": "4bcbb377",
   "metadata": {},
   "outputs": [],
   "source": [
    "data_b = pd.read_csv(\"data_b.csv\", index_col = 0)"
   ]
  },
  {
   "cell_type": "code",
   "execution_count": 18,
   "id": "cea66f29",
   "metadata": {},
   "outputs": [
    {
     "data": {
      "text/html": [
       "<div>\n",
       "<style scoped>\n",
       "    .dataframe tbody tr th:only-of-type {\n",
       "        vertical-align: middle;\n",
       "    }\n",
       "\n",
       "    .dataframe tbody tr th {\n",
       "        vertical-align: top;\n",
       "    }\n",
       "\n",
       "    .dataframe thead th {\n",
       "        text-align: right;\n",
       "    }\n",
       "</style>\n",
       "<table border=\"1\" class=\"dataframe\">\n",
       "  <thead>\n",
       "    <tr style=\"text-align: right;\">\n",
       "      <th></th>\n",
       "      <th>Cities</th>\n",
       "      <th>population</th>\n",
       "      <th>language</th>\n",
       "      <th>City Size</th>\n",
       "    </tr>\n",
       "  </thead>\n",
       "  <tbody>\n",
       "    <tr>\n",
       "      <th>0</th>\n",
       "      <td>Zurich</td>\n",
       "      <td>415000</td>\n",
       "      <td>german</td>\n",
       "      <td>Big City</td>\n",
       "    </tr>\n",
       "    <tr>\n",
       "      <th>1</th>\n",
       "      <td>Geneva</td>\n",
       "      <td>201000</td>\n",
       "      <td>french</td>\n",
       "      <td>Big City</td>\n",
       "    </tr>\n",
       "    <tr>\n",
       "      <th>2</th>\n",
       "      <td>Basel</td>\n",
       "      <td>177000</td>\n",
       "      <td>german</td>\n",
       "      <td>Middle Size City</td>\n",
       "    </tr>\n",
       "    <tr>\n",
       "      <th>3</th>\n",
       "      <td>Lausanne</td>\n",
       "      <td>139000</td>\n",
       "      <td>french</td>\n",
       "      <td>Middle Size City</td>\n",
       "    </tr>\n",
       "    <tr>\n",
       "      <th>4</th>\n",
       "      <td>Bern</td>\n",
       "      <td>133000</td>\n",
       "      <td>german</td>\n",
       "      <td>Middle Size City</td>\n",
       "    </tr>\n",
       "    <tr>\n",
       "      <th>5</th>\n",
       "      <td>Lucerne</td>\n",
       "      <td>81000</td>\n",
       "      <td>german</td>\n",
       "      <td>Small City</td>\n",
       "    </tr>\n",
       "    <tr>\n",
       "      <th>6</th>\n",
       "      <td>St. Gallen</td>\n",
       "      <td>75000</td>\n",
       "      <td>german</td>\n",
       "      <td>Small City</td>\n",
       "    </tr>\n",
       "    <tr>\n",
       "      <th>7</th>\n",
       "      <td>Lugano</td>\n",
       "      <td>63000</td>\n",
       "      <td>italian</td>\n",
       "      <td>Small City</td>\n",
       "    </tr>\n",
       "    <tr>\n",
       "      <th>8</th>\n",
       "      <td>Fribourg</td>\n",
       "      <td>38000</td>\n",
       "      <td>german and french</td>\n",
       "      <td>Small City</td>\n",
       "    </tr>\n",
       "  </tbody>\n",
       "</table>\n",
       "</div>"
      ],
      "text/plain": [
       "       Cities  population           language         City Size\n",
       "0      Zurich      415000             german          Big City\n",
       "1      Geneva      201000             french          Big City\n",
       "2       Basel      177000             german  Middle Size City\n",
       "3    Lausanne      139000             french  Middle Size City\n",
       "4        Bern      133000             german  Middle Size City\n",
       "5     Lucerne       81000             german        Small City\n",
       "6  St. Gallen       75000             german        Small City\n",
       "7      Lugano       63000            italian        Small City\n",
       "8    Fribourg       38000  german and french        Small City"
      ]
     },
     "execution_count": 18,
     "metadata": {},
     "output_type": "execute_result"
    }
   ],
   "source": [
    "data_b"
   ]
  },
  {
   "cell_type": "markdown",
   "id": "ff72ed0a",
   "metadata": {},
   "source": [
    "Now that we have a lot of Swiss city demographic analytics, let's imagine that we want to write a simulation software to emulate the population dynamics of Switzerland. \n",
    "\n",
    "So, just to practice while loops (and because this topic is so interesing!):\n",
    "\n",
    "* Let's write 3 while loops (big_city, medium_size_city, small_city).\n",
    "* Try to modify the script from the slides to play around with population sizes among cities.\n",
    "* See how accurate your simulator is compared to the real data."
   ]
  },
  {
   "cell_type": "code",
   "execution_count": 267,
   "id": "48f4b819",
   "metadata": {},
   "outputs": [],
   "source": [
    "#Your code here"
   ]
  },
  {
   "cell_type": "code",
   "execution_count": 19,
   "id": "73b267be",
   "metadata": {},
   "outputs": [],
   "source": [
    "#Solution\n",
    "\n",
    "big_city = 200000 #that is the bare minimum that we have established for considering a city to be big size."
   ]
  },
  {
   "cell_type": "code",
   "execution_count": 20,
   "id": "6b1b10a2",
   "metadata": {},
   "outputs": [
    {
     "name": "stdout",
     "output_type": "stream",
     "text": [
      "200000\n",
      "400000\n"
     ]
    }
   ],
   "source": [
    "while big_city < 415000: #that is our biggest city size\n",
    "    print(big_city)\n",
    "    big_city  += 200000 #that is our observation of the difference between our big city sample"
   ]
  },
  {
   "cell_type": "code",
   "execution_count": 21,
   "id": "25bd10a1",
   "metadata": {},
   "outputs": [],
   "source": [
    "medium_size_city = 100000"
   ]
  },
  {
   "cell_type": "code",
   "execution_count": 22,
   "id": "9f14dd47",
   "metadata": {},
   "outputs": [
    {
     "name": "stdout",
     "output_type": "stream",
     "text": [
      "100000\n",
      "130000\n",
      "160000\n",
      "190000\n"
     ]
    }
   ],
   "source": [
    "while medium_size_city < 200000:\n",
    "    print(medium_size_city)\n",
    "    medium_size_city += 30000"
   ]
  },
  {
   "cell_type": "code",
   "execution_count": 23,
   "id": "9184be23",
   "metadata": {},
   "outputs": [],
   "source": [
    "small_size_city = 30000"
   ]
  },
  {
   "cell_type": "code",
   "execution_count": 24,
   "id": "378112b9",
   "metadata": {},
   "outputs": [
    {
     "name": "stdout",
     "output_type": "stream",
     "text": [
      "30000\n",
      "50000\n",
      "70000\n",
      "90000\n"
     ]
    }
   ],
   "source": [
    "while small_size_city < 100000:\n",
    "    print(small_size_city)\n",
    "    small_size_city += 20000"
   ]
  }
 ],
 "metadata": {
  "kernelspec": {
   "display_name": "Python 3 (ipykernel)",
   "language": "python",
   "name": "python3"
  },
  "language_info": {
   "codemirror_mode": {
    "name": "ipython",
    "version": 3
   },
   "file_extension": ".py",
   "mimetype": "text/x-python",
   "name": "python",
   "nbconvert_exporter": "python",
   "pygments_lexer": "ipython3",
   "version": "3.11.7"
  }
 },
 "nbformat": 4,
 "nbformat_minor": 5
}
