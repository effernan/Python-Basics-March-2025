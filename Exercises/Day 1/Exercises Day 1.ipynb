{
 "cells": [
  {
   "cell_type": "markdown",
   "id": "113d13dd",
   "metadata": {},
   "source": [
    "(C) Elena Fernández Fernández"
   ]
  },
  {
   "cell_type": "markdown",
   "id": "067075b6",
   "metadata": {},
   "source": [
    "# 1. Python Basics\n",
    "# Instructor: Elena Fernández Fernández"
   ]
  },
  {
   "cell_type": "markdown",
   "id": "25004720",
   "metadata": {},
   "source": [
    "# 1. Student Identities"
   ]
  },
  {
   "cell_type": "markdown",
   "id": "0baacab5",
   "metadata": {},
   "source": [
    "**Create a record card for students in your class.** Include the following information (create one variable for each entry):<br>\n",
    "\n",
    "> -  first name,\n",
    "> -  surname, \n",
    "> -  age, \n",
    "> -  nationality, \n",
    "> -  degree, \n",
    "> -  department, \n",
    "> -  year of studies, \n",
    "> -  expected graduation time,\n",
    "> -  title of semester project,\n",
    "> -  course grade\n",
    "> -  attendance\n",
    "\n",
    "\n",
    "Create one final variable (student_identity) that includes all the information about the student. Be careful with spacing and punctuation!"
   ]
  },
  {
   "cell_type": "markdown",
   "id": "51b422a9",
   "metadata": {},
   "source": [
    "### Solution"
   ]
  },
  {
   "cell_type": "code",
   "execution_count": 26,
   "id": "a16c4d67",
   "metadata": {},
   "outputs": [],
   "source": [
    "first_name = \"Anne\"\n",
    "surname = \"Miller\"\n",
    "age = \"19\"\n",
    "nationality = \"Swiss\"\n",
    "degree = \"Political Economy\"\n",
    "department = \"Economics\"\n",
    "year_of_studies = \"Second\"\n",
    "graduation_time = \"2024\"\n",
    "title_semester_project = \"Computational Text Analysis in Political Economy\"\n",
    "course_grade = \"100/100\"\n",
    "attendance = \"100/100\"\n"
   ]
  },
  {
   "cell_type": "code",
   "execution_count": 27,
   "id": "103c5f12",
   "metadata": {},
   "outputs": [],
   "source": [
    "student_identity = first_name + \" \" + surname + \", \" + age + \", \" + nationality + \", \" + degree + \", \" + department + \", \" + year_of_studies + \", \" + graduation_time + \", \" + title_semester_project + \", \" + course_grade + \", \" + attendance + \".\""
   ]
  },
  {
   "cell_type": "code",
   "execution_count": 28,
   "id": "b09b3a5a",
   "metadata": {},
   "outputs": [
    {
     "data": {
      "text/plain": [
       "'Anne Miller, 19, Swiss, Political Economy, Economics, Second, 2024, Computational Text Analysis in Political Economy, 100/100, 100/100.'"
      ]
     },
     "execution_count": 28,
     "metadata": {},
     "output_type": "execute_result"
    }
   ],
   "source": [
    "student_identity"
   ]
  },
  {
   "cell_type": "markdown",
   "id": "cf0ed762",
   "metadata": {},
   "source": [
    "# 2. Grocery Shopping"
   ]
  },
  {
   "cell_type": "markdown",
   "id": "ed57a754",
   "metadata": {},
   "source": [
    "You are on a holiday in Spain and **(obviously!)** you want to go grocery shopping.<br>\n",
    "\n",
    "However, the currency is in Euros, and, as you have just arrived, you need to do a shopping list to calculate how much things cost in there. Create a grocery shopping list where you include the prize of the following items in Euros (create one variable for each entry and add a prize value). Example: one_kilo_of_potatoes = 3\n",
    "\n",
    "> -  one kilo of oranges,\n",
    "> -  one kilo of tomatoes, \n",
    "> -  one watermelon, \n",
    "> -  one box of strawberries,\n",
    "> -  one box of grapes,\n",
    "> -  one kilo of peaches,\n",
    "> -  two hundred grams of Jamón Serrano, \n",
    "> -  two hundred grams of Queso Manchego,\n",
    "> -  one chorizo\n",
    "> -  one morcilla\n",
    "> -  three solomillos\n",
    "> -  three lubinas\n",
    "> -  one kilo of garbanzos (chikpeas), \n",
    "> -  one kilo of fabes (beans), \n",
    "> -  three jars of olives, \n",
    "> -  2 liters of extra virgin olive oil, \n",
    "> -  two loafs of bread,\n",
    "> -  two hundred grams of chocolate powder,\n",
    "> -  two hundred grams of churros,\n",
    "> -  three flans.\n",
    "\n",
    "After that, create one final variable (**grocery_list**) where you sum all the variables that you have just created.<br> \n",
    "\n",
    "Then, transform that value in Euros into Swiss francs. One Swiss Franc is 1.03 Euros (https://www.google.com/finance/quote/CHF-EUR?sa=X&ved=2ahUKEwjs-MLIp6X_AhXbVPEDHUyqDuEQmY0JegQICBAc). Divide your grocery_list value/1.03 Euros, and you will get your prize in Swiss Francs. Name that variable grocery_list_swiss_francs.\n",
    "\n"
   ]
  },
  {
   "cell_type": "markdown",
   "id": "6cc2141c",
   "metadata": {},
   "source": [
    "### Solution"
   ]
  },
  {
   "cell_type": "code",
   "execution_count": 29,
   "id": "5203cc24",
   "metadata": {},
   "outputs": [],
   "source": [
    "oranges = 5\n",
    "tomatoes = 2.50\n",
    "watermelon = 3\n",
    "strawberries = 4\n",
    "grapes = 2\n",
    "peaches = 2\n",
    "jamon_serrano = 3\n",
    "queso_manchego = 3\n",
    "chorizo = 3\n",
    "morcilla = 3\n",
    "solomillos = 60\n",
    "lubinas = 35\n",
    "garbanzos = 5\n",
    "fabes = 5\n",
    "olives = 6\n",
    "bread = 2\n",
    "chocolate = 3\n",
    "churros = 2\n",
    "flans = 4"
   ]
  },
  {
   "cell_type": "code",
   "execution_count": 30,
   "id": "78746197",
   "metadata": {},
   "outputs": [],
   "source": [
    "grocery_list = oranges + tomatoes + watermelon + strawberries + grapes + peaches + jamon_serrano + queso_manchego + chorizo + morcilla + solomillos + lubinas + garbanzos + fabes + olives + bread + chocolate + churros + flans"
   ]
  },
  {
   "cell_type": "code",
   "execution_count": 31,
   "id": "a6d0d890",
   "metadata": {},
   "outputs": [
    {
     "data": {
      "text/plain": [
       "152.5"
      ]
     },
     "execution_count": 31,
     "metadata": {},
     "output_type": "execute_result"
    }
   ],
   "source": [
    "grocery_list"
   ]
  },
  {
   "cell_type": "code",
   "execution_count": 32,
   "id": "7f230fef",
   "metadata": {},
   "outputs": [],
   "source": [
    "grocery_list_swiss_francs = grocery_list/1.03"
   ]
  },
  {
   "cell_type": "code",
   "execution_count": 33,
   "id": "af13768d",
   "metadata": {},
   "outputs": [
    {
     "data": {
      "text/plain": [
       "148.05825242718447"
      ]
     },
     "execution_count": 33,
     "metadata": {},
     "output_type": "execute_result"
    }
   ],
   "source": [
    "grocery_list_swiss_francs"
   ]
  }
 ],
 "metadata": {
  "kernelspec": {
   "display_name": "Python 3 (ipykernel)",
   "language": "python",
   "name": "python3"
  },
  "language_info": {
   "codemirror_mode": {
    "name": "ipython",
    "version": 3
   },
   "file_extension": ".py",
   "mimetype": "text/x-python",
   "name": "python",
   "nbconvert_exporter": "python",
   "pygments_lexer": "ipython3",
   "version": "3.11.7"
  }
 },
 "nbformat": 4,
 "nbformat_minor": 5
}
